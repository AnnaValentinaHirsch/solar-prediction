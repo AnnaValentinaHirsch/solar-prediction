{
 "cells": [
  {
   "cell_type": "code",
   "id": "initial_id",
   "metadata": {
    "collapsed": true,
    "ExecuteTime": {
     "end_time": "2024-06-18T21:07:18.852795Z",
     "start_time": "2024-06-18T21:07:18.716808Z"
    }
   },
   "source": [
    "import importlib\n",
    "import pandas as pd\n",
    "import helperfunctions.preprocessing as prep"
   ],
   "outputs": [],
   "execution_count": 2
  },
  {
   "metadata": {},
   "cell_type": "markdown",
   "source": "# Define Constants\n",
   "id": "d44ac7d0e8c014c4"
  },
  {
   "metadata": {
    "ExecuteTime": {
     "end_time": "2024-06-18T20:42:18.854616Z",
     "start_time": "2024-06-18T20:42:18.849054Z"
    }
   },
   "cell_type": "code",
   "source": [
    "# Constants\n",
    "TRAIN_START =\n",
    "\n",
    "# Column names\n",
    "DATE_COL = \"date\"\n",
    "\n",
    "SOLAR_PATH = \"data/energy_charts.csv\"\n"
   ],
   "id": "2700fc30909b2ee5",
   "outputs": [],
   "execution_count": 6
  },
  {
   "metadata": {
    "ExecuteTime": {
     "end_time": "2024-06-18T21:07:15.639124Z",
     "start_time": "2024-06-18T21:07:15.318597Z"
    }
   },
   "cell_type": "code",
   "source": [
    "# reload module\n",
    "importlib.reload(prep)"
   ],
   "id": "bb53f0c53f5cd9ae",
   "outputs": [
    {
     "ename": "NameError",
     "evalue": "name 'importlib' is not defined",
     "output_type": "error",
     "traceback": [
      "\u001B[0;31m---------------------------------------------------------------------------\u001B[0m",
      "\u001B[0;31mNameError\u001B[0m                                 Traceback (most recent call last)",
      "Cell \u001B[0;32mIn[1], line 2\u001B[0m\n\u001B[1;32m      1\u001B[0m \u001B[38;5;66;03m# reload module\u001B[39;00m\n\u001B[0;32m----> 2\u001B[0m \u001B[43mimportlib\u001B[49m\u001B[38;5;241m.\u001B[39mreload(prep)\n",
      "\u001B[0;31mNameError\u001B[0m: name 'importlib' is not defined"
     ]
    }
   ],
   "execution_count": 1
  },
  {
   "metadata": {},
   "cell_type": "markdown",
   "source": "# Load Data",
   "id": "ed0f3f0f0e21ec95"
  },
  {
   "metadata": {},
   "cell_type": "code",
   "outputs": [],
   "execution_count": null,
   "source": [
    "# Setup\n",
    "solar_ts = pd.read_csv(\"data/energy_charts.csv\", sep=\",\", header=0)\n",
    "solar_ts[\"Datum\"] = pd.to_datetime(solar_ts[\"Datum\"], utc=True)\n",
    "\n",
    "# Split\n",
    "train_ts = solar_ts[solar_ts[\"Datum\"] < \"2023-01-01\"]\n",
    "val_ts = solar_ts[(solar_ts[\"Datum\"] >= \"2023-01-01\") & (solar_ts[\"Datum\"] < \"2024-01-01\")]\n",
    "test_ts = solar_ts[solar_ts[\"Datum\"] >= \"2024-01-01\"]\n",
    "\n",
    "train_ts = train_ts.set_index(keys=\"Datum\", drop=True)\n",
    "val_ts = val_ts.set_index(keys=\"Datum\", drop=True)\n",
    "test_ts = test_ts.set_index(keys=\"Datum\", drop=True)"
   ],
   "id": "2f043afed32711ff"
  },
  {
   "cell_type": "code",
   "id": "113e6eeb23d59c41",
   "metadata": {
    "ExecuteTime": {
     "end_time": "2024-06-18T20:42:33.098933Z",
     "start_time": "2024-06-18T20:42:25.763913Z"
    }
   },
   "source": [
    "# Setup\n",
    "solar_ts = pd.read_csv(SOLAR_PATH, sep=\",\", header=0)\n",
    "solar_ts[\"date\"] = pd.to_datetime(solar_ts[\"Datum\"], utc=True)\n",
    "solar_ts.drop(columns=[\"Datum\"], inplace=True)\n",
    "\n",
    "# Split\n",
    "train_ts, val_ts, test_ts = prep.split_data(solar_ts, TRAIN_END, VAL_END, DATE_COL)\n",
    "\n",
    "# Check\n",
    "train_ts.info()\n",
    "val_ts.info()\n",
    "test_ts.info()"
   ],
   "outputs": [
    {
     "ename": "TypeError",
     "evalue": "cannot do slice indexing on RangeIndex with these indexers [2022-12-31] of type str",
     "output_type": "error",
     "traceback": [
      "\u001B[0;31m---------------------------------------------------------------------------\u001B[0m",
      "\u001B[0;31mTypeError\u001B[0m                                 Traceback (most recent call last)",
      "Cell \u001B[0;32mIn[7], line 7\u001B[0m\n\u001B[1;32m      4\u001B[0m solar_ts\u001B[38;5;241m.\u001B[39mdrop(columns\u001B[38;5;241m=\u001B[39m[\u001B[38;5;124m\"\u001B[39m\u001B[38;5;124mDatum\u001B[39m\u001B[38;5;124m\"\u001B[39m], inplace\u001B[38;5;241m=\u001B[39m\u001B[38;5;28;01mTrue\u001B[39;00m)\n\u001B[1;32m      6\u001B[0m \u001B[38;5;66;03m# Split\u001B[39;00m\n\u001B[0;32m----> 7\u001B[0m train_ts, val_ts, test_ts \u001B[38;5;241m=\u001B[39m \u001B[43mprep\u001B[49m\u001B[38;5;241;43m.\u001B[39;49m\u001B[43msplit_data\u001B[49m\u001B[43m(\u001B[49m\u001B[43msolar_ts\u001B[49m\u001B[43m,\u001B[49m\u001B[43m \u001B[49m\u001B[43mTRAIN_END\u001B[49m\u001B[43m,\u001B[49m\u001B[43m \u001B[49m\u001B[43mVAL_END\u001B[49m\u001B[43m,\u001B[49m\u001B[43m \u001B[49m\u001B[43mDATE_COL\u001B[49m\u001B[43m)\u001B[49m\n\u001B[1;32m      9\u001B[0m \u001B[38;5;66;03m# Check\u001B[39;00m\n\u001B[1;32m     10\u001B[0m train_ts\u001B[38;5;241m.\u001B[39minfo()\n",
      "File \u001B[0;32m~/PycharmProjects/solar-prediction/helperfunctions/preprocessing.py:20\u001B[0m, in \u001B[0;36msplit_data\u001B[0;34m(ts, train_end, val_end, date_column)\u001B[0m\n\u001B[1;32m      6\u001B[0m \u001B[38;5;250m\u001B[39m\u001B[38;5;124;03m\"\"\"\u001B[39;00m\n\u001B[1;32m      7\u001B[0m \u001B[38;5;124;03mSplit a time series into training, validation, and test sets.\u001B[39;00m\n\u001B[1;32m      8\u001B[0m \u001B[38;5;124;03mSet the index of the resulting series to the date column.\u001B[39;00m\n\u001B[0;32m   (...)\u001B[0m\n\u001B[1;32m     17\u001B[0m \u001B[38;5;124;03mpd.Series: The training, validation, and test sets.\u001B[39;00m\n\u001B[1;32m     18\u001B[0m \u001B[38;5;124;03m\"\"\"\u001B[39;00m\n\u001B[1;32m     19\u001B[0m \u001B[38;5;66;03m# Split\u001B[39;00m\n\u001B[0;32m---> 20\u001B[0m train \u001B[38;5;241m=\u001B[39m \u001B[43mts\u001B[49m\u001B[43m[\u001B[49m\u001B[43m:\u001B[49m\u001B[43mtrain_end\u001B[49m\u001B[43m]\u001B[49m\n\u001B[1;32m     21\u001B[0m val \u001B[38;5;241m=\u001B[39m ts[train_end:val_end]\n\u001B[1;32m     22\u001B[0m test \u001B[38;5;241m=\u001B[39m ts[val_end:]\n",
      "File \u001B[0;32m~/PycharmProjects/solar-prediction/solar_venv/lib/python3.12/site-packages/pandas/core/frame.py:4085\u001B[0m, in \u001B[0;36mDataFrame.__getitem__\u001B[0;34m(self, key)\u001B[0m\n\u001B[1;32m   4083\u001B[0m \u001B[38;5;66;03m# Do we have a slicer (on rows)?\u001B[39;00m\n\u001B[1;32m   4084\u001B[0m \u001B[38;5;28;01mif\u001B[39;00m \u001B[38;5;28misinstance\u001B[39m(key, \u001B[38;5;28mslice\u001B[39m):\n\u001B[0;32m-> 4085\u001B[0m     \u001B[38;5;28;01mreturn\u001B[39;00m \u001B[38;5;28;43mself\u001B[39;49m\u001B[38;5;241;43m.\u001B[39;49m\u001B[43m_getitem_slice\u001B[49m\u001B[43m(\u001B[49m\u001B[43mkey\u001B[49m\u001B[43m)\u001B[49m\n\u001B[1;32m   4087\u001B[0m \u001B[38;5;66;03m# Do we have a (boolean) DataFrame?\u001B[39;00m\n\u001B[1;32m   4088\u001B[0m \u001B[38;5;28;01mif\u001B[39;00m \u001B[38;5;28misinstance\u001B[39m(key, DataFrame):\n",
      "File \u001B[0;32m~/PycharmProjects/solar-prediction/solar_venv/lib/python3.12/site-packages/pandas/core/generic.py:4349\u001B[0m, in \u001B[0;36mNDFrame._getitem_slice\u001B[0;34m(self, key)\u001B[0m\n\u001B[1;32m   4344\u001B[0m \u001B[38;5;250m\u001B[39m\u001B[38;5;124;03m\"\"\"\u001B[39;00m\n\u001B[1;32m   4345\u001B[0m \u001B[38;5;124;03m__getitem__ for the case where the key is a slice object.\u001B[39;00m\n\u001B[1;32m   4346\u001B[0m \u001B[38;5;124;03m\"\"\"\u001B[39;00m\n\u001B[1;32m   4347\u001B[0m \u001B[38;5;66;03m# _convert_slice_indexer to determine if this slice is positional\u001B[39;00m\n\u001B[1;32m   4348\u001B[0m \u001B[38;5;66;03m#  or label based, and if the latter, convert to positional\u001B[39;00m\n\u001B[0;32m-> 4349\u001B[0m slobj \u001B[38;5;241m=\u001B[39m \u001B[38;5;28;43mself\u001B[39;49m\u001B[38;5;241;43m.\u001B[39;49m\u001B[43mindex\u001B[49m\u001B[38;5;241;43m.\u001B[39;49m\u001B[43m_convert_slice_indexer\u001B[49m\u001B[43m(\u001B[49m\u001B[43mkey\u001B[49m\u001B[43m,\u001B[49m\u001B[43m \u001B[49m\u001B[43mkind\u001B[49m\u001B[38;5;241;43m=\u001B[39;49m\u001B[38;5;124;43m\"\u001B[39;49m\u001B[38;5;124;43mgetitem\u001B[39;49m\u001B[38;5;124;43m\"\u001B[39;49m\u001B[43m)\u001B[49m\n\u001B[1;32m   4350\u001B[0m \u001B[38;5;28;01mif\u001B[39;00m \u001B[38;5;28misinstance\u001B[39m(slobj, np\u001B[38;5;241m.\u001B[39mndarray):\n\u001B[1;32m   4351\u001B[0m     \u001B[38;5;66;03m# reachable with DatetimeIndex\u001B[39;00m\n\u001B[1;32m   4352\u001B[0m     indexer \u001B[38;5;241m=\u001B[39m lib\u001B[38;5;241m.\u001B[39mmaybe_indices_to_slice(\n\u001B[1;32m   4353\u001B[0m         slobj\u001B[38;5;241m.\u001B[39mastype(np\u001B[38;5;241m.\u001B[39mintp, copy\u001B[38;5;241m=\u001B[39m\u001B[38;5;28;01mFalse\u001B[39;00m), \u001B[38;5;28mlen\u001B[39m(\u001B[38;5;28mself\u001B[39m)\n\u001B[1;32m   4354\u001B[0m     )\n",
      "File \u001B[0;32m~/PycharmProjects/solar-prediction/solar_venv/lib/python3.12/site-packages/pandas/core/indexes/base.py:4249\u001B[0m, in \u001B[0;36mIndex._convert_slice_indexer\u001B[0;34m(self, key, kind)\u001B[0m\n\u001B[1;32m   4246\u001B[0m \u001B[38;5;28;01melif\u001B[39;00m \u001B[38;5;28mself\u001B[39m\u001B[38;5;241m.\u001B[39mdtype\u001B[38;5;241m.\u001B[39mkind \u001B[38;5;129;01min\u001B[39;00m \u001B[38;5;124m\"\u001B[39m\u001B[38;5;124miu\u001B[39m\u001B[38;5;124m\"\u001B[39m:\n\u001B[1;32m   4247\u001B[0m     \u001B[38;5;66;03m# Note: these checks are redundant if we know is_index_slice\u001B[39;00m\n\u001B[1;32m   4248\u001B[0m     \u001B[38;5;28mself\u001B[39m\u001B[38;5;241m.\u001B[39m_validate_indexer(\u001B[38;5;124m\"\u001B[39m\u001B[38;5;124mslice\u001B[39m\u001B[38;5;124m\"\u001B[39m, key\u001B[38;5;241m.\u001B[39mstart, \u001B[38;5;124m\"\u001B[39m\u001B[38;5;124mgetitem\u001B[39m\u001B[38;5;124m\"\u001B[39m)\n\u001B[0;32m-> 4249\u001B[0m     \u001B[38;5;28;43mself\u001B[39;49m\u001B[38;5;241;43m.\u001B[39;49m\u001B[43m_validate_indexer\u001B[49m\u001B[43m(\u001B[49m\u001B[38;5;124;43m\"\u001B[39;49m\u001B[38;5;124;43mslice\u001B[39;49m\u001B[38;5;124;43m\"\u001B[39;49m\u001B[43m,\u001B[49m\u001B[43m \u001B[49m\u001B[43mkey\u001B[49m\u001B[38;5;241;43m.\u001B[39;49m\u001B[43mstop\u001B[49m\u001B[43m,\u001B[49m\u001B[43m \u001B[49m\u001B[38;5;124;43m\"\u001B[39;49m\u001B[38;5;124;43mgetitem\u001B[39;49m\u001B[38;5;124;43m\"\u001B[39;49m\u001B[43m)\u001B[49m\n\u001B[1;32m   4250\u001B[0m     \u001B[38;5;28mself\u001B[39m\u001B[38;5;241m.\u001B[39m_validate_indexer(\u001B[38;5;124m\"\u001B[39m\u001B[38;5;124mslice\u001B[39m\u001B[38;5;124m\"\u001B[39m, key\u001B[38;5;241m.\u001B[39mstep, \u001B[38;5;124m\"\u001B[39m\u001B[38;5;124mgetitem\u001B[39m\u001B[38;5;124m\"\u001B[39m)\n\u001B[1;32m   4251\u001B[0m     \u001B[38;5;28;01mreturn\u001B[39;00m key\n",
      "File \u001B[0;32m~/PycharmProjects/solar-prediction/solar_venv/lib/python3.12/site-packages/pandas/core/indexes/base.py:6697\u001B[0m, in \u001B[0;36mIndex._validate_indexer\u001B[0;34m(self, form, key, kind)\u001B[0m\n\u001B[1;32m   6692\u001B[0m \u001B[38;5;250m\u001B[39m\u001B[38;5;124;03m\"\"\"\u001B[39;00m\n\u001B[1;32m   6693\u001B[0m \u001B[38;5;124;03mIf we are positional indexer, validate that we have appropriate\u001B[39;00m\n\u001B[1;32m   6694\u001B[0m \u001B[38;5;124;03mtyped bounds must be an integer.\u001B[39;00m\n\u001B[1;32m   6695\u001B[0m \u001B[38;5;124;03m\"\"\"\u001B[39;00m\n\u001B[1;32m   6696\u001B[0m \u001B[38;5;28;01mif\u001B[39;00m \u001B[38;5;129;01mnot\u001B[39;00m lib\u001B[38;5;241m.\u001B[39mis_int_or_none(key):\n\u001B[0;32m-> 6697\u001B[0m     \u001B[38;5;28;43mself\u001B[39;49m\u001B[38;5;241;43m.\u001B[39;49m\u001B[43m_raise_invalid_indexer\u001B[49m\u001B[43m(\u001B[49m\u001B[43mform\u001B[49m\u001B[43m,\u001B[49m\u001B[43m \u001B[49m\u001B[43mkey\u001B[49m\u001B[43m)\u001B[49m\n",
      "File \u001B[0;32m~/PycharmProjects/solar-prediction/solar_venv/lib/python3.12/site-packages/pandas/core/indexes/base.py:4301\u001B[0m, in \u001B[0;36mIndex._raise_invalid_indexer\u001B[0;34m(self, form, key, reraise)\u001B[0m\n\u001B[1;32m   4299\u001B[0m \u001B[38;5;28;01mif\u001B[39;00m reraise \u001B[38;5;129;01mis\u001B[39;00m \u001B[38;5;129;01mnot\u001B[39;00m lib\u001B[38;5;241m.\u001B[39mno_default:\n\u001B[1;32m   4300\u001B[0m     \u001B[38;5;28;01mraise\u001B[39;00m \u001B[38;5;167;01mTypeError\u001B[39;00m(msg) \u001B[38;5;28;01mfrom\u001B[39;00m \u001B[38;5;21;01mreraise\u001B[39;00m\n\u001B[0;32m-> 4301\u001B[0m \u001B[38;5;28;01mraise\u001B[39;00m \u001B[38;5;167;01mTypeError\u001B[39;00m(msg)\n",
      "\u001B[0;31mTypeError\u001B[0m: cannot do slice indexing on RangeIndex with these indexers [2022-12-31] of type str"
     ]
    }
   ],
   "execution_count": 7
  },
  {
   "metadata": {},
   "cell_type": "markdown",
   "source": "# Remove leap years",
   "id": "6ef9f0886cbbb1cb"
  },
  {
   "cell_type": "code",
   "id": "6a532f24a5476193",
   "metadata": {},
   "source": [],
   "outputs": [],
   "execution_count": null
  },
  {
   "metadata": {},
   "cell_type": "markdown",
   "source": "# Remove Duplicates\n",
   "id": "d5cc2a011fb391bd"
  },
  {
   "metadata": {
    "ExecuteTime": {
     "end_time": "2024-06-18T15:25:57.253462Z",
     "start_time": "2024-06-18T15:25:57.236787Z"
    }
   },
   "cell_type": "code",
   "source": [
    "# Check for duplicated dates\n",
    "for ts in [train_ts, val_ts, test_ts]:\n",
    "    if ts.index.duplicated().any():\n",
    "        print(\"Duplicates found:\")\n",
    "        print(ts[ts.index.duplicated(keep=False)])\n",
    "\n",
    "# Keep the first occurrence of each duplicate\n",
    "for i, ts in enumerate([train_ts, val_ts, test_ts]):\n",
    "    ts = ts[~ts.index.duplicated(keep='first')]\n",
    "    if i == 0:\n",
    "        train_ts = ts\n",
    "    elif i == 1:\n",
    "        val_ts = ts\n",
    "    else:\n",
    "        test_ts = ts\n",
    "\n",
    "# Confirm that there are no duplicates anymore\n",
    "for ts in [train_ts, val_ts, test_ts]:\n",
    "    print(pd.Series(ts.index.duplicated()).value_counts())"
   ],
   "id": "eebe9dc2604744cf",
   "outputs": [
    {
     "name": "stdout",
     "output_type": "stream",
     "text": [
      "False    280516\n",
      "Name: count, dtype: int64\n",
      "False    35040\n",
      "Name: count, dtype: int64\n",
      "False    12038\n",
      "Name: count, dtype: int64\n"
     ]
    }
   ],
   "execution_count": 8
  },
  {
   "metadata": {},
   "cell_type": "markdown",
   "source": "# Interpolate Missing Timesteps",
   "id": "6526075d611bb794"
  },
  {
   "metadata": {
    "ExecuteTime": {
     "end_time": "2024-06-18T15:26:28.994370Z",
     "start_time": "2024-06-18T15:26:28.955246Z"
    }
   },
   "cell_type": "code",
   "source": [
    "# Check for continuity\n",
    "def check_continuity(ts, split):    \n",
    "    expected_range = pd.date_range(start=ts.index.min(), end=ts.index.max(), freq='15min')\n",
    "    missing_times = expected_range.difference(ts.index)\n",
    "    if not missing_times.empty:\n",
    "        print(f\"Missing timestamps detected in {split}: {missing_times}\")\n",
    "    else:\n",
    "        print(f\"No missing timestamps in {split}\")\n",
    "\n",
    "# Check for continuity before reindexing\n",
    "for split, ts in zip(['train_ts', 'val_ts', 'test_ts'], [train_ts, val_ts, test_ts]):\n",
    "    check_continuity(ts, split)\n",
    "\n",
    "# Create a full range of 15-min intervals and reindex, updating the original DataFrames\n",
    "train_ts = train_ts.reindex(pd.date_range(start=train_ts.index.min(), end=train_ts.index.max(), freq='15min'))\n",
    "val_ts = val_ts.reindex(pd.date_range(start=val_ts.index.min(), end=val_ts.index.max(), freq='15min'))\n",
    "test_ts = test_ts.reindex(pd.date_range(start=test_ts.index.min(), end=test_ts.index.max(), freq='15min'))\n",
    "\n",
    "# Interpolate missing timesteps using time interpolation and reassign the updated DataFrames\n",
    "train_ts.interpolate(method='time', inplace=True)\n",
    "val_ts.interpolate(method='time', inplace=True)\n",
    "test_ts.interpolate(method='time', inplace=True)\n",
    "\n",
    "# Check for continuity after interpolation\n",
    "for split, ts in zip(['train_ts', 'val_ts', 'test_ts'], [train_ts, val_ts, test_ts]):\n",
    "    check_continuity(ts, split)"
   ],
   "id": "92121336c4d2aed8",
   "outputs": [
    {
     "name": "stdout",
     "output_type": "stream",
     "text": [
      "No missing timestamps in train_ts\n",
      "No missing timestamps in val_ts\n",
      "No missing timestamps in test_ts\n",
      "No missing timestamps in train_ts\n",
      "No missing timestamps in val_ts\n",
      "No missing timestamps in test_ts\n"
     ]
    }
   ],
   "execution_count": 10
  },
  {
   "metadata": {},
   "cell_type": "markdown",
   "source": "# Check Missing Values",
   "id": "412a589cf05afb37"
  },
  {
   "metadata": {
    "ExecuteTime": {
     "end_time": "2024-06-18T15:30:56.306709Z",
     "start_time": "2024-06-18T15:30:56.250753Z"
    }
   },
   "cell_type": "code",
   "source": [
    "# Find missing values \n",
    "\n"
   ],
   "id": "4f613a5316eb1f4d",
   "outputs": [
    {
     "ename": "TypeError",
     "evalue": "'bool' object is not callable",
     "output_type": "error",
     "traceback": [
      "\u001B[0;31m---------------------------------------------------------------------------\u001B[0m",
      "\u001B[0;31mTypeError\u001B[0m                                 Traceback (most recent call last)",
      "Cell \u001B[0;32mIn[15], line 10\u001B[0m\n\u001B[1;32m      8\u001B[0m \u001B[38;5;66;03m# Check for missing values\u001B[39;00m\n\u001B[1;32m      9\u001B[0m \u001B[38;5;28;01mfor\u001B[39;00m split, ts \u001B[38;5;129;01min\u001B[39;00m \u001B[38;5;28mzip\u001B[39m([\u001B[38;5;124m'\u001B[39m\u001B[38;5;124mtrain_ts\u001B[39m\u001B[38;5;124m'\u001B[39m, \u001B[38;5;124m'\u001B[39m\u001B[38;5;124mval_ts\u001B[39m\u001B[38;5;124m'\u001B[39m, \u001B[38;5;124m'\u001B[39m\u001B[38;5;124mtest_ts\u001B[39m\u001B[38;5;124m'\u001B[39m], [train_ts, val_ts, test_ts]):\n\u001B[0;32m---> 10\u001B[0m     \u001B[43mcheck_missing\u001B[49m\u001B[43m(\u001B[49m\u001B[43mts\u001B[49m\u001B[43m,\u001B[49m\u001B[43m \u001B[49m\u001B[43msplit\u001B[49m\u001B[43m)\u001B[49m\n",
      "Cell \u001B[0;32mIn[15], line 3\u001B[0m, in \u001B[0;36mcheck_missing\u001B[0;34m(ts, split)\u001B[0m\n\u001B[1;32m      2\u001B[0m \u001B[38;5;28;01mdef\u001B[39;00m \u001B[38;5;21mcheck_missing\u001B[39m(ts, split):\n\u001B[0;32m----> 3\u001B[0m     missing \u001B[38;5;241m=\u001B[39m \u001B[43mts\u001B[49m\u001B[38;5;241;43m.\u001B[39;49m\u001B[43mempty\u001B[49m\u001B[43m(\u001B[49m\u001B[43m)\u001B[49m\n\u001B[1;32m      4\u001B[0m     \u001B[38;5;28;01mif\u001B[39;00m missing:\n\u001B[1;32m      5\u001B[0m         \u001B[38;5;28mprint\u001B[39m(\u001B[38;5;124mf\u001B[39m\u001B[38;5;124m\"\u001B[39m\u001B[38;5;124mMissing values found in \u001B[39m\u001B[38;5;132;01m{\u001B[39;00msplit\u001B[38;5;132;01m}\u001B[39;00m\u001B[38;5;124m: \u001B[39m\u001B[38;5;132;01m{\u001B[39;00mmissing\u001B[38;5;132;01m}\u001B[39;00m\u001B[38;5;124m\"\u001B[39m)\n",
      "\u001B[0;31mTypeError\u001B[0m: 'bool' object is not callable"
     ]
    }
   ],
   "execution_count": 15
  },
  {
   "metadata": {},
   "cell_type": "markdown",
   "source": "# Resample from 15min to 1h",
   "id": "54d70fe165f462ed"
  },
  {
   "metadata": {
    "ExecuteTime": {
     "end_time": "2024-06-18T15:32:50.361298Z",
     "start_time": "2024-06-18T15:32:50.325173Z"
    }
   },
   "cell_type": "code",
   "source": [
    "# Resample \n",
    "def resample_ts(ts, freq='h'):\n",
    "    return ts.resample(freq).sum()\n",
    "\n",
    "train_ts = resample_ts(train_ts)\n",
    "val_ts = resample_ts(val_ts)\n",
    "test_ts = resample_ts(test_ts)"
   ],
   "id": "7b997b459ebd3ea5",
   "outputs": [],
   "execution_count": 16
  },
  {
   "metadata": {
    "ExecuteTime": {
     "end_time": "2024-06-18T15:35:50.471440Z",
     "start_time": "2024-06-18T15:35:50.382089Z"
    }
   },
   "cell_type": "code",
   "source": [
    "# Check for continuity after resampling\n",
    "for split, ts in zip(['train_ts', 'val_ts', 'test_ts'], [train_ts, val_ts, test_ts]):\n",
    "    check_continuity(ts, split)\n",
    "\n",
    "# get info\n",
    "train_ts.info()\n",
    "val_ts.info()\n",
    "test_ts.info()"
   ],
   "id": "3b2b120773e19fc2",
   "outputs": [
    {
     "name": "stdout",
     "output_type": "stream",
     "text": [
      "Missing timestamps detected in train_ts: DatetimeIndex(['2014-12-31 23:15:00+00:00', '2014-12-31 23:30:00+00:00',\n",
      "               '2014-12-31 23:45:00+00:00', '2015-01-01 00:15:00+00:00',\n",
      "               '2015-01-01 00:30:00+00:00', '2015-01-01 00:45:00+00:00',\n",
      "               '2015-01-01 01:15:00+00:00', '2015-01-01 01:30:00+00:00',\n",
      "               '2015-01-01 01:45:00+00:00', '2015-01-01 02:15:00+00:00',\n",
      "               ...\n",
      "               '2022-12-31 19:45:00+00:00', '2022-12-31 20:15:00+00:00',\n",
      "               '2022-12-31 20:30:00+00:00', '2022-12-31 20:45:00+00:00',\n",
      "               '2022-12-31 21:15:00+00:00', '2022-12-31 21:30:00+00:00',\n",
      "               '2022-12-31 21:45:00+00:00', '2022-12-31 22:15:00+00:00',\n",
      "               '2022-12-31 22:30:00+00:00', '2022-12-31 22:45:00+00:00'],\n",
      "              dtype='datetime64[ns, UTC]', length=210384, freq=None)\n",
      "Missing timestamps detected in val_ts: DatetimeIndex(['2023-01-01 00:15:00+00:00', '2023-01-01 00:30:00+00:00',\n",
      "               '2023-01-01 00:45:00+00:00', '2023-01-01 01:15:00+00:00',\n",
      "               '2023-01-01 01:30:00+00:00', '2023-01-01 01:45:00+00:00',\n",
      "               '2023-01-01 02:15:00+00:00', '2023-01-01 02:30:00+00:00',\n",
      "               '2023-01-01 02:45:00+00:00', '2023-01-01 03:15:00+00:00',\n",
      "               ...\n",
      "               '2023-12-31 19:45:00+00:00', '2023-12-31 20:15:00+00:00',\n",
      "               '2023-12-31 20:30:00+00:00', '2023-12-31 20:45:00+00:00',\n",
      "               '2023-12-31 21:15:00+00:00', '2023-12-31 21:30:00+00:00',\n",
      "               '2023-12-31 21:45:00+00:00', '2023-12-31 22:15:00+00:00',\n",
      "               '2023-12-31 22:30:00+00:00', '2023-12-31 22:45:00+00:00'],\n",
      "              dtype='datetime64[ns, UTC]', length=26277, freq=None)\n",
      "Missing timestamps detected in test_ts: DatetimeIndex(['2024-01-01 00:15:00+00:00', '2024-01-01 00:30:00+00:00',\n",
      "               '2024-01-01 00:45:00+00:00', '2024-01-01 01:15:00+00:00',\n",
      "               '2024-01-01 01:30:00+00:00', '2024-01-01 01:45:00+00:00',\n",
      "               '2024-01-01 02:15:00+00:00', '2024-01-01 02:30:00+00:00',\n",
      "               '2024-01-01 02:45:00+00:00', '2024-01-01 03:15:00+00:00',\n",
      "               ...\n",
      "               '2024-05-05 05:45:00+00:00', '2024-05-05 06:15:00+00:00',\n",
      "               '2024-05-05 06:30:00+00:00', '2024-05-05 06:45:00+00:00',\n",
      "               '2024-05-05 07:15:00+00:00', '2024-05-05 07:30:00+00:00',\n",
      "               '2024-05-05 07:45:00+00:00', '2024-05-05 08:15:00+00:00',\n",
      "               '2024-05-05 08:30:00+00:00', '2024-05-05 08:45:00+00:00'],\n",
      "              dtype='datetime64[ns, UTC]', length=9027, freq=None)\n",
      "<class 'pandas.core.frame.DataFrame'>\n",
      "DatetimeIndex: 70129 entries, 2014-12-31 23:00:00+00:00 to 2022-12-31 23:00:00+00:00\n",
      "Freq: h\n",
      "Data columns (total 1 columns):\n",
      " #   Column    Non-Null Count  Dtype  \n",
      "---  ------    --------------  -----  \n",
      " 0   Leistung  70129 non-null  float64\n",
      "dtypes: float64(1)\n",
      "memory usage: 3.1 MB\n",
      "<class 'pandas.core.frame.DataFrame'>\n",
      "DatetimeIndex: 8760 entries, 2023-01-01 00:00:00+00:00 to 2023-12-31 23:00:00+00:00\n",
      "Freq: h\n",
      "Data columns (total 1 columns):\n",
      " #   Column    Non-Null Count  Dtype  \n",
      "---  ------    --------------  -----  \n",
      " 0   Leistung  8760 non-null   float64\n",
      "dtypes: float64(1)\n",
      "memory usage: 394.9 KB\n",
      "<class 'pandas.core.frame.DataFrame'>\n",
      "DatetimeIndex: 3010 entries, 2024-01-01 00:00:00+00:00 to 2024-05-05 09:00:00+00:00\n",
      "Freq: h\n",
      "Data columns (total 1 columns):\n",
      " #   Column    Non-Null Count  Dtype  \n",
      "---  ------    --------------  -----  \n",
      " 0   Leistung  3010 non-null   float64\n",
      "dtypes: float64(1)\n",
      "memory usage: 111.6 KB\n"
     ]
    }
   ],
   "execution_count": 22
  },
  {
   "metadata": {
    "ExecuteTime": {
     "end_time": "2024-06-18T15:34:03.750183Z",
     "start_time": "2024-06-18T15:34:03.726553Z"
    }
   },
   "cell_type": "code",
   "source": [
    "test_ts.info()\n",
    "test_ts.describe()"
   ],
   "id": "a5cc189b14038530",
   "outputs": [
    {
     "name": "stdout",
     "output_type": "stream",
     "text": [
      "<class 'pandas.core.frame.DataFrame'>\n",
      "DatetimeIndex: 3010 entries, 2024-01-01 00:00:00+00:00 to 2024-05-05 09:00:00+00:00\n",
      "Freq: h\n",
      "Data columns (total 1 columns):\n",
      " #   Column    Non-Null Count  Dtype  \n",
      "---  ------    --------------  -----  \n",
      " 0   Leistung  3010 non-null   float64\n",
      "dtypes: float64(1)\n",
      "memory usage: 111.6 KB\n"
     ]
    },
    {
     "data": {
      "text/plain": [
       "            Leistung\n",
       "count    3010.000000\n",
       "mean    24335.844020\n",
       "std     38752.120566\n",
       "min         0.000000\n",
       "25%         0.000000\n",
       "50%        80.750000\n",
       "75%     38862.850000\n",
       "max    180412.100000"
      ],
      "text/html": [
       "<div>\n",
       "<style scoped>\n",
       "    .dataframe tbody tr th:only-of-type {\n",
       "        vertical-align: middle;\n",
       "    }\n",
       "\n",
       "    .dataframe tbody tr th {\n",
       "        vertical-align: top;\n",
       "    }\n",
       "\n",
       "    .dataframe thead th {\n",
       "        text-align: right;\n",
       "    }\n",
       "</style>\n",
       "<table border=\"1\" class=\"dataframe\">\n",
       "  <thead>\n",
       "    <tr style=\"text-align: right;\">\n",
       "      <th></th>\n",
       "      <th>Leistung</th>\n",
       "    </tr>\n",
       "  </thead>\n",
       "  <tbody>\n",
       "    <tr>\n",
       "      <th>count</th>\n",
       "      <td>3010.000000</td>\n",
       "    </tr>\n",
       "    <tr>\n",
       "      <th>mean</th>\n",
       "      <td>24335.844020</td>\n",
       "    </tr>\n",
       "    <tr>\n",
       "      <th>std</th>\n",
       "      <td>38752.120566</td>\n",
       "    </tr>\n",
       "    <tr>\n",
       "      <th>min</th>\n",
       "      <td>0.000000</td>\n",
       "    </tr>\n",
       "    <tr>\n",
       "      <th>25%</th>\n",
       "      <td>0.000000</td>\n",
       "    </tr>\n",
       "    <tr>\n",
       "      <th>50%</th>\n",
       "      <td>80.750000</td>\n",
       "    </tr>\n",
       "    <tr>\n",
       "      <th>75%</th>\n",
       "      <td>38862.850000</td>\n",
       "    </tr>\n",
       "    <tr>\n",
       "      <th>max</th>\n",
       "      <td>180412.100000</td>\n",
       "    </tr>\n",
       "  </tbody>\n",
       "</table>\n",
       "</div>"
      ]
     },
     "execution_count": 21,
     "metadata": {},
     "output_type": "execute_result"
    }
   ],
   "execution_count": 21
  },
  {
   "metadata": {},
   "cell_type": "code",
   "source": [
    "# Resample\n",
    "solar_ts = solar_ts.resample('h').sum()\n",
    "\n",
    "# Set the frequency to the inferred frequency of the DataFrame index\n",
    "solar_ts = solar_ts.asfreq(pd.infer_freq(solar_ts.index))\n",
    "solar_ts"
   ],
   "id": "7c37fefb94412d64",
   "outputs": [],
   "execution_count": null
  }
 ],
 "metadata": {
  "kernelspec": {
   "display_name": "Python 3",
   "language": "python",
   "name": "python3"
  },
  "language_info": {
   "codemirror_mode": {
    "name": "ipython",
    "version": 2
   },
   "file_extension": ".py",
   "mimetype": "text/x-python",
   "name": "python",
   "nbconvert_exporter": "python",
   "pygments_lexer": "ipython2",
   "version": "2.7.6"
  }
 },
 "nbformat": 4,
 "nbformat_minor": 5
}
