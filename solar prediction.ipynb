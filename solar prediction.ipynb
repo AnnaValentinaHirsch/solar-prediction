{
 "cells": [
  {
   "cell_type": "code",
   "execution_count": null,
   "id": "36f502f1-ed6e-453a-852b-dd8e605c1799",
   "metadata": {},
   "outputs": [],
   "source": [
    "import pandas as pd"
   ]
  },
  {
   "cell_type": "code",
   "execution_count": null,
   "id": "9b576bdd-dde5-4cf9-9ccc-ce9ae674c14b",
   "metadata": {},
   "outputs": [],
   "source": [
    "# with pandas 2.0, one could use date_format='%Y-%m-%d %H:%M:%S%z', but that's not yet available on Arch Linux\n",
    "solar_ts=pd.read_csv(\"data/energy_charts.csv\", sep=\",\", header=0)#date_format='%Y-%m-%d %H:%M:%S%z')#parse_dates={\"date\": [\"Datum\"]})"
   ]
  },
  {
   "cell_type": "code",
   "execution_count": null,
   "id": "e67ebfe4-7c92-4c63-a487-046f5a8c22b0",
   "metadata": {},
   "outputs": [],
   "source": [
    "solar_ts"
   ]
  },
  {
   "cell_type": "code",
   "execution_count": null,
   "id": "531cc0d3-b869-44b4-9afb-3d1cf5e9fe20",
   "metadata": {},
   "outputs": [],
   "source": [
    "solar_ts['Datum']=pd.to_datetime(solar_ts['Datum'], format='%Y-%m-%d %H:%M:%S%z', utc=True)\n",
    "solar_ts=solar_ts.set_index(keys=\"Datum\",drop=True)\n",
    "solar_ts.plot()"
   ]
  },
  {
   "cell_type": "code",
   "execution_count": null,
   "id": "69a0a4a7-b3e5-4c89-8a15-f4fe4d04dcb0",
   "metadata": {},
   "outputs": [],
   "source": [
    "# see https://stackoverflow.com/questions/30379789/plot-pandas-data-frame-with-year-over-year-data\n",
    "pv = pd.pivot_table(solar_ts, index=(solar_ts.index.month-1)*30+solar_ts.index.day, columns=solar_ts.index.year,\n",
    "                    values='Leistung', aggfunc='sum')\n",
    "pv.plot(cmap=\"Grays\")"
   ]
  },
  {
   "cell_type": "code",
   "execution_count": null,
   "id": "dd0a7dba-0fcc-4035-b780-71ebc35ad6b9",
   "metadata": {},
   "outputs": [],
   "source": [
    "# see https://stackoverflow.com/questions/30379789/plot-pandas-data-frame-with-year-over-year-data\n",
    "pv = pd.pivot_table(solar_ts, index=solar_ts.index.month, columns=solar_ts.index.year,\n",
    "                    values='Leistung', aggfunc='sum')\n",
    "pv.plot(cmap=\"Grays\")"
   ]
  }
 ],
 "metadata": {
  "kernelspec": {
   "display_name": "Python 3 (ipykernel)",
   "language": "python",
   "name": "python3"
  },
  "language_info": {
   "codemirror_mode": {
    "name": "ipython",
    "version": 3
   },
   "file_extension": ".py",
   "mimetype": "text/x-python",
   "name": "python",
   "nbconvert_exporter": "python",
   "pygments_lexer": "ipython3",
   "version": "3.12.3"
  }
 },
 "nbformat": 4,
 "nbformat_minor": 5
}
