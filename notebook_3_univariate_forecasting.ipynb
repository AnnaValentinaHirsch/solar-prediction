{
 "cells": [
  {
   "cell_type": "markdown",
   "metadata": {
    "id": "view-in-github",
    "colab_type": "text"
   },
   "source": [
    "<a href=\"https://colab.research.google.com/github/Mitmischer/solar-prediction/blob/main/solar%20prediction.ipynb\" target=\"_parent\"><img src=\"https://colab.research.google.com/assets/colab-badge.svg\" alt=\"Open In Colab\"/></a>"
   ],
   "id": "f1ca2fe5f7c8eaaf"
  },
  {
   "cell_type": "code",
   "id": "N979da635zB5",
   "metadata": {
    "id": "N979da635zB5"
   },
   "source": [],
   "outputs": [],
   "execution_count": null
  },
  {
   "cell_type": "markdown",
   "source": [
    "# Package installation"
   ],
   "metadata": {
    "id": "_fQm6m_Oii_V"
   },
   "id": "_fQm6m_Oii_V"
  },
  {
   "cell_type": "code",
   "id": "9IcV3WEJ3Hp4",
   "metadata": {
    "colab": {
     "base_uri": "https://localhost:8080/"
    },
    "id": "9IcV3WEJ3Hp4",
    "outputId": "d33ec539-80d3-45d4-fc62-d9eec4d4fb8c"
   },
   "source": [
    "from google.colab import drive\n",
    "drive.mount('/content/drive')"
   ],
   "outputs": [],
   "execution_count": null
  },
  {
   "cell_type": "code",
   "id": "tZlLj5w-AAYQ",
   "metadata": {
    "id": "tZlLj5w-AAYQ"
   },
   "source": [
    "#!wget -O mini.sh https://repo.anaconda.com/miniconda/Miniconda3-py38_4.8.2-Linux-x86_64.sh\n",
    "#!chmod +x mini.sh\n",
    "#!bash ./mini.sh -b -f -p /usr/local\n",
    "#!conda install -q -y jupyter\n",
    "#!conda install -q -y google-colab -c conda-forge\n",
    "#!python -m ipykernel install --name \"py38\" --user"
   ],
   "outputs": [],
   "execution_count": null
  },
  {
   "cell_type": "code",
   "id": "pBs4PpQBDz45",
   "metadata": {
    "id": "pBs4PpQBDz45"
   },
   "source": [
    "#!pip install gpforecaster"
   ],
   "outputs": [],
   "execution_count": null
  },
  {
   "cell_type": "code",
   "id": "_dNCnl_JNkku",
   "metadata": {
    "id": "_dNCnl_JNkku"
   },
   "source": [
    "#!pip install git+https://github.com/luisroque/hierarchical_gp_forecaster"
   ],
   "outputs": [],
   "execution_count": null
  },
  {
   "cell_type": "code",
   "id": "CSkEv8ErdCEl",
   "metadata": {
    "colab": {
     "base_uri": "https://localhost:8080/"
    },
    "id": "CSkEv8ErdCEl",
    "outputId": "0ec70d6c-302b-4dcb-c4f9-261269a072ef"
   },
   "source": [
    "!pip install armagarch"
   ],
   "outputs": [],
   "execution_count": null
  },
  {
   "cell_type": "code",
   "id": "9H0OGGnQmImZ",
   "metadata": {
    "colab": {
     "base_uri": "https://localhost:8080/"
    },
    "id": "9H0OGGnQmImZ",
    "outputId": "eb8d9fd8-cbb5-4fbc-ca3e-669e86961098",
    "collapsed": true
   },
   "source": [
    "!pip install gluonts armagarch statsmodels statsforecast s3fs datasetsforecast GPy darts"
   ],
   "outputs": [],
   "execution_count": null
  },
  {
   "cell_type": "code",
   "id": "NZKy5GREdmyK",
   "metadata": {
    "colab": {
     "base_uri": "https://localhost:8080/"
    },
    "id": "NZKy5GREdmyK",
    "outputId": "2d225bd6-5acc-48f9-9747-2499eac7f97e",
    "collapsed": true
   },
   "source": [
    "!pip install git+https://github.com/Nixtla/neuralforecast.git@main git+https://github.com/RJT1990/pyflux"
   ],
   "outputs": [],
   "execution_count": null
  },
  {
   "cell_type": "code",
   "id": "duIfdZX_8lTT",
   "metadata": {
    "colab": {
     "base_uri": "https://localhost:8080/"
    },
    "id": "duIfdZX_8lTT",
    "outputId": "2857b7cc-087e-4f21-9721-0746b415d572",
    "collapsed": true
   },
   "source": [
    "!pip install darts"
   ],
   "outputs": [],
   "execution_count": null
  },
  {
   "cell_type": "markdown",
   "source": [
    "# Notebook parameters"
   ],
   "metadata": {
    "id": "U8SsNwEvipI0"
   },
   "id": "U8SsNwEvipI0"
  },
  {
   "cell_type": "code",
   "source": [
    "# if False, cells that take a lot of time are not run.\n",
    "slow = False"
   ],
   "metadata": {
    "id": "iQcUnSu6ipYn"
   },
   "id": "iQcUnSu6ipYn",
   "outputs": [],
   "execution_count": null
  },
  {
   "cell_type": "markdown",
   "source": [
    "# \"my\" preprocessing (maybe too chatty, but it can largely stay as is)"
   ],
   "metadata": {
    "id": "dVeW-jvD6Vk4"
   },
   "id": "dVeW-jvD6Vk4"
  },
  {
   "cell_type": "code",
   "id": "36f502f1-ed6e-453a-852b-dd8e605c1799",
   "metadata": {
    "id": "36f502f1-ed6e-453a-852b-dd8e605c1799"
   },
   "source": [
    "import pandas as pd\n",
    "import numpy as np\n",
    "import armagarch as ag\n",
    "\n",
    "import matplotlib.pyplot as plt\n",
    "from statsmodels.tsa.stattools import adfuller\n",
    "import tensorflow as tf\n",
    "from datetime import datetime, timezone\n",
    "\n",
    "# spectral analysis\n",
    "from scipy import signal\n",
    "from scipy.signal import periodogram as periodogram_f\n",
    "from scipy.fft import fftfreq, fftshift\n",
    "from scipy.fft import fft, ifft, fft2, ifft2"
   ],
   "outputs": [],
   "execution_count": null
  },
  {
   "cell_type": "code",
   "id": "9b576bdd-dde5-4cf9-9ccc-ce9ae674c14b",
   "metadata": {
    "id": "9b576bdd-dde5-4cf9-9ccc-ce9ae674c14b"
   },
   "source": [
    "# with pandas 2.0, one could use date_format='%Y-%m-%d %H:%M:%S%z', but that's not yet available on Arch Linux\n",
    "solar_ts=pd.read_csv(\"/content/drive/MyDrive/energy_charts.csv\", sep=\",\", header=0)#date_format='%Y-%m-%d %H:%M:%S%z')#parse_dates={\"date\": [\"Datum\"]})"
   ],
   "outputs": [],
   "execution_count": null
  },
  {
   "cell_type": "code",
   "id": "531cc0d3-b869-44b4-9afb-3d1cf5e9fe20",
   "metadata": {
    "colab": {
     "base_uri": "https://localhost:8080/"
    },
    "id": "531cc0d3-b869-44b4-9afb-3d1cf5e9fe20",
    "outputId": "f387a662-ddc4-468c-94a1-d6ce0e0b7854"
   },
   "source": [
    "solar_ts['Datum']=pd.to_datetime(solar_ts['Datum'], format='%Y-%m-%dT%H:%M%z', utc=True)\n",
    "solar_ts=solar_ts.set_index(keys=\"Datum\",drop=True)\n",
    "solar_ts.plot()"
   ],
   "outputs": [],
   "execution_count": null
  },
  {
   "cell_type": "code",
   "id": "80e15e8b-a040-4f18-8f7f-2355d45143df",
   "metadata": {
    "id": "80e15e8b-a040-4f18-8f7f-2355d45143df",
    "colab": {
     "base_uri": "https://localhost:8080/"
    },
    "outputId": "bf3f3f5a-bfd8-4d3e-9658-c22cf179f79f"
   },
   "source": [
    "adfresult = adfuller(solar_ts[2:30000])\n",
    "print(adfresult[0])\n",
    "print(adfresult[1])"
   ],
   "outputs": [],
   "execution_count": null
  },
  {
   "cell_type": "code",
   "id": "69a0a4a7-b3e5-4c89-8a15-f4fe4d04dcb0",
   "metadata": {
    "id": "69a0a4a7-b3e5-4c89-8a15-f4fe4d04dcb0",
    "colab": {
     "base_uri": "https://localhost:8080/"
    },
    "outputId": "fc7127c9-8f95-4675-bbfd-19311dc3e634"
   },
   "source": [
    "# see https://stackoverflow.com/questions/30379789/plot-pandas-data-frame-with-year-over-year-data\n",
    "pv = pd.pivot_table(solar_ts, index=solar_ts.index.dayofyear, columns=solar_ts.index.year,\n",
    "                    values='Leistung', aggfunc='sum')\n",
    "pv.plot(cmap=\"Greys\")"
   ],
   "outputs": [],
   "execution_count": null
  },
  {
   "cell_type": "code",
   "id": "dd0a7dba-0fcc-4035-b780-71ebc35ad6b9",
   "metadata": {
    "id": "dd0a7dba-0fcc-4035-b780-71ebc35ad6b9",
    "colab": {
     "base_uri": "https://localhost:8080/"
    },
    "outputId": "67647d16-875d-43df-bbee-167292f01aca"
   },
   "source": [
    "# see https://stackoverflow.com/questions/30379789/plot-pandas-data-frame-with-year-over-year-data\n",
    "pv = pd.pivot_table(solar_ts, index=solar_ts.index.month, columns=solar_ts.index.year,\n",
    "                    values='Leistung', aggfunc='sum')\n",
    "pv.plot(cmap=\"Greys\")"
   ],
   "outputs": [],
   "execution_count": null
  },
  {
   "cell_type": "code",
   "id": "6379a931-52ec-4f08-9637-b0ca016cac9a",
   "metadata": {
    "id": "6379a931-52ec-4f08-9637-b0ca016cac9a",
    "colab": {
     "base_uri": "https://localhost:8080/"
    },
    "outputId": "00a2d05a-d62d-428c-ee9c-ec6bbf0cf652"
   },
   "source": [
    "# An example of a gap in the data\n",
    "# TODO: Also, there is duplicate data here that pandas duplicated-function will not find...?\n",
    "print(solar_ts.index[5660:5680])\n",
    "print(pd.Series(solar_ts.index[5660:5680]).diff())"
   ],
   "outputs": [],
   "execution_count": null
  },
  {
   "cell_type": "code",
   "id": "cd59dcef-6826-4a52-9727-5109d6e44eba",
   "metadata": {
    "id": "cd59dcef-6826-4a52-9727-5109d6e44eba",
    "colab": {
     "base_uri": "https://localhost:8080/"
    },
    "outputId": "4dcba849-35e4-47c5-ae9b-bcc87bca2427"
   },
   "source": [
    "pd.Series(solar_ts.index.duplicated()).value_counts()"
   ],
   "outputs": [],
   "execution_count": null
  },
  {
   "cell_type": "code",
   "id": "a8705cd7-e2e5-4167-bcea-a6c0b9f4507e",
   "metadata": {
    "id": "a8705cd7-e2e5-4167-bcea-a6c0b9f4507e",
    "colab": {
     "base_uri": "https://localhost:8080/"
    },
    "outputId": "9eb0425a-ee49-4cb1-bd08-5b9d72c1b08b"
   },
   "source": [
    "# Those values need imputation!\n",
    "pd.date_range(solar_ts.index.min(), solar_ts.index.max(), freq='15Min').difference(solar_ts.index)"
   ],
   "outputs": [],
   "execution_count": null
  },
  {
   "cell_type": "code",
   "id": "a7261491-58cb-4e1c-96b5-e436eaa70ca4",
   "metadata": {
    "id": "a7261491-58cb-4e1c-96b5-e436eaa70ca4"
   },
   "source": [
    "# This add NaN as value for the missing indices, we can impute this later.\n",
    "solar_ts = solar_ts.resample(\"15Min\").first()\n",
    "# As only a few values need imputation, so the choice of the imputation algorithm does not matter much.\n",
    "solar_ts = solar_ts.interpolate(method=\"time\")\n",
    "# Only now can we infer a frequency.\n",
    "solar_ts=solar_ts.asfreq(pd.infer_freq(solar_ts.index))"
   ],
   "outputs": [],
   "execution_count": null
  },
  {
   "cell_type": "code",
   "id": "73f95b7c-7088-4f79-90a0-9842e9b2111a",
   "metadata": {
    "id": "73f95b7c-7088-4f79-90a0-9842e9b2111a",
    "colab": {
     "base_uri": "https://localhost:8080/"
    },
    "outputId": "5d7df34c-db3b-49d2-9b10-63f23210c04b"
   },
   "source": [
    "# There are no duplicated dates, good!\n",
    "# (Although, a bit questionable, see above)\n",
    "np.count_nonzero(solar_ts.index.duplicated())"
   ],
   "outputs": [],
   "execution_count": null
  },
  {
   "cell_type": "code",
   "id": "e98ea80c-b9a6-4606-b896-74353461c4af",
   "metadata": {
    "id": "e98ea80c-b9a6-4606-b896-74353461c4af"
   },
   "source": [
    "solar_ts=solar_ts.asfreq(pd.infer_freq(solar_ts.index))"
   ],
   "outputs": [],
   "execution_count": null
  },
  {
   "cell_type": "code",
   "id": "31293d6a-c751-4c2a-81ab-cb7f3607a482",
   "metadata": {
    "id": "31293d6a-c751-4c2a-81ab-cb7f3607a482",
    "colab": {
     "base_uri": "https://localhost:8080/"
    },
    "outputId": "73d347ec-e499-46ce-edc8-550069b03723"
   },
   "source": [
    "\n",
    "solar_ts.plot()"
   ],
   "outputs": [],
   "execution_count": null
  },
  {
   "cell_type": "code",
   "id": "9e1fc4d2-697a-46e1-8334-6f33afebf42f",
   "metadata": {
    "id": "9e1fc4d2-697a-46e1-8334-6f33afebf42f"
   },
   "source": [
    "solar_ts_series = solar_ts.Leistung"
   ],
   "outputs": [],
   "execution_count": null
  },
  {
   "cell_type": "code",
   "id": "952d5c34-5c75-473a-ab94-ff61c9886873",
   "metadata": {
    "id": "952d5c34-5c75-473a-ab94-ff61c9886873",
    "colab": {
     "base_uri": "https://localhost:8080/"
    },
    "outputId": "467dc6be-23e2-44fc-885c-1851cbd6bc82"
   },
   "source": [
    "# Normalize\n",
    "train_size = int(len(solar_ts_series) * 0.9)\n",
    "ts_train = solar_ts_series[:train_size]\n",
    "ts_test = solar_ts_series[train_size:]\n",
    "\n",
    "# we cannot normalize over the test data as we don't have that yet!\n",
    "avg, dev = ts_train.mean(), ts_train.std()\n",
    "solar_ts_series = (solar_ts_series - avg)/dev\n",
    "solar_ts_series.plot()"
   ],
   "outputs": [],
   "execution_count": null
  },
  {
   "cell_type": "code",
   "id": "d21fa836-fe31-41ff-a6aa-d316bb924aa4",
   "metadata": {
    "id": "d21fa836-fe31-41ff-a6aa-d316bb924aa4",
    "colab": {
     "base_uri": "https://localhost:8080/"
    },
    "outputId": "09245ca6-088f-4df3-c26c-e9cc31be0d85"
   },
   "source": [
    "# Remove trend (TODO: compare with the approach in the Fourier series video, where they also detrend?)\n",
    "solar_ts_series = solar_ts_series.diff().dropna()\n",
    "solar_ts_series.plot()"
   ],
   "outputs": [],
   "execution_count": null
  },
  {
   "cell_type": "code",
   "id": "c679ad7c-345e-48fc-9494-a16aed55b2fd",
   "metadata": {
    "id": "c679ad7c-345e-48fc-9494-a16aed55b2fd"
   },
   "source": [
    "# Consider taking another difference: solar_ts_series = solar_ts_series.diff().dropna()\n",
    "# solar_ts_series.plot()"
   ],
   "outputs": [],
   "execution_count": null
  },
  {
   "cell_type": "code",
   "id": "0b4f9996-9027-4563-b643-44ffec5fd885",
   "metadata": {
    "id": "0b4f9996-9027-4563-b643-44ffec5fd885",
    "colab": {
     "base_uri": "https://localhost:8080/"
    },
    "outputId": "a24a03a5-bbe4-434a-91dd-b7fd44d6daaf"
   },
   "source": [
    "# remove increasing volatility - or (TODO: use a (G)ARCH here).\n",
    "annual_volatility = solar_ts_series.groupby(solar_ts_series.index.year).std()\n",
    "annual_vol_per_day = solar_ts_series.index.map(lambda d: annual_volatility.loc[d.year])\n",
    "solar_ts_series_corrected_variance = solar_ts_series/annual_vol_per_day\n",
    "annual_volatility.plot()"
   ],
   "outputs": [],
   "execution_count": null
  },
  {
   "cell_type": "markdown",
   "id": "5Cc8seZv9yuC",
   "metadata": {
    "id": "5Cc8seZv9yuC"
   },
   "source": [
    "Sure, we leak information here. But the volatility is easy enough to model with a linear function, so I'd argue that's fine!"
   ]
  },
  {
   "cell_type": "code",
   "id": "4f1de49e-6a34-4fcc-a69d-bc45b911a217",
   "metadata": {
    "id": "4f1de49e-6a34-4fcc-a69d-bc45b911a217",
    "colab": {
     "base_uri": "https://localhost:8080/"
    },
    "outputId": "2cce631e-7bd4-45e2-bcd5-d627bfafbc94"
   },
   "source": [
    "solar_ts_series_corrected_variance.plot()"
   ],
   "outputs": [],
   "execution_count": null
  },
  {
   "cell_type": "code",
   "id": "h8EQkhcy8hOE",
   "metadata": {
    "id": "h8EQkhcy8hOE"
   },
   "source": [],
   "outputs": [],
   "execution_count": null
  },
  {
   "cell_type": "code",
   "id": "a0b21932-91ff-4b0a-afa4-149e15168810",
   "metadata": {
    "id": "a0b21932-91ff-4b0a-afa4-149e15168810"
   },
   "source": [
    "# looks unnecessary to me!\n",
    "# ritvik takes monthly means here\n",
    "# why not take dayofyear?\n",
    "#monthly_mean = solar_ts_series_corrected_variance.groupby(solar_ts_series_corrected_variance.index.month).mean()\n",
    "#monthly_mean_per_day = solar_ts_series_corrected_variance.index.map(lambda d: monthly_mean.loc[d.month])\n",
    "#solar_ts_series_corrected_variance= solar_ts_series_corrected_variance - monthly_mean_per_day"
   ],
   "outputs": [],
   "execution_count": null
  },
  {
   "cell_type": "code",
   "id": "41265201-fad2-46bc-a641-6029a9103b7e",
   "metadata": {
    "colab": {
     "base_uri": "https://localhost:8080/"
    },
    "id": "41265201-fad2-46bc-a641-6029a9103b7e",
    "outputId": "534a8b35-6cb1-4444-9504-a80fdaeef9e8"
   },
   "source": [
    "# we only take the first few samples as my RAM explodes otherwise\n",
    "adfresult = adfuller(solar_ts_series_corrected_variance[3:30000])\n",
    "print(adfresult[0])\n",
    "print(adfresult[1])\n",
    "adfresult = adfuller(solar_ts_series_corrected_variance[120000:150000])\n",
    "print(adfresult[0])\n",
    "print(adfresult[1])"
   ],
   "outputs": [],
   "execution_count": null
  },
  {
   "cell_type": "code",
   "id": "9f25a6a4-0f86-4870-8c5c-45759adc4573",
   "metadata": {
    "id": "9f25a6a4-0f86-4870-8c5c-45759adc4573"
   },
   "source": [
    "solar_ts_series_corrected_variance=solar_ts_series_corrected_variance[~np.isnan(solar_ts_series_corrected_variance)]\n"
   ],
   "outputs": [],
   "execution_count": null
  },
  {
   "cell_type": "code",
   "id": "iHJz9Erk7RYN",
   "metadata": {
    "id": "iHJz9Erk7RYN"
   },
   "source": [],
   "outputs": [],
   "execution_count": null
  },
  {
   "cell_type": "markdown",
   "id": "zr7ckL8uw3Ub",
   "metadata": {
    "id": "zr7ckL8uw3Ub"
   },
   "source": [
    "# Import Andrea (works)"
   ]
  },
  {
   "cell_type": "code",
   "id": "-DMHewklw6WR",
   "metadata": {
    "id": "-DMHewklw6WR"
   },
   "source": [
    "import huggingface_hub\n",
    "import pandas as pd\n",
    "import numpy as np"
   ],
   "outputs": [],
   "execution_count": null
  },
  {
   "cell_type": "code",
   "id": "pRJXPPMFxRHR",
   "metadata": {
    "id": "pRJXPPMFxRHR",
    "colab": {
     "base_uri": "https://localhost:8080/"
    },
    "outputId": "89705f7a-feb1-43f0-dced-277f336d8831"
   },
   "source": [
    "splits = {'train': 'train_ts.csv', 'validation': 'val_ts.csv', 'test': 'test_ts.csv'}\n",
    "df_train = pd.read_csv(\"hf://datasets/Creatorin/solarpower/\" + splits[\"train\"])\n",
    "df_validation = pd.read_csv(\"hf://datasets/Creatorin/solarpower/\" + splits[\"validation\"])\n",
    "df_test = pd.read_csv(\"hf://datasets/Creatorin/solarpower/\" + splits[\"test\"])"
   ],
   "outputs": [],
   "execution_count": null
  },
  {
   "cell_type": "code",
   "id": "sAveNgvvxUSq",
   "metadata": {
    "id": "sAveNgvvxUSq"
   },
   "source": [
    "df = pd.concat([df_train, df_validation, df_test])\n",
    "ts = df[\"Leistung\"]\n",
    "ts.index = pd.to_datetime(ts.index, utc=True)"
   ],
   "outputs": [],
   "execution_count": null
  },
  {
   "cell_type": "code",
   "id": "1uz8OqmmzoO8",
   "metadata": {
    "id": "1uz8OqmmzoO8"
   },
   "source": [
    "# Interpolation\n",
    "ts = ts.interpolate(method=\"time\")\n",
    "# Only now can we infer a frequency.\n",
    "ts = ts.asfreq(pd.infer_freq(ts.index))"
   ],
   "outputs": [],
   "execution_count": null
  },
  {
   "cell_type": "code",
   "id": "BVRqC_HAzrwF",
   "metadata": {
    "id": "BVRqC_HAzrwF"
   },
   "source": [
    "# Normalize\n",
    "avg_train, dev_train = ts.mean(), ts.std()\n",
    "ts_series = (ts - avg_train)/dev_train"
   ],
   "outputs": [],
   "execution_count": null
  },
  {
   "cell_type": "code",
   "id": "QdzqgaQ_ztGO",
   "metadata": {
    "colab": {
     "base_uri": "https://localhost:8080/"
    },
    "id": "QdzqgaQ_ztGO",
    "outputId": "e3d8e4ae-5e73-42f6-8170-95af5efeaa3a"
   },
   "source": [
    "# Remove trend\n",
    "ts_series = ts_series.diff().dropna()\n",
    "ts_series.plot()"
   ],
   "outputs": [],
   "execution_count": null
  },
  {
   "cell_type": "code",
   "id": "cEDlyFxbz0JZ",
   "metadata": {
    "id": "cEDlyFxbz0JZ"
   },
   "source": [
    "# remove increasing volatility\n",
    "\n",
    "def remove_volatility(ts):\n",
    "    annual_volatility = ts.groupby(ts.index.year).std()\n",
    "    annual_vol_per_day = ts.index.map(lambda d: annual_volatility.loc[d.year])\n",
    "    ts_corrected_variance = ts/annual_vol_per_day\n",
    "    monthly_mean = ts_corrected_variance.groupby(ts_corrected_variance.index.month).mean()\n",
    "    monthly_mean_per_day = ts_corrected_variance.index.map(lambda d: monthly_mean.loc[d.month])\n",
    "    ts_corrected_variance= ts_corrected_variance - monthly_mean_per_day\n",
    "    ts_corrected_variance= ts_corrected_variance[~np.isnan(ts_corrected_variance)]\n",
    "    return ts_corrected_variance"
   ],
   "outputs": [],
   "execution_count": null
  },
  {
   "cell_type": "code",
   "id": "nRaqd0xBz5Uo",
   "metadata": {
    "id": "nRaqd0xBz5Uo"
   },
   "source": [
    "ts = remove_volatility(ts_series)"
   ],
   "outputs": [],
   "execution_count": null
  },
  {
   "cell_type": "markdown",
   "id": "3c81ebe2-0a6e-4515-82d4-70eefb852582",
   "metadata": {
    "id": "3c81ebe2-0a6e-4515-82d4-70eefb852582"
   },
   "source": [
    "# some spectral analysis (works, also with the new data, just too chatty)"
   ]
  },
  {
   "cell_type": "code",
   "id": "9e0b1d88-85b7-4e91-b38b-e2f6d983973e",
   "metadata": {
    "colab": {
     "base_uri": "https://localhost:8080/",
     "height": 452
    },
    "id": "9e0b1d88-85b7-4e91-b38b-e2f6d983973e",
    "outputId": "2e91a883-393f-4bc3-8af4-a7f0aef24806"
   },
   "source": [
    "# ts has period 15 minutes\n",
    "dt = 15*60\n",
    "rate = 1/dt\n",
    "periodogram = np.abs(fft(np.asarray(ts)))**2*dt/(len(ts))\n",
    "frequencies = fftfreq(len(ts), d=1/rate)\n",
    "frequencies\n",
    "plt.plot(fftshift(frequencies), fftshift(periodogram))\n",
    "plt.xlim(-0.00002, 3*0.0001)\n",
    "plt.ylim(0, 10000/5)"
   ],
   "outputs": [],
   "execution_count": null
  },
  {
   "cell_type": "code",
   "id": "333bef6c-8f1c-401c-8444-9036e00ba307",
   "metadata": {
    "colab": {
     "base_uri": "https://localhost:8080/",
     "height": 470
    },
    "id": "333bef6c-8f1c-401c-8444-9036e00ba307",
    "outputId": "2676d799-a907-459b-ae06-b7da7258d074"
   },
   "source": [
    "# looks (and should be!) similar to the \"manual\" calculation above.\n",
    "# Note that in the manual calculation, we get a symmetric graph. That's to be expected (check out the videos).\n",
    "frequencies, periodogram = periodogram_f(np.asarray(solar_ts_series_corrected_variance), fs=rate, window=\"hamming\")\n",
    "plt.plot(fftshift(frequencies), fftshift(periodogram))\n",
    "plt.xlim(-0.00002, 0.0001)\n",
    "plt.ylim(0, 10000)"
   ],
   "outputs": [],
   "execution_count": null
  },
  {
   "cell_type": "code",
   "id": "10d9996f-2114-465c-bf86-74eb46a108fb",
   "metadata": {
    "colab": {
     "base_uri": "https://localhost:8080/",
     "height": 500
    },
    "id": "10d9996f-2114-465c-bf86-74eb46a108fb",
    "outputId": "1ce1a9d2-0da7-46a5-98ca-c2250d88c542"
   },
   "source": [
    "# yet another way to calculate the FFT, from the \"denoising\" video.\n",
    "# However, apparently, the signal is now dampened. The frequencies themselves are correct, though\n",
    "# Note how damped the signal appears visually already although the y-scale is really small!\n",
    "n = len(solar_ts_series_corrected_variance)\n",
    "fhat = np.fft.fft(solar_ts_series_corrected_variance, n)\n",
    "PSD = fhat*np.conj(fhat)/n\n",
    "freq = (1/(dt*n))*np.arange(n)\n",
    "L= np.arange(1, np.floor(n/2), dtype=\"int\")\n",
    "plt.plot(freq[L], PSD[L])\n",
    "plt.xlim(-0.00002, 0.0001)\n",
    "# why the difference in magnitude?\n",
    "plt.ylim(0, 10000/1500)"
   ],
   "outputs": [],
   "execution_count": null
  },
  {
   "cell_type": "code",
   "id": "enrwhdquMcz5",
   "metadata": {
    "colab": {
     "base_uri": "https://localhost:8080/",
     "height": 452
    },
    "id": "enrwhdquMcz5",
    "outputId": "cdd8f09c-2eb6-43b7-a482-17f3260df3dc"
   },
   "source": [
    "periodogram_as_series = pd.Series(fftshift(periodogram), index=fftshift(frequencies))\n",
    "periodogram_as_series = periodogram_as_series[periodogram_as_series.index > 0]\n",
    "# convert index from frequencies to periods and convert the periods to hours\n",
    "# TODO: is the calculation to hours correct (note that  we already specified the sampling rate during the fft!)?\n",
    "periodogram_as_series.index = (1/periodogram_as_series.index)/3600\n",
    "plt.plot(periodogram_as_series)\n",
    "plt.xlim(0,100000/3600)\n",
    "plt.ylim(0, 5000*10)"
   ],
   "outputs": [],
   "execution_count": null
  },
  {
   "cell_type": "code",
   "id": "8liKWNzdbZUk",
   "metadata": {
    "colab": {
     "base_uri": "https://localhost:8080/",
     "height": 447
    },
    "id": "8liKWNzdbZUk",
    "outputId": "f66a773c-4651-4179-f8c2-b6ea43e59743"
   },
   "source": [
    "periodogram_as_series = pd.Series(fftshift(periodogram), index=fftshift(frequencies))\n",
    "periodogram_as_series = periodogram_as_series[periodogram_as_series.index > 0]\n",
    "# convert index from frequencies to periods and convert the periods to hours\n",
    "# TODO: is the calculation to hours correct (note that  we already specified the sampling rate during the fft!)?\n",
    "periodogram_as_series.index = (1/periodogram_as_series.index)/3600\n",
    "plt.plot(periodogram_as_series)\n",
    "plt.xlim(0,100000/3600)\n",
    "plt.ylim(0, 5000*50)\n",
    "plt.ylim(1e-2, 100*5000*50)\n",
    "plt.semilogy()"
   ],
   "outputs": [],
   "execution_count": null
  },
  {
   "cell_type": "code",
   "id": "0b75c6bf-4c2e-4329-ab46-7911dc4fbce4",
   "metadata": {
    "colab": {
     "base_uri": "https://localhost:8080/",
     "height": 455
    },
    "id": "0b75c6bf-4c2e-4329-ab46-7911dc4fbce4",
    "outputId": "7cb1b031-064b-44bf-cd7a-4715d5b15858"
   },
   "source": [
    "# Now decide on the frequencies to cut off.\n",
    "plt.plot(freq, PSD)\n",
    "plt.ylim(1e-2,1e5)\n",
    "plt.xlim(0,max(freq)/2)\n",
    "plt.axhline(y=1e0, color=\"r\")\n",
    "plt.semilogy()"
   ],
   "outputs": [],
   "execution_count": null
  },
  {
   "cell_type": "code",
   "id": "d4fce48a-95e8-463b-a1dc-f6458d7de9e8",
   "metadata": {
    "id": "d4fce48a-95e8-463b-a1dc-f6458d7de9e8"
   },
   "source": [
    "# We'll only retain frequencies with powers above the red line in the graph above.\n",
    "# I chose it such that almost all high-power frequencies are retained. We get some noisy frequencies in (at the tails) but the majority is filtered.\n",
    "indices = PSD > 1e-1# 0.5 #1e0\n",
    "# Filter and reconstruct the signal on the retained frequencies (reverse fourier transform)\n",
    "PSDclean = PSD*indices\n",
    "fhat = indices*fhat\n",
    "ffilt = np.fft.ifft(fhat)"
   ],
   "outputs": [],
   "execution_count": null
  },
  {
   "cell_type": "code",
   "id": "PhqflfmFl9ks",
   "metadata": {
    "colab": {
     "base_uri": "https://localhost:8080/"
    },
    "id": "PhqflfmFl9ks",
    "outputId": "ccdbff39-fc58-41d8-b798-8fa8102b0d82"
   },
   "source": [
    "# number of surviving frequencies\n",
    "np.sum(indices)"
   ],
   "outputs": [],
   "execution_count": null
  },
  {
   "cell_type": "code",
   "id": "6ad1312d-823b-4b7f-8614-ab59e412a65a",
   "metadata": {
    "colab": {
     "base_uri": "https://localhost:8080/",
     "height": 455
    },
    "id": "6ad1312d-823b-4b7f-8614-ab59e412a65a",
    "outputId": "3f242dbf-05fa-4ec7-8a78-fdb5905875d6"
   },
   "source": [
    "# small sanity check: our new spectrum looks like this: nice, huh?\n",
    "plt.plot(freq, PSDclean)\n",
    "plt.ylim(1e-2,1e5)\n",
    "plt.xlim(0,max(freq)/2)\n",
    "plt.axhline(y=1e0, color=\"r\")\n",
    "plt.semilogy()"
   ],
   "outputs": [],
   "execution_count": null
  },
  {
   "cell_type": "code",
   "id": "aa6acb68-7925-4894-8a56-b0c4630adfb1",
   "metadata": {
    "colab": {
     "base_uri": "https://localhost:8080/",
     "height": 537
    },
    "id": "aa6acb68-7925-4894-8a56-b0c4630adfb1",
    "outputId": "5364ccf4-9546-409e-9e41-d5768d42b9c7"
   },
   "source": [
    "solar_ts_series_corrected_variance[1:500].plot()\n",
    "plt.ylim(-4,4)\n",
    "pd.Series(ffilt[1:500], solar_ts_series_corrected_variance.index[1:500]).plot()\n",
    "plt.ylim(-1,1)\n",
    "plt.legend([\"original\", \"after fft\"])"
   ],
   "outputs": [],
   "execution_count": null
  },
  {
   "cell_type": "markdown",
   "id": "3riHjejYNwlj",
   "metadata": {
    "id": "3riHjejYNwlj"
   },
   "source": [
    "Maybe peak detection would have been better here ...? Further work :)\n",
    "Generally, in much of the settings we investigated, FFT had problems with the zero production at night.\n",
    "You can play around with the parameter in\n",
    "indices = PSD > X\n",
    "to obtain the comparisons in the presentation."
   ]
  },
  {
   "cell_type": "code",
   "id": "z21VaRo8MM-V",
   "metadata": {
    "id": "z21VaRo8MM-V"
   },
   "source": [
    "# TODO: use SARIMA, => detrend and remove saisonality\n",
    "# Take a look the the residuals\n",
    "# is the model good?\n",
    "# Then, the residuals have no (p)ACF\n",
    "# check QQ - WN has no heavy tails :)\n",
    "# also consider: https://www.youtube.com/watch?v=4zV-ZyQHl7s\n",
    "\n",
    "# TODO: decompose + fit SARIMA model\n",
    "# before: continue with denoising :)\n",
    "\n"
   ],
   "outputs": [],
   "execution_count": null
  },
  {
   "cell_type": "markdown",
   "id": "Tz7prQAvEMDe",
   "metadata": {
    "id": "Tz7prQAvEMDe"
   },
   "source": [
    "# FT model (works also with the 1h data)"
   ]
  },
  {
   "cell_type": "code",
   "id": "mIeW_AchEMw2",
   "metadata": {
    "colab": {
     "base_uri": "https://localhost:8080/"
    },
    "id": "mIeW_AchEMw2",
    "outputId": "ef0cc7aa-fd37-4052-d62d-a49953230237"
   },
   "source": [
    "# Evtl. erwägen eins der GP-Repos zu porten? z.B. ABCDflow?\n",
    "\n",
    "import pandas as pd\n",
    "import numpy as np\n",
    "import matplotlib.pyplot as plt\n",
    "\n",
    "\n",
    "from darts import TimeSeries\n",
    "from darts.models import FFT, AutoARIMA, ExponentialSmoothing, Theta\n",
    "from darts.metrics import mae\n",
    "from darts.utils.missing_values import fill_missing_values"
   ],
   "outputs": [],
   "execution_count": null
  },
  {
   "cell_type": "code",
   "id": "CmUEzZC1aXBX",
   "metadata": {
    "id": "CmUEzZC1aXBX"
   },
   "source": [
    "train_size = np.sum(ts.index < pd.Timestamp('2020-01-01 00:00:00+0000', tz='UTC'))"
   ],
   "outputs": [],
   "execution_count": null
  },
  {
   "cell_type": "code",
   "id": "yj8QO-LLIACr",
   "metadata": {
    "colab": {
     "base_uri": "https://localhost:8080/"
    },
    "id": "yj8QO-LLIACr",
    "outputId": "d9fd0c34-954c-46a7-8d4b-4c2372da591f"
   },
   "source": [
    "from darts import TimeSeries\n",
    "\n",
    "#train_size = int(len(solar_ts_series_corrected_variance) * 0.3)\n",
    "train_size = np.sum(ts.index < pd.Timestamp('2020-01-01 00:00:00+0000', tz='UTC'))\n",
    "ts_train = ts[:train_size]\n",
    "ts_test = ts[train_size:]\n",
    "\n",
    "darts_ts_train = TimeSeries.from_series(ts_train)\n",
    "darts_ts_test = TimeSeries.from_series(ts_test)"
   ],
   "outputs": [],
   "execution_count": null
  },
  {
   "cell_type": "code",
   "id": "_cNs1jnKNiFJ",
   "metadata": {
    "colab": {
     "base_uri": "https://localhost:8080/",
     "height": 54
    },
    "id": "_cNs1jnKNiFJ",
    "outputId": "ff6908b2-f8b5-4ab7-eb11-71068d9ae343"
   },
   "source": [
    "plt.figure(figsize=(19,4))"
   ],
   "outputs": [],
   "execution_count": null
  },
  {
   "cell_type": "code",
   "id": "Io_i7CHS0Yli",
   "metadata": {
    "id": "Io_i7CHS0Yli"
   },
   "source": [
    "def do_fourier(model, darts_ts_train, darts_ts_test):\n",
    "  model.fit(darts_ts_train)\n",
    "  pred_val = model.predict(len(darts_ts_test))\n",
    "  plt.figure(figsize=(24,4))\n",
    "  #darts_ts_train.plot(label=\"train\")\n",
    "  darts_ts_test.plot(label=\"val\")\n",
    "  print(\"MAE:\", mae(pred_val, darts_ts_test))\n",
    "  return pred_val.plot(label=\"prediction\")"
   ],
   "outputs": [],
   "execution_count": null
  },
  {
   "cell_type": "code",
   "id": "JngxR4rOIUva",
   "metadata": {
    "colab": {
     "base_uri": "https://localhost:8080/",
     "height": 262
    },
    "id": "JngxR4rOIUva",
    "outputId": "97e94cb1-e303-491d-fbab-4a2a77e88d1e"
   },
   "source": [
    "# baseline FFT model\n",
    "model = FFT(required_matches=set(), nr_freqs_to_keep=None)\n",
    "do_fourier(model, darts_ts_train, darts_ts_test)"
   ],
   "outputs": [],
   "execution_count": null
  },
  {
   "cell_type": "code",
   "id": "s7Y0XIaPR1Cr",
   "metadata": {
    "colab": {
     "base_uri": "https://localhost:8080/",
     "height": 262
    },
    "id": "s7Y0XIaPR1Cr",
    "outputId": "88fcd70c-5d7a-4151-fe12-d1cc8db2313a"
   },
   "source": [
    "# interesting: matching day and month makes the result worse whereas it should\n",
    "# make it better!\n",
    "model = FFT(required_matches={\"day\", \"month\"}, nr_freqs_to_keep=None)\n",
    "do_fourier(model, darts_ts_train, darts_ts_test)"
   ],
   "outputs": [],
   "execution_count": null
  },
  {
   "cell_type": "code",
   "id": "mdG0W_fDerZZ",
   "metadata": {
    "colab": {
     "base_uri": "https://localhost:8080/",
     "height": 261
    },
    "id": "mdG0W_fDerZZ",
    "outputId": "f942fdcd-71d1-4387-dcab-d04ac25922f8"
   },
   "source": [
    "# zoom-in\n",
    "# the plot in the presentation was done on the data on their original resolution\n",
    "model = FFT(nr_freqs_to_keep=5000)\n",
    "do_fourier(model, darts_ts_train, darts_ts_test[:175])"
   ],
   "outputs": [],
   "execution_count": null
  },
  {
   "cell_type": "code",
   "id": "wWoljzoiOfjE",
   "metadata": {
    "colab": {
     "base_uri": "https://localhost:8080/",
     "height": 221
    },
    "id": "wWoljzoiOfjE",
    "outputId": "36160058-99eb-4a31-ca2f-3da8ef8be6b1"
   },
   "source": [
    "import darts.metrics.metrics\n",
    "\n",
    "if slow:\n",
    "  model = FFT()\n",
    "  model.gridsearch(\n",
    "  parameters={\n",
    "        \"nr_freqs_to_keep\": [10, 50, 100, 500, 1000, 2000, 5000, 10000, 15000, 20000]\n",
    "    },\n",
    "    series=darts_ts_train,\n",
    "    val_series=darts_ts_test,\n",
    "    verbose=True,\n",
    "    metric = darts.metrics.metrics.mae\n",
    "  )"
   ],
   "outputs": [],
   "execution_count": null
  },
  {
   "cell_type": "markdown",
   "metadata": {
    "id": "aMGcWv1xwqWF"
   },
   "source": [
    "#GP (as filtering method, ready)"
   ],
   "id": "aMGcWv1xwqWF"
  },
  {
   "cell_type": "markdown",
   "source": [
    "We employ Gaussian processes as a filtering / preprocessing method, not for forecasting."
   ],
   "metadata": {
    "id": "yOUvJKd1j9mv"
   },
   "id": "yOUvJKd1j9mv"
  },
  {
   "cell_type": "code",
   "metadata": {
    "id": "QcU5tDawwtEt"
   },
   "source": [
    "import matplotlib.pyplot as plt\n",
    "import numpy as np\n",
    "from sklearn.gaussian_process.kernels import ExpSineSquared, RBF\n",
    "\n",
    "from darts import TimeSeries\n",
    "from darts.models import GaussianProcessFilter\n",
    "from darts.utils import timeseries_generation as tg"
   ],
   "id": "QcU5tDawwtEt",
   "outputs": [],
   "execution_count": null
  },
  {
   "cell_type": "code",
   "metadata": {
    "id": "caAHfdtPwwEE"
   },
   "source": [
    "NOISE_DISTANCE = 0.4\n",
    "SAMPLE_SIZE = 200\n",
    "np.random.seed(42)"
   ],
   "id": "caAHfdtPwwEE",
   "outputs": [],
   "execution_count": null
  },
  {
   "cell_type": "code",
   "source": [
    "kernel = ExpSineSquared()\n",
    "\n",
    "gpf = GaussianProcessFilter(\n",
    "    kernel=kernel, alpha=NOISE_DISTANCE / 2, n_restarts_optimizer=100\n",
    ")\n",
    "\n",
    "\n",
    "filtered_x_samples = gpf.filter(darts_ts_train[:300], num_samples=150)\n",
    "\n",
    "plt.figure(figsize=[12, 8])\n",
    "darts_ts_train[:300].plot(color=\"black\", label=\"Original solar data\")\n",
    "filtered_x_samples.plot(color=\"blue\", label=\"Confidence interval of filtered solar data\")\n",
    "plt.legend()"
   ],
   "metadata": {
    "colab": {
     "base_uri": "https://localhost:8080/",
     "height": 844
    },
    "id": "aSccS9ENHyou",
    "outputId": "3aab30fa-5ed6-4dcf-c87f-9c92e9298ed9"
   },
   "id": "aSccS9ENHyou",
   "outputs": [],
   "execution_count": null
  },
  {
   "cell_type": "markdown",
   "source": [
    "Given the general energy curve shape (sinusoidal) and the increasing trend in data volatility, ExpSineSquared is the obvious first choice, but its performance is not great.\n",
    "The results look similar to FFT, but there is big problem - the resulting output is just repetitive (each 1-day period is identical).\n",
    "We've seen this for the FFT, too, if too few frequencies were retained. Even for the very small training set, the cell takes a lot of time to execute, so the effect of raising num_samples could not be investigated further. Also, the runtimes are unbearingly slow.\n"
   ],
   "metadata": {
    "id": "yBTgxjhESjab"
   },
   "id": "yBTgxjhESjab"
  },
  {
   "cell_type": "code",
   "source": [
    "kernel = RBF()\n",
    "\n",
    "filtered_x_samples = gpf.filter(darts_ts_train[:600], num_samples=200) # num_samples were 100\n",
    "\n",
    "plt.figure(figsize=[12, 8])\n",
    "darts_ts_train[:600].plot(color=\"black\", label=\"Original solar data\")\n",
    "filtered_x_samples.plot(color=\"blue\", label=\"Confidence interval of filtered solar data\")\n",
    "plt.legend()"
   ],
   "metadata": {
    "colab": {
     "base_uri": "https://localhost:8080/",
     "height": 713
    },
    "id": "f2_5qY-uTqfx",
    "outputId": "0000e093-8fd7-4362-dd9d-d23d2f3142d4"
   },
   "id": "f2_5qY-uTqfx",
   "outputs": [],
   "execution_count": null
  },
  {
   "cell_type": "markdown",
   "source": [
    "The RBF kernel performs much better here, capturing the general peak height. Still, as with FFT, there are problems at night time.\n",
    "One can safely reduce num_samples to 50 without high increases in error, still the high execution times make applying the filter on the whole dataset unfeasible."
   ],
   "metadata": {
    "id": "SRiMRWzuVHRr"
   },
   "id": "SRiMRWzuVHRr"
  },
  {
   "cell_type": "markdown",
   "id": "M2IbcutMeQQG",
   "metadata": {
    "id": "M2IbcutMeQQG"
   },
   "source": [
    "Fazit:\n",
    "Rein/Rauszoomen bei den Plots liefert unterschiedliche Intuitionen\n",
    "==> Entsprechend Frequenzen mit Vorsicht zu genießen"
   ]
  },
  {
   "cell_type": "markdown",
   "id": "kywfuwuJHkso",
   "metadata": {
    "id": "kywfuwuJHkso"
   },
   "source": [
    "# AD1/AD2 (works also on the 1h data)"
   ]
  },
  {
   "cell_type": "code",
   "id": "H3PbUzG9HnUr",
   "metadata": {
    "id": "H3PbUzG9HnUr"
   },
   "source": [
    "import numpy as np\n",
    "import pandas as pd\n",
    "from tensorflow import keras\n",
    "from tensorflow.keras import layers\n",
    "from matplotlib import pyplot as plt"
   ],
   "outputs": [],
   "execution_count": null
  },
  {
   "cell_type": "code",
   "id": "r5Z5Am-eIOPE",
   "metadata": {
    "id": "r5Z5Am-eIOPE"
   },
   "source": [
    "TIME_STEPS = 288\n",
    "\n",
    "# Generated training sequences for use in the model:\n",
    "# rolling windows of size TIME_STEPS\n",
    "def create_sequences(values, time_steps):\n",
    "    output = []\n",
    "    for i in range(len(values) - time_steps + 1):\n",
    "        output.append(values[i : (i + time_steps)])\n",
    "    return np.stack(output)\n",
    "\n",
    "\n",
    "def prepare_data(x, sample_type, time_steps):\n",
    "    # normalize x (=train or test data) and create windows.\n",
    "    x_mean = x.mean()\n",
    "    x_std = x.std()\n",
    "    df_training_value = (x - x_mean) / x_std\n",
    "    print(f\"Number of {sample_type} samples:\", len(x))\n",
    "\n",
    "    x_ret = create_sequences(df_training_value.values, time_steps)\n",
    "    print(\"{sample_type} input shape: \", x_ret.shape)\n",
    "    return x_ret\n",
    "\n",
    "def AE_anomaly_detection(x_train, x_test, time_steps):\n",
    "    # change this to False to use an LSTM instead.\n",
    "    simple = True\n",
    "\n",
    "    x_train = prepare_data(x_train, \"training\", time_steps)\n",
    "\n",
    "    if simple:\n",
    "      model = keras.Sequential(\n",
    "          [\n",
    "            layers.Input(shape=(x_train.shape[1], x_train.shape[2])),\n",
    "            layers.Conv1D(\n",
    "                filters=32, kernel_size=7, padding=\"same\", strides=2, activation=\"relu\"\n",
    "            ),\n",
    "            layers.Dropout(rate=0.2),\n",
    "            layers.Conv1D(\n",
    "                filters=16, kernel_size=7, padding=\"same\", strides=2, activation=\"relu\"\n",
    "            ),\n",
    "            layers.Conv1DTranspose(\n",
    "                filters=16, kernel_size=7, padding=\"same\", strides=2, activation=\"relu\"\n",
    "            ),\n",
    "            layers.Dropout(rate=0.2),\n",
    "            layers.Conv1DTranspose(\n",
    "                filters=32, kernel_size=7, padding=\"same\", strides=2, activation=\"relu\"\n",
    "            ),\n",
    "            layers.Conv1DTranspose(filters=1, kernel_size=7, padding=\"same\"),\n",
    "          ]\n",
    "      )\n",
    "    else:\n",
    "      model = keras.Sequential(\n",
    "          [\n",
    "            layers.LSTM(128, input_shape=(x_train.shape[1], x_train.shape[2])),\n",
    "            layers.Dropout(rate=0.2),\n",
    "            layers.RepeatVector(x_train.shape[1]),\n",
    "            layers.LSTM(128, return_sequences=True),\n",
    "            layers.Dropout(rate=0.2),\n",
    "            layers.TimeDistributed(layers.Dense(x_train.shape[2])),\n",
    "          ]\n",
    "      )\n",
    "\n",
    "\n",
    "    model.compile(optimizer=keras.optimizers.Adam(learning_rate=0.001), loss=\"mse\")\n",
    "    history = model.fit(\n",
    "    x_train,\n",
    "    x_train,\n",
    "    epochs=50,\n",
    "    batch_size=128,\n",
    "    validation_split=0.1,\n",
    "    callbacks=[\n",
    "        keras.callbacks.EarlyStopping(monitor=\"val_loss\", patience=5, mode=\"min\")\n",
    "       ],\n",
    "    )\n",
    "\n",
    "    ## Get train MAE loss, compute reconstruction error threshold.\n",
    "    x_train_pred = model.predict(x_train)\n",
    "    train_mae_loss = np.mean(np.abs(x_train_pred - x_train), axis=1)\n",
    "\n",
    "    plt.hist(train_mae_loss, bins=50)\n",
    "    plt.xlabel(\"Train MAE loss\")\n",
    "    plt.ylabel(\"No of samples\")\n",
    "    plt.show()\n",
    "\n",
    "    # Get reconstruction loss threshold.\n",
    "    # Here, we use 90% of the maximum training threshold, but one could\n",
    "    # experiment with this value!\n",
    "    threshold = np.max(train_mae_loss)*0.9\n",
    "    print(\"Reconstruction error threshold: \", threshold)\n",
    "\n",
    "\n",
    "    x_test = prepare_data(x_test, \"test\", time_steps)\n",
    "\n",
    "    ## Get test MAE loss, determine anomalous slices.\n",
    "    x_test_pred = model.predict(x_test)\n",
    "    test_mae_loss = np.mean(np.abs(x_test_pred - x_test), axis=1)\n",
    "    test_mae_loss = test_mae_loss.reshape((-1))\n",
    "\n",
    "    plt.hist(test_mae_loss, bins=50)\n",
    "    plt.xlabel(\"test MAE loss\")\n",
    "    plt.ylabel(\"No of samples\")\n",
    "    plt.show()\n",
    "\n",
    "    # Detect all the anomalous slices.\n",
    "    anomalies = test_mae_loss > threshold\n",
    "    print(anomalies)\n",
    "    print(\"Number of anomaly samples: \", np.sum(anomalies))\n",
    "    return anomalies"
   ],
   "outputs": [],
   "execution_count": null
  },
  {
   "cell_type": "code",
   "id": "ebC18C5wIQBQ",
   "metadata": {
    "id": "ebC18C5wIQBQ",
    "colab": {
     "base_uri": "https://localhost:8080/",
     "height": 1000
    },
    "outputId": "8a80720a-ddcb-4535-f002-9c328b894fcb"
   },
   "source": [
    "TIME_STEPS = 288\n",
    "train_end_idx=300\n",
    "\n",
    "test_part = ts[(train_end_idx+1):]\n",
    "\n",
    "anomalies = AE_anomaly_detection(ts.iloc[1:train_end_idx].to_frame(),\n",
    "                                 ts.iloc[(train_end_idx+1):].to_frame(),\n",
    "                                 time_steps=TIME_STEPS)\n",
    "\n",
    "anomalous_data_indices = []\n",
    "for data_idx in range(TIME_STEPS - 1, len(test_part) - TIME_STEPS + 1):\n",
    "    # get all windows where the sample is in\n",
    "    sample_anomalies = anomalies[data_idx - TIME_STEPS + 1 : data_idx]\n",
    "    # a sample is anomalous if it is in more than 90% anomalous windows\n",
    "    if np.mean(sample_anomalies) > 0.9:\n",
    "        anomalous_data_indices.append(data_idx)\n",
    "abnormal_subset = test_part.iloc[anomalous_data_indices]\n",
    "\n",
    "fig, ax = plt.subplots()\n",
    "ts.plot(legend=False, ax=ax)\n",
    "if len(abnormal_subset)>0:\n",
    "  abnormal_subset.plot(legend=False, ax=ax, color=\"r\")\n",
    "plt.show()"
   ],
   "outputs": [],
   "execution_count": null
  },
  {
   "cell_type": "markdown",
   "source": [
    "Play around with the parameter simple to select either the CNN or the LSTM and the parameter train_end_idx.\n",
    "Only samples in the test set are evaluated for being anomalous, but we could apply the test on the training data, too.\n",
    "Note that for the plots in the presentation, the time series with increasing volatility was used."
   ],
   "metadata": {
    "id": "DiQrKOLTZNSz"
   },
   "id": "DiQrKOLTZNSz"
  },
  {
   "cell_type": "markdown",
   "id": "Cgb9YbZ-P27V",
   "metadata": {
    "id": "Cgb9YbZ-P27V"
   },
   "source": [
    "# NBEATS (Darts), (works on the 1h data), *should* be good to go, needs testing on the GPU."
   ]
  },
  {
   "cell_type": "code",
   "id": "0uWL2aLNP5KC",
   "metadata": {
    "id": "0uWL2aLNP5KC"
   },
   "source": [
    "from darts import TimeSeries, concatenate\n",
    "from darts.utils.callbacks import TFMProgressBar\n",
    "from darts.models import NBEATSModel\n",
    "from darts.dataprocessing.transformers import Scaler, MissingValuesFiller\n",
    "from darts.metrics import mape, r2_score\n",
    "from darts.datasets import EnergyDataset\n",
    "from darts import concatenate"
   ],
   "outputs": [],
   "execution_count": null
  },
  {
   "cell_type": "code",
   "id": "C-Ynmm6nQY7V",
   "metadata": {
    "id": "C-Ynmm6nQY7V"
   },
   "source": [
    "def display_forecast(pred_series, ts_transformed, forecast_type, start_date=None):\n",
    "    plt.figure(figsize=(8, 5))\n",
    "    if start_date:\n",
    "        ts_transformed = ts_transformed.drop_before(start_date)\n",
    "    ts_transformed.univariate_component(0).plot(label=\"actual\")\n",
    "    pred_series.plot(label=(\"historic \" + forecast_type + \" forecasts\"))\n",
    "    plt.title(\n",
    "        \"R2: {}\".format(r2_score(ts_transformed.univariate_component(0), pred_series))\n",
    "    )\n",
    "    plt.legend()\n",
    "\n",
    "def generate_torch_kwargs():\n",
    "    # run torch models on CPU, and disable progress bars for all model stages except training.\n",
    "    return {\n",
    "        \"pl_trainer_kwargs\": {\n",
    "            \"accelerator\": \"cpu\",\n",
    "            \"callbacks\": [TFMProgressBar(enable_train_bar_only=True)],\n",
    "        }\n",
    "    }"
   ],
   "outputs": [],
   "execution_count": null
  },
  {
   "cell_type": "code",
   "id": "0kFVX7HlQbaC",
   "metadata": {
    "id": "0kFVX7HlQbaC",
    "colab": {
     "base_uri": "https://localhost:8080/",
     "height": 541
    },
    "outputId": "ee5a0185-3962-40ca-b970-ee89195fed0e"
   },
   "source": [
    "scaler = Scaler()\n",
    "\n",
    "#ts_train_orig = solar_ts_series[:train_size]\n",
    "#ts_test_orig = solar_ts_series[train_size:]\n",
    "\n",
    "#darts_ts_train_orig = TimeSeries.from_series(ts_train_orig)\n",
    "#darts_ts_test_orig = TimeSeries.from_series(ts_test_orig)\n",
    "\n",
    "#darts_ts_train_orig_scaled = scaler.fit_transform(darts_ts_train_orig)\n",
    "#darts_ts_test_orig_scaled = scaler.transform(darts_ts_test_orig)\n",
    "#darts_ts_full_orig_scaled = scaler.transform(TimeSeries.from_series(solar_ts_series))\n",
    "\n",
    "#darts_ts_train_orig_scaled.plot(label=\"training\")\n",
    "#darts_ts_test_orig_scaled.plot(label=\"val\")\n",
    "\n",
    "train_size = np.sum(ts.index < pd.Timestamp('2020-01-01 00:00:00+0000', tz='UTC'))\n",
    "ts_train = ts[:train_size]\n",
    "ts_test = ts[train_size:]\n",
    "\n",
    "# data is not normal yet!\n",
    "darts_ts_train = scaler.fit_transform(TimeSeries.from_series(ts_train))\n",
    "darts_ts_test = scaler.transform(TimeSeries.from_series(ts_test))\n",
    "darts_ts_full = scaler.transform(TimeSeries.from_series(ts))\n",
    "\n",
    "darts_ts_train.plot(label=\"training\")\n",
    "darts_ts_test.plot(label=\"val\")"
   ],
   "outputs": [],
   "execution_count": null
  },
  {
   "cell_type": "code",
   "id": "08T5vQ5QS_sN",
   "metadata": {
    "id": "08T5vQ5QS_sN"
   },
   "source": [
    "model_name = \"nbeats_run\"\n",
    "model_nbeats = NBEATSModel(\n",
    "    input_chunk_length=30,\n",
    "    output_chunk_length=7,\n",
    "    generic_architecture=True,\n",
    "    num_stacks=10,\n",
    "    num_blocks=1,\n",
    "    num_layers=4,\n",
    "    layer_widths=512,\n",
    "    n_epochs=100,\n",
    "    nr_epochs_val_period=1,\n",
    "    batch_size=800,\n",
    "    random_state=42,\n",
    "    model_name=model_name,\n",
    "    save_checkpoints=True,\n",
    "    force_reset=True,\n",
    "    **generate_torch_kwargs(),\n",
    ")"
   ],
   "outputs": [],
   "execution_count": null
  },
  {
   "cell_type": "code",
   "id": "nkpT-YrtTHZ-",
   "metadata": {
    "id": "nkpT-YrtTHZ-",
    "colab": {
     "base_uri": "https://localhost:8080/",
     "height": 491,
     "referenced_widgets": [
      "2c33341b927b494fbe70a87978347f24",
      "6771761a036f4a929d0834a69d5c66a3",
      "141775ad59fb40f493a182df8f1c6c05",
      "d08f9da48bd249dbb25656f5dfe5c1d3",
      "7e88af0021674d12875a8ab8a7058342",
      "559de5b2d4c04ce9aacfa3096edc3fd6",
      "be3b3ee23e51426eb10ee97396a6d211",
      "acf60c81238f49a6b3034db46f2f3266",
      "6e31923b309f46ca866fa11b18df6782",
      "5a9f204081db42268108d367c7387343",
      "da75eb2ab84d4178a413007f01d40c0e"
     ]
    },
    "outputId": "b7279a79-b125-4731-f0f2-e7b25376e0f4"
   },
   "source": [
    "model_nbeats.fit(darts_ts_train, val_series=darts_ts_test)"
   ],
   "outputs": [],
   "execution_count": null
  },
  {
   "cell_type": "code",
   "id": "DwTyWRp3Tpfn",
   "metadata": {
    "id": "DwTyWRp3Tpfn",
    "colab": {
     "base_uri": "https://localhost:8080/",
     "height": 338
    },
    "outputId": "9f939707-eac6-4b38-fd2b-7ae2f9df0aa9"
   },
   "source": [
    "model_nbeats = NBEATSModel.load_from_checkpoint(model_name=model_name, best=True)"
   ],
   "outputs": [],
   "execution_count": null
  },
  {
   "cell_type": "code",
   "id": "aIi5Vp-gU_-h",
   "metadata": {
    "id": "aIi5Vp-gU_-h"
   },
   "source": [
    "pred_series = model_nbeats.historical_forecasts(\n",
    "    darts_ts_full,\n",
    "    start=darts_ts_test.start_time(),\n",
    "    forecast_horizon=7,\n",
    "    stride=7,\n",
    "    last_points_only=False,\n",
    "    retrain=False,\n",
    "    verbose=True,\n",
    ")\n",
    "pred_series = concatenate(pred_series)\n",
    "\n",
    "display_forecast(\n",
    "    pred_series,\n",
    "    darts_ts_full,\n",
    "    \"7 day\",\n",
    "    start_date=darts_ts_test.start_time(),\n",
    ")"
   ],
   "outputs": [],
   "execution_count": null
  },
  {
   "cell_type": "code",
   "id": "5TNCGQS89No-",
   "metadata": {
    "id": "5TNCGQS89No-"
   },
   "source": [
    "nbeats_pred = model_nbeats.predict(n=24*4*7)\n",
    "nbeats_test = darts_ts_test[0:(24*4*7)]"
   ],
   "outputs": [],
   "execution_count": null
  },
  {
   "cell_type": "code",
   "id": "LB7BEsut-8t8",
   "metadata": {
    "id": "LB7BEsut-8t8"
   },
   "source": [
    "nbeats_pred.plot()\n",
    "nbeats_test.plot()"
   ],
   "outputs": [],
   "execution_count": null
  },
  {
   "cell_type": "code",
   "id": "FyEfQCs31i0D",
   "metadata": {
    "id": "FyEfQCs31i0D"
   },
   "source": [],
   "outputs": [],
   "execution_count": null
  },
  {
   "cell_type": "markdown",
   "id": "8Rzr0-7mcaOs",
   "metadata": {
    "id": "8Rzr0-7mcaOs"
   },
   "source": [
    "# NHITS"
   ]
  },
  {
   "cell_type": "code",
   "source": [
    "from statsforecast import StatsForecast\n",
    "from ray import tune\n",
    "\n",
    "from neuralforecast.auto import AutoNHITS, AutoLSTM\n",
    "from neuralforecast.core import NeuralForecast\n",
    "\n",
    "from neuralforecast.losses.pytorch import DistributionLoss, MQLoss\n",
    "\n",
    "import logging\n",
    "logging.getLogger(\"pytorch_lightning\").setLevel(logging.WARNING)"
   ],
   "metadata": {
    "id": "Hop2_eMUrVc_"
   },
   "id": "Hop2_eMUrVc_",
   "outputs": [],
   "execution_count": null
  },
  {
   "cell_type": "code",
   "id": "CxZqppS9xj9G",
   "metadata": {
    "id": "CxZqppS9xj9G"
   },
   "source": [
    "solar_ts_series_nhits = solar_ts_series.reset_index().rename(columns={\"Datum\":\"ds\",\"Leistung\":\"y\"})\n",
    "ts_nhits = ts.reset_index().rename(columns={\"index\":\"ds\", 0:\"y\"})\n",
    "# NeuralForecast is inherently multivariate. We just assign UID as our unique\n",
    "# id, the exact choice doesn't matter.\n",
    "ts_nhits.insert(column=\"unique_id\", value=\"UID\", loc=0)"
   ],
   "outputs": [],
   "execution_count": null
  },
  {
   "cell_type": "code",
   "id": "NwxW96CBcbN-",
   "metadata": {
    "id": "NwxW96CBcbN-",
    "colab": {
     "base_uri": "https://localhost:8080/",
     "height": 245
    },
    "outputId": "8989e8aa-1f54-4f2d-ec7d-dab4cef54baf"
   },
   "source": [
    "StatsForecast.plot(ts_nhits, engine='matplotlib')"
   ],
   "outputs": [],
   "execution_count": null
  },
  {
   "cell_type": "code",
   "id": "GJZULYgSco-C",
   "metadata": {
    "id": "GJZULYgSco-C"
   },
   "source": [
    "horizon = 24*5 # We run into GPU-RAM limitations for larger horizons\n",
    "\n",
    "\n",
    "# in the tune.choice, one can also specify multiple choices and NeuralForecase\n",
    "# will optimize. That would take too long for us, though.\n",
    "nhits_config = {\n",
    "    \"learning_rate\": tune.choice([1e-3]),                                     # Initial Learning rate\n",
    "    \"max_steps\": tune.choice([50]),                                         # Number of SGD steps\n",
    "    \"input_size\": tune.choice([5 * horizon]),                                 # input_size = multiplier * horiz\n",
    "    \"batch_size\": tune.choice([7]),                                           # Number of series in windows\n",
    "    \"windows_batch_size\": tune.choice([256]),                                 # Number of windows in batch\n",
    "    \"n_pool_kernel_size\": tune.choice([[2, 2, 2], [16, 8, 1]]),               # MaxPool's Kernelsize\n",
    "    \"n_freq_downsample\": tune.choice([[168, 24, 1], [24, 12, 1], [1, 1, 1]]), # Interpolation expressivity ratios\n",
    "    \"activation\": tune.choice(['ReLU']),                                      # Type of non-linear activation\n",
    "    \"n_blocks\":  tune.choice([[1, 1, 1]]),                                    # Blocks per each 3 stacks\n",
    "    \"mlp_units\":  tune.choice([[[512, 512], [512, 512], [512, 512]]]),        # 2 512-Layers per block for each stack\n",
    "    \"interpolation_mode\": tune.choice(['linear']),                            # Type of multi-step interpolation\n",
    "    \"random_seed\": tune.randint(1, 10),\n",
    "    \"scaler_type\": tune.choice(['robust']),\n",
    "    \"val_check_steps\": tune.choice([100])\n",
    "  }"
   ],
   "outputs": [],
   "execution_count": null
  },
  {
   "cell_type": "code",
   "id": "itH6ZN76hA_w",
   "metadata": {
    "id": "itH6ZN76hA_w"
   },
   "source": [
    "models = [AutoNHITS(h=horizon,\n",
    "                    loss=DistributionLoss(distribution='StudentT', level=[80, 90]),\n",
    "                    config=nhits_config,\n",
    "                    num_samples=3)] # num_samples war 5\n",
    "\n",
    "nf = NeuralForecast(\n",
    "    models=models,\n",
    "    freq=\"1h\"\n",
    ")"
   ],
   "outputs": [],
   "execution_count": null
  },
  {
   "cell_type": "code",
   "id": "2SE8TknFo23k",
   "metadata": {
    "id": "2SE8TknFo23k",
    "colab": {
     "base_uri": "https://localhost:8080/",
     "height": 1000,
     "referenced_widgets": [
      "f593ebc95f80426bbce8d41aee287399",
      "17eae07737df4957ac5e433081121fea",
      "22160fa58b1748df824057ba4a74dd14",
      "62fac5bb7f854fd1a2166cc527f39432",
      "61776c064e1f4ac2acc54e320052b4e3",
      "bea1de3654d148c9808a2a37ba57de5d",
      "f5ea7e19d53e4ef48c87a357801c0dda",
      "25c843d763024c39a86d1c2e430bdf4f",
      "f669022a9eb8437697393d8777cf09aa",
      "06743a01984f43d796a423ebc9e2695c",
      "c710a54522d648938212cd132b31d59d",
      "8d88c38cbc3c41809c4eb140feab2150",
      "63fbeed07a8b413ca01cf95fb55b7a86",
      "1569a67429aa4bed9affb3a13bedd595",
      "1849be4220234a76b6fbf974c2543154",
      "b71e2c424d6f49bb801f7389b84aa7ac",
      "8f5b326c12a2487c8da28529f444b41d",
      "bd5adffc07f140e5b3846d1416672dd9",
      "592fdd90bdb04dad9ee8dc11bf2a8311",
      "5ba330f186bb44e6870d06590f73524e",
      "42bb6e208e6e40808e00b272a351c576",
      "b326fbc6108e4ab48d22d1191cf2aa01",
      "a5ddb66e86964b5dace2d6dd123e0953",
      "d98b2c1ec0eb4f5b85f6ee30554426a7",
      "668a6b4c0b3b47b788a1558669db20b6",
      "36b104a962f341cf9d79679db594019b",
      "5ba8dea492e948e9bb6c07de61feec2f",
      "e972264d3197408392f65feb25e47cea",
      "e5ab2d7dc7ab4129b9ca03d4fde69a61",
      "e1a1f56340254819a94296f60eb2d379",
      "89931a7b7e934ca5ae6da1e0b8739a21",
      "81313e8656fb4101ae39c09152a10f11",
      "2194d658f3c54286b58b10a288dafb82"
     ]
    },
    "outputId": "a2401769-5671-47c3-d359-2aa289de5f2c"
   },
   "source": [
    "#Y_df = PandasDataset.from_long_dataframe(solar_ts_series_gp, target='y', item_id='unique_id', timestamp='ds', freq='15min')\n",
    "nf.fit(df=ts_nhits[1:5000])#[1:326921])"
   ],
   "outputs": [],
   "execution_count": null
  },
  {
   "cell_type": "code",
   "id": "zJNEMVO8o3k0",
   "metadata": {
    "id": "zJNEMVO8o3k0",
    "colab": {
     "base_uri": "https://localhost:8080/",
     "height": 106,
     "referenced_widgets": [
      "45d2d26a204748489e9724bef639782b",
      "94a4261dae4d479583e2ad9aa96957ef",
      "c89b7b44b6db4426b4a2e6f75789b92d",
      "6cbbbe41c3554d20b59190f170cb098f",
      "5de0fa7183964086b49c138adfbbd82e",
      "68aa8cc699fc4d9396c960a8bccb725f",
      "f2a17474a4f749b09458cf736cfe335d",
      "c67cea59930b46e791ec36428e0efc3b",
      "d0c4d99c3d5a4c39899e77b717a9589d",
      "dff83c44b4a34b3a8cd8602153985c3f",
      "826c78fb1e6c44558186e8fd86dcf703"
     ]
    },
    "outputId": "b83510d2-1cbb-470e-a406-5cfa7cb6d7d7"
   },
   "source": [
    "fcst_df = nf.predict()\n",
    "# in my understanding, the AutoNHITS will have this information already\n",
    "fcst_df = fcst_df.drop(\"AutoNHITS-median\", axis=1)\n",
    "#fcst_df.columns = fcst_df.columns.str.replace('-median', '')\n"
   ],
   "outputs": [],
   "execution_count": null
  },
  {
   "cell_type": "code",
   "id": "uI_gfKKJaHk4",
   "metadata": {
    "id": "uI_gfKKJaHk4"
   },
   "source": [
    "#fcst_df.columns = fcst_df.columns.str.replace('-median', '')\n",
    "fcst_df = fcst_df.reset_index()\n",
    "fcst_df.head()"
   ],
   "outputs": [],
   "execution_count": null
  },
  {
   "cell_type": "code",
   "source": [
    "ts_nhits"
   ],
   "metadata": {
    "colab": {
     "base_uri": "https://localhost:8080/",
     "height": 424
    },
    "id": "mFDqBwIX505V",
    "outputId": "b15e4c66-b4fa-49d0-ea03-a1f27a234aa5"
   },
   "id": "mFDqBwIX505V",
   "outputs": [],
   "execution_count": null
  },
  {
   "cell_type": "code",
   "id": "67K4VkAeP8Xi",
   "metadata": {
    "id": "67K4VkAeP8Xi",
    "colab": {
     "base_uri": "https://localhost:8080/",
     "height": 286
    },
    "outputId": "1b797e39-bad2-4562-eeac-9a4db86141ab"
   },
   "source": [
    "# -- ansonsten, falls das nicht geht, so setze den plot wie den GARCH-prediction-plot fort. Ne Sache von <20 Minuten :)\n",
    "# fcst_df.set_index(\"unique_id\").drop(\"AutoNHITS\", axis=1)\n",
    "StatsForecast.plot(ts_nhits[5000-24:(5000+5*24)], fcst_df,engine='matplotlib', level=[80, 90])#, )"
   ],
   "outputs": [],
   "execution_count": null
  },
  {
   "cell_type": "code",
   "id": "P-2SG3kko-DK",
   "metadata": {
    "id": "P-2SG3kko-DK",
    "colab": {
     "base_uri": "https://localhost:8080/",
     "height": 1000,
     "referenced_widgets": [
      "740b467c30a44f4489e2fdf0ab2e6843",
      "dd34fb7396ac4b3287072fbcff7c9992",
      "214f89b9c1f347b791291c2ed695d419",
      "0a0fa7c6a30742eb99548b51a1e46c5d",
      "fdd08bb333a54d1185f665332846471a",
      "2d3be07ab881471b9d3f4acf9acd519c",
      "530ca05bb4ab43d8b07d8afb792bb79f",
      "c483762a4b864afb9d27be098bc11f2d",
      "d577874a8e4e457dbf6b790f60f069a7",
      "a4552168b5aa49ec878e0261edcba7f2",
      "d9309798dd794e90bdc3fc7c72707cff",
      "852a6a4794264907b678f164e4beade3",
      "42af410b3df14785ac65f1cc3c2bc368",
      "90205c9f7788459abaa7517456e24006",
      "c0e3a2c8ad664af593a4e0358835e9e3",
      "4eb2120131f34cf6a0c04e89c9098f9d",
      "c960a960ab5d433f920d6c07e65f1555",
      "7a2d9fb324de4319be0171aae69c26f1",
      "a812964129fa4dd38291aee2ca2404b2",
      "342c7dd79b63498b8d91dc91ac2f3c16",
      "94ac99290c5647669b4754473408b655",
      "d975297cad6f45f1a15688c32b80d90d",
      "7dd07ad627e945bb96826b9995dc18c4",
      "706dd5008fe946f280d82060ec9f160e"
     ]
    },
    "outputId": "f71a16f7-e480-4fdc-d265-39d709530309"
   },
   "source": [
    "# ... ooder statt fit+predict\n",
    "if True:\n",
    "  val_size = 96*10\n",
    "  test_size = 96*10\n",
    "  cv_df = nf.cross_validation(ts_nhits, n_windows=2)\n",
    "  %%capture\n",
    "  Y_hat_df = nf.cross_validation(df=ts_nhits, val_size=val_size,\n",
    "                                test_size=test_size, n_windows=None)"
   ],
   "outputs": [],
   "execution_count": null
  },
  {
   "cell_type": "code",
   "source": [
    "ts_nhits"
   ],
   "metadata": {
    "colab": {
     "base_uri": "https://localhost:8080/",
     "height": 424
    },
    "id": "JuFCIOyv8C8j",
    "outputId": "86cb6489-b1fc-4947-868c-00778443776b"
   },
   "id": "JuFCIOyv8C8j",
   "outputs": [],
   "execution_count": null
  },
  {
   "cell_type": "code",
   "id": "SknFyu2JvaB0",
   "metadata": {
    "id": "SknFyu2JvaB0"
   },
   "source": [
    "Y_hat_df = Y_hat_df.reset_index(drop=True)\n",
    "Y_hat_df = Y_hat_df[(Y_hat_df['unique_id']=='OT') & (Y_hat_df['cutoff']=='2018-02-11 12:00:00')]\n",
    "Y_hat_df = Y_hat_df.drop(columns=['y','cutoff'])"
   ],
   "outputs": [],
   "execution_count": null
  },
  {
   "cell_type": "code",
   "id": "3hfyzLwLvc0Z",
   "metadata": {
    "id": "3hfyzLwLvc0Z"
   },
   "source": [
    "plot_df = Y_df.merge(Y_hat_df, on=['unique_id','ds'], how='outer').tail(96*10+50+96*4).head(96*2+96*4)\n",
    "\n",
    "plt.plot(plot_df['ds'], plot_df['y'], c='black', label='True')\n",
    "plt.plot(plot_df['ds'], plot_df['AutoNHITS-median'], c='blue', label='median')\n",
    "plt.fill_between(x=plot_df['ds'],\n",
    "                    y1=plot_df['AutoNHITS-lo-90'], y2=plot_df['AutoNHITS-hi-90'],\n",
    "                    alpha=0.4, label='level 90')\n",
    "plt.legend()\n",
    "plt.grid()\n",
    "plt.plot()"
   ],
   "outputs": [],
   "execution_count": null
  },
  {
   "cell_type": "code",
   "id": "supzB1qMqOn3",
   "metadata": {
    "id": "supzB1qMqOn3"
   },
   "source": [
    "cv_df.columns = cv_df.columns.str.replace('-median', '')"
   ],
   "outputs": [],
   "execution_count": null
  },
  {
   "cell_type": "code",
   "id": "aDjaSuawqRNs",
   "metadata": {
    "id": "aDjaSuawqRNs"
   },
   "source": [
    "cv_df.head()"
   ],
   "outputs": [],
   "execution_count": null
  },
  {
   "cell_type": "code",
   "id": "2wyzpzEAqcNa",
   "metadata": {
    "id": "2wyzpzEAqcNa"
   },
   "source": [
    "for cutoff in cv_df['cutoff'].unique():\n",
    "    StatsForecast.plot(\n",
    "        Y_df,\n",
    "        cv_df.query('cutoff == @cutoff').drop(columns=['y', 'cutoff']),\n",
    "        max_insample_length=48 * 4,\n",
    "        unique_ids=['H185'],\n",
    "        engine='matplotlib'\n",
    "    )"
   ],
   "outputs": [],
   "execution_count": null
  },
  {
   "cell_type": "code",
   "source": [
    "# as an aside, NeuralForecast also supports LSTM, so one could also do a full model comparison as follows:\n",
    "\n",
    "if False:\n",
    "  config_lstm = {\n",
    "      \"input_size\": tune.choice([48, 48*2, 48*3]),              # Length of input window\n",
    "      \"encoder_hidden_size\": tune.choice([64, 128]),            # Hidden size of LSTM cells\n",
    "      \"encoder_n_layers\": tune.choice([2,4]),                   # Number of layers in LSTM\n",
    "      \"learning_rate\": tune.loguniform(1e-4, 1e-2),             # Initial Learning rate\n",
    "      \"scaler_type\": tune.choice(['robust']),                   # Scaler type\n",
    "      \"max_steps\": tune.choice([500, 1000]),                    # Max number of training iterations\n",
    "      \"batch_size\": tune.choice([1, 4]),                        # Number of series in batch\n",
    "      \"random_seed\": tune.randint(1, 20),                       # Random seed\n",
    "  }\n",
    "\n",
    "  models.append(AutoLSTM(h=48, config=config_lstm, loss=MQLoss(), num_samples=2))\n",
    "# .. then run NeuralForecast as above."
   ],
   "metadata": {
    "id": "dNuFlNPoto6Y"
   },
   "id": "dNuFlNPoto6Y",
   "outputs": [],
   "execution_count": null
  },
  {
   "cell_type": "markdown",
   "source": [],
   "metadata": {
    "id": "MFZgsgWsRyOP"
   },
   "id": "MFZgsgWsRyOP"
  },
  {
   "cell_type": "markdown",
   "id": "LvgKpdVV5YoL",
   "metadata": {
    "id": "LvgKpdVV5YoL"
   },
   "source": [
    "# Model Class, Backtesting, Metrics (from Andrea, ready)\n"
   ]
  },
  {
   "cell_type": "code",
   "source": [],
   "metadata": {
    "id": "RNNNzK__HxBg"
   },
   "id": "RNNNzK__HxBg",
   "outputs": [],
   "execution_count": null
  },
  {
   "cell_type": "code",
   "id": "2smyVst15fcm",
   "metadata": {
    "id": "2smyVst15fcm"
   },
   "source": [],
   "outputs": [],
   "execution_count": null
  },
  {
   "cell_type": "code",
   "id": "dec4f289",
   "metadata": {
    "id": "dec4f289"
   },
   "source": [
    "import matplotlib.pyplot as plt\n",
    "from sklearn.ensemble import RandomForestRegressor"
   ],
   "outputs": [],
   "execution_count": null
  },
  {
   "cell_type": "code",
   "id": "0a5fc6f0",
   "metadata": {
    "id": "0a5fc6f0"
   },
   "source": [
    "if False:\n",
    "  # Plot Naive Model\n",
    "  naive_model = moving_average(ts)\n",
    "\n",
    "  test_date_start = '2024-01-01 00:00+00:00'\n",
    "  test_ts = ts[test_date_start:]\n",
    "  naive_model_print = naive_model[test_date_start:]\n",
    "\n",
    "  plt.figure(figsize=(12, 6))\n",
    "  plt.plot(test_ts.index, test_ts, label='Original')\n",
    "  plt.plot(naive_model_print.index, naive_model_print, label='Moving average', linestyle='--')\n",
    "  plt.legend()\n",
    "  plt.title('Naive Model v.s. Original Data')\n",
    "  plt.xlabel('Date')\n",
    "  plt.ylabel('Time Series')\n",
    "  plt.show()"
   ],
   "outputs": [],
   "execution_count": null
  },
  {
   "cell_type": "code",
   "id": "795ce79d",
   "metadata": {
    "id": "795ce79d"
   },
   "source": [
    "class TimeSeriesPredictionModel():\n",
    "    \"\"\"\n",
    "    Time series prediction model implementation\n",
    "\n",
    "    Parameters\n",
    "    ----------\n",
    "        model_class : class\n",
    "            Choice of regressor\n",
    "        model_params : dict\n",
    "            Definition of model specific tuning parameters\n",
    "\n",
    "    Functions\n",
    "    ----------\n",
    "        init: Initialize model with given parameters\n",
    "        train : Train chosen model\n",
    "        forecast : Apply trained model to prediction period and generate forecast DataFrame\n",
    "    \"\"\"\n",
    "    def __init__(self, model_class, model_params: dict) -> None:\n",
    "        \"\"\"Initialize a new instance of time_series_prediction_model.\"\"\"\n",
    "        self.model_class = model_class\n",
    "        self.model_params = model_params\n",
    "        self.model = None\n",
    "        self.is_univariate = 'endog' in model_class.__init__.__code__.co_varnames\n",
    "\n",
    "    def train(self, X_train: pd.DataFrame = None, y_train: pd.Series = None, train_series: pd.Series = None) -> None:\n",
    "        \"\"\"Train chosen model.\"\"\"\n",
    "        # special case\n",
    "        print(self.model)\n",
    "        if isinstance(self.model, FFT):\n",
    "            self.model.fit(X_train)\n",
    "        else:\n",
    "            print(\"WRONNG path\")\n",
    "\n",
    "        if self.is_univariate:\n",
    "            if train_series is None:\n",
    "                raise ValueError(\"train_series must be provided for univariate models\")\n",
    "            self.train_series = train_series\n",
    "            self.model = self.model_class(endog=self.train_series, **self.model_params)\n",
    "            self.model = self.model.fit()\n",
    "        else:\n",
    "            if X_train is None or y_train is None:\n",
    "                raise ValueError(\"X_train and y_train must be provided for multivariate models\")\n",
    "            self.X_train = X_train\n",
    "            self.y_train = y_train\n",
    "            print(\"hello world\")\n",
    "            self.model = self.model_class(**self.model_params)\n",
    "            self.model.fit(self.X_train, self.y_train)\n",
    "\n",
    "    def forecast(self, X_test: pd.DataFrame = None, start_date: str = None, end_date: str = None) -> pd.DataFrame:\n",
    "        \"\"\"Apply trained model to prediction period and generate forecast DataFrame.\"\"\"\n",
    "        if self.is_univariate:\n",
    "            #if steps is None:\n",
    "            if start_date is None or end_date is None:\n",
    "                raise ValueError(\"start_date and end_date must be provided for univariate models\")\n",
    "            #forecast = self.model.predict(start = start_date, end= end_date, typ = 'levels')\n",
    "            # Make predictions\n",
    "            start_date = pd.to_datetime(start_date)\n",
    "            end_date = pd.to_datetime(end_date)\n",
    "            forecast = self.model.predict(start=start_date, end=end_date, typ='levels')\n",
    "\n",
    "            # forecast = self.model.forecast(steps)\n",
    "            forecast_df = pd.DataFrame(forecast, columns=['Forecast'])\n",
    "        else:\n",
    "            if X_test is None:\n",
    "                raise ValueError(\"X_test must be provided for multivariate models\")\n",
    "            self.X_test = X_test\n",
    "            forecast_df = pd.DataFrame(self.model.predict(self.X_test), index=self.X_test.index)\n",
    "            forecast_df.index.name = 'Datum'\n",
    "        return forecast_df"
   ],
   "outputs": [],
   "execution_count": null
  },
  {
   "cell_type": "code",
   "id": "3330d3ca",
   "metadata": {
    "id": "3330d3ca"
   },
   "source": [
    "# Backtesting with sliding window\n",
    "\n",
    "def backtesting(X_train: pd.DataFrame, y_train: pd.DataFrame,\n",
    "                X_test: pd.DataFrame, y_test: pd.DataFrame,\n",
    "                model: TimeSeriesPredictionModel, prediction_step_size: int=96):\n",
    "    \"\"\"\n",
    "    Perform rolling forecast backtesting for a time series prediction model using\n",
    "    specified train and test datasets, and a given model.\n",
    "\n",
    "    This function splits the test data into multiple windows based on the\n",
    "    prediction_step_size and sequentially forecasts each window. After each\n",
    "    forecasting step, the window of test data used for the current prediction is\n",
    "    added to the training data, and the earliest window of the training data is\n",
    "    removed. The predictions are stored in a DataFrame alongside the original test data values.\n",
    "\n",
    "    Args:\n",
    "        X_train (pd.DataFrame): Training feature dataset.\n",
    "        y_train (pd.DataFrame): Training target dataset.\n",
    "        X_test (pd.DataFrame): Testing feature dataset.\n",
    "        y_test (pd.DataFrame): Testing target dataset.\n",
    "        model (TimeSeriesPredictionModel): The model used for time series forecasting.\n",
    "        prediction_step_size (int): The number of time steps to predict at each iteration.\n",
    "\n",
    "    Returns:\n",
    "        pd.DataFrame: A DataFrame with two columns 'Original' and 'Predictions',\n",
    "                      containing the actual values from y_test and the predictions\n",
    "                      made by the model, respectively.\n",
    "    \"\"\"\n",
    "\n",
    "    # initializing output df\n",
    "    predictions = pd.DataFrame(index=y_test.index, columns=['Original', 'Predictions'])\n",
    "    predictions['Original'] = y_test\n",
    "\n",
    "    for i in range(0, len(X_test)-prediction_step_size, prediction_step_size):\n",
    "        end_idx = i + prediction_step_size\n",
    "        forecast_index= X_test.iloc[i:end_idx].index\n",
    "\n",
    "        # fit model and predict\n",
    "        model.train(X_train, y_train)\n",
    "        forecast = model.forecast(X_test.iloc[i:end_idx])\n",
    "        predictions.loc[forecast_index, 'Predictions'] = forecast.to_numpy()\n",
    "\n",
    "        print(f'Finished Forecast for {forecast_index[-1].date()}')\n",
    "\n",
    "        # delete old time window from train data\n",
    "        X_train = X_train.drop(X_train.head(prediction_step_size).index)\n",
    "        y_train = y_train.drop(y_train.head(prediction_step_size).index)\n",
    "\n",
    "        # add next time window to train data\n",
    "        X_train = pd.concat([X_train, X_test.iloc[i:end_idx]])\n",
    "        y_train = pd.concat([y_train, y_test.iloc[i:end_idx]])\n",
    "\n",
    "    return predictions"
   ],
   "outputs": [],
   "execution_count": null
  },
  {
   "cell_type": "code",
   "id": "7ac37442",
   "metadata": {
    "id": "7ac37442"
   },
   "source": [
    "# Metrics\n",
    "\n",
    "from sklearn.metrics import mean_absolute_error, mean_absolute_percentage_error, mean_squared_error, r2_score#, root_mean_squared_error\n",
    "\n",
    "def evaluation(y_true, y_pred):\n",
    "\n",
    "    \"\"\"\n",
    "    Calculate various error metrics to evaluate the accuracy of a regression model.\n",
    "\n",
    "    This function computes the mean absolute error (MAE), mean absolute percentage error (MAPE),\n",
    "    mean squared error (MSE), coefficient of determination (R^2 score), and root mean squared error (RMSE)\n",
    "    between the actual and predicted values.\n",
    "\n",
    "    Args:\n",
    "        y_true (array-like): True values for the target variable.\n",
    "        y_pred (array-like): Predicted values generated by the model.\n",
    "\n",
    "    Returns:\n",
    "        tuple: A tuple containing:\n",
    "               - mae (float): Mean absolute error.\n",
    "               - mape (float): Mean absolute percentage error.\n",
    "               - mse (float): Mean squared error.\n",
    "               - r2 (float): R^2 score, measuring the proportion of variation explained by the model.\n",
    "               - rmse (float): Root mean squared error.\n",
    "\n",
    "    \"\"\"\n",
    "\n",
    "    mae = mean_absolute_error(y_true, y_pred)\n",
    "    mape = mean_absolute_percentage_error(y_true, y_pred)\n",
    "    mse = mean_squared_error(y_true, y_pred)\n",
    "    r2 = r2_score(y_true, y_pred)\n",
    "    #rmse = root_mean_squared_error(y_true, y_pred)\n",
    "\n",
    "    return mae, mape, mse, r2#, rmse"
   ],
   "outputs": [],
   "execution_count": null
  },
  {
   "cell_type": "code",
   "id": "6xraeReRwMfD",
   "metadata": {
    "id": "6xraeReRwMfD"
   },
   "source": [],
   "outputs": [],
   "execution_count": null
  },
  {
   "cell_type": "markdown",
   "source": [],
   "metadata": {
    "id": "FUmDNXGBRwC1"
   },
   "id": "FUmDNXGBRwC1"
  },
  {
   "cell_type": "markdown",
   "id": "swCOpYEGtg9n",
   "metadata": {
    "id": "swCOpYEGtg9n"
   },
   "source": [
    "# Univariate data processing"
   ]
  },
  {
   "cell_type": "code",
   "id": "eebmKg4ZsUbh",
   "metadata": {
    "id": "eebmKg4ZsUbh"
   },
   "source": [
    "import matplotlib.pyplot as plt\n",
    "from statsmodels.graphics import tsaplots\n",
    "from statsmodels.tsa.stattools import acf"
   ],
   "outputs": [],
   "execution_count": null
  },
  {
   "cell_type": "code",
   "id": "ZeWORtEKsWho",
   "metadata": {
    "colab": {
     "base_uri": "https://localhost:8080/",
     "height": 1000
    },
    "id": "ZeWORtEKsWho",
    "outputId": "10548be9-999c-43c1-9f08-958bb708ce07"
   },
   "source": [
    "# Autocorrelation plots\n",
    "x_label = 'Lags'\n",
    "y_label = 'Autocorrelation'\n",
    "\n",
    "# Titles for each subplot\n",
    "plot_titles = ['2 Days (48 h)', '2 Weeks (336)', '2 Months (1487 h)', '2 Years (17520 h)']\n",
    "lags = [48, 336, 1487, 17520]\n",
    "\n",
    "# X and Y labels\n",
    "x_label = 'Lags'\n",
    "y_label = 'Autocorrelation'\n",
    "\n",
    "fig, axes = plt.subplots(2, 2, figsize=(12, 10))\n",
    "all_autocorr_values = {}\n",
    "\n",
    "for i, ax in enumerate(axes.flatten()):\n",
    "    tsaplots.plot_acf(ts, ax=ax, lags=lags[i])\n",
    "    ax.set_title(plot_titles[i])\n",
    "    ax.set_xlabel(x_label)\n",
    "    ax.set_ylabel(y_label)\n",
    "\n",
    "    # Compute autocorrelation values\n",
    "    autocorr_values = acf(ts, nlags=lags[i])\n",
    "\n",
    "    # Collect all autocorrelation values\n",
    "    for lag in range(1, len(autocorr_values)):\n",
    "        if lag not in all_autocorr_values:\n",
    "            all_autocorr_values[lag] = []\n",
    "        all_autocorr_values[lag].append(autocorr_values[lag])\n",
    "\n",
    "plt.tight_layout()\n",
    "plt.show()\n",
    "\n",
    "# Combine all autocorrelation values and find the highest values\n",
    "combined_autocorr_values = {lag: np.mean(values) for lag, values in all_autocorr_values.items()}\n",
    "\n",
    "# Get the highest values\n",
    "sorted_lags = sorted(combined_autocorr_values.items(), key=lambda item: item[1], reverse=True)\n",
    "sorted_lags_filtered = [item for item in sorted_lags if item[0] >= 24]\n",
    "top_5_combined_lags = sorted_lags_filtered[:5]\n",
    "least_3_combined_lags = sorted_lags_filtered[-3:]\n",
    "\n",
    "print(\"Top 5 lags with highest combined autocorrelation values:\")\n",
    "for lag, value in top_5_combined_lags:\n",
    "    print(f\"Lag {lag}: {value:.4f}\")"
   ],
   "outputs": [],
   "execution_count": null
  },
  {
   "cell_type": "code",
   "id": "INDj4Y4xtx6F",
   "metadata": {
    "id": "INDj4Y4xtx6F"
   },
   "source": [
    "# Data preparation for univariate TimeSeriesPredictionModel\n",
    "lags = [24, 48, 72, 96, 120]\n",
    "\n",
    "data = pd.DataFrame(index=ts.index)\n",
    "data['Original'] = ts\n",
    "for lag in lags:\n",
    "    data[f'{lag}_Lag'] = ts.shift(lag)"
   ],
   "outputs": [],
   "execution_count": null
  },
  {
   "cell_type": "code",
   "id": "fEqjgN3VuFhO",
   "metadata": {
    "id": "fEqjgN3VuFhO"
   },
   "source": [
    "# Data train-test split\n",
    "train_df = data[:'2022-12-31 23:00:00+00:00']\n",
    "y_train = train_df[['Original']]\n",
    "X_train = train_df.drop(columns=['Original'])\n",
    "\n",
    "valuation_df = data['2023-01-01 00:00:00+00:00':'2023-12-31 23:00:00+00:00']\n",
    "y_valuation = valuation_df[['Original']]\n",
    "X_valuation = valuation_df.drop(columns=['Original'])\n",
    "\n",
    "test_df = data['2024-01-01 00:00:00+00:00':]\n",
    "y_test = test_df[['Original']]\n",
    "X_test = test_df.drop(columns=['Original'])"
   ],
   "outputs": [],
   "execution_count": null
  },
  {
   "cell_type": "code",
   "id": "mvHqbitb_hxd",
   "metadata": {
    "id": "mvHqbitb_hxd"
   },
   "source": [
    "print(data.index.unique())"
   ],
   "outputs": [],
   "execution_count": null
  },
  {
   "cell_type": "markdown",
   "id": "M9jJRdkitLCG",
   "metadata": {
    "id": "M9jJRdkitLCG"
   },
   "source": [
    "# Univariate Models"
   ]
  },
  {
   "cell_type": "markdown",
   "id": "XWbUaUSutSpA",
   "metadata": {
    "id": "XWbUaUSutSpA"
   },
   "source": [
    "## Naive model: Moving Average"
   ]
  },
  {
   "cell_type": "code",
   "id": "jFS_6JExtXCn",
   "metadata": {
    "id": "jFS_6JExtXCn"
   },
   "source": [
    "# Moving average model\n",
    "def moving_average(data: pd.DataFrame, window_size: int=3, shift_size: int=24):\n",
    "    moving_avg = data.rolling(window=window_size).mean()\n",
    "    shifted_moving_avg = moving_avg.shift(shift_size)\n",
    "    return(shifted_moving_avg)"
   ],
   "outputs": [],
   "execution_count": null
  },
  {
   "cell_type": "code",
   "id": "QJBGDUFEtYt9",
   "metadata": {
    "id": "QJBGDUFEtYt9",
    "colab": {
     "base_uri": "https://localhost:8080/",
     "height": 563
    },
    "outputId": "2ee3e94b-163d-495c-b7c6-9bf2b090bf43"
   },
   "source": [
    "# Plot Naive Model Predictions\n",
    "naive_model = moving_average(ts)\n",
    "\n",
    "test_date_start = '2024-01-01 00:00:00+00:00'\n",
    "test_ts = ts[test_date_start:]\n",
    "naive_model_print = naive_model[test_date_start:]\n",
    "\n",
    "plt.figure(figsize=(12, 6))\n",
    "plt.plot(test_ts.index, test_ts, label='Original')\n",
    "plt.plot(naive_model_print.index, naive_model_print, label='Moving average', linestyle='--')\n",
    "plt.legend()\n",
    "plt.title('Moving Average')\n",
    "plt.xlabel('Date')\n",
    "plt.ylabel('Time Series')\n",
    "plt.show()"
   ],
   "outputs": [],
   "execution_count": null
  },
  {
   "cell_type": "code",
   "id": "DrIpSLaVtbUz",
   "metadata": {
    "id": "DrIpSLaVtbUz"
   },
   "source": [
    "# Detail Plot Naive Model Predictions\n",
    "naive_model = moving_average(ts)\n",
    "\n",
    "test_date_start = '2024-04-24 00:00+00:00'\n",
    "test_ts = ts[test_date_start:]\n",
    "naive_model_print = naive_model[test_date_start:]\n",
    "\n",
    "plt.figure(figsize=(12, 6))\n",
    "plt.plot(test_ts.index, test_ts, label='Original')\n",
    "plt.plot(naive_model_print.index, naive_model_print, label='Moving average', linestyle='--')\n",
    "plt.legend()\n",
    "plt.title('Moving Average')\n",
    "plt.xlabel('Date')\n",
    "plt.ylabel('Time Series')\n",
    "plt.show()"
   ],
   "outputs": [],
   "execution_count": null
  },
  {
   "cell_type": "code",
   "id": "68oJyge4uKHU",
   "metadata": {
    "id": "68oJyge4uKHU"
   },
   "source": [
    "# Metrics Naive Model\n",
    "mae, mape, mse, r2, rmse = evaluation(test_ts, naive_model_print)\n",
    "\n",
    "print(f'Model: Naive Moving Average \\n Mean absolute error: {mae}\\n Mean absolute percentage error: {mape} \\n Mean squared error: {mse} \\n r2_score: {r2} \\n Root mean squared error: {rmse}')"
   ],
   "outputs": [],
   "execution_count": null
  },
  {
   "cell_type": "markdown",
   "id": "JAfsHUTOugjB",
   "metadata": {
    "id": "JAfsHUTOugjB"
   },
   "source": [
    "## Random Forest"
   ]
  },
  {
   "cell_type": "code",
   "id": "snsXcUeVuiSb",
   "metadata": {
    "id": "snsXcUeVuiSb"
   },
   "source": [
    "from sklearn.ensemble import RandomForestRegressor"
   ],
   "outputs": [],
   "execution_count": null
  },
  {
   "cell_type": "code",
   "id": "lGXokZhWuj4c",
   "metadata": {
    "id": "lGXokZhWuj4c"
   },
   "source": [
    "# Initializing random forest regressor as instance of TimeSeriesPredictionModel\n",
    "rdnf = TimeSeriesPredictionModel(RandomForestRegressor, {'n_estimators': 150, 'criterion': 'squared_error', 'max_depth': 10})"
   ],
   "outputs": [],
   "execution_count": null
  },
  {
   "cell_type": "code",
   "id": "FxCOqkZjulav",
   "metadata": {
    "id": "FxCOqkZjulav"
   },
   "source": [
    "rdnf_pred = backtesting(X_train, y_train, X_test, y_test, rdnf)\n",
    "rdnf_pred = rdnf_pred.dropna()"
   ],
   "outputs": [],
   "execution_count": null
  },
  {
   "cell_type": "code",
   "id": "SI_PSByUuzyR",
   "metadata": {
    "id": "SI_PSByUuzyR"
   },
   "source": [
    "# Plot Random Forest Predictions\n",
    "test_date_start = '2024-01-01 00:00+00:00'\n",
    "test_ts = ts[test_date_start:]\n",
    "\n",
    "plt.figure(figsize=(12, 6))\n",
    "plt.plot(test_ts.index, test_ts, label='Original')\n",
    "plt.plot(rdnf_pred.index, rdnf_pred['Predictions'], label='Random Forest', linestyle='--')\n",
    "plt.legend()\n",
    "plt.title('Random Forest')\n",
    "plt.xlabel('Date')\n",
    "plt.ylabel('Time Series')\n",
    "plt.show()"
   ],
   "outputs": [],
   "execution_count": null
  },
  {
   "cell_type": "code",
   "id": "nnnzoYe9u2D-",
   "metadata": {
    "id": "nnnzoYe9u2D-"
   },
   "source": [
    "# Detail Plot Random Forest Predictions\n",
    "test_date_start = '2024-04-24 00:00+00:00'\n",
    "test_date_end = '2024-04-30 23:00:00+00:00'\n",
    "\n",
    "plt.figure(figsize=(12, 6))\n",
    "plt.plot(test_ts[test_date_start:test_date_end].index, test_ts[test_date_start:test_date_end], label='Original')\n",
    "plt.plot(rdnf_pred[test_date_start:test_date_end].index, rdnf_pred[test_date_start:test_date_end]['Predictions'], label='Random Forest', linestyle='--')\n",
    "plt.legend()\n",
    "plt.title('Random Forest')\n",
    "plt.xlabel('Date')\n",
    "plt.ylabel('Time Series')\n",
    "plt.show()"
   ],
   "outputs": [],
   "execution_count": null
  },
  {
   "cell_type": "code",
   "id": "FR-LHlvpvBdT",
   "metadata": {
    "id": "FR-LHlvpvBdT"
   },
   "source": [
    "mae, mape, mse, r2, rmse = evaluation(rdnf_pred['Original'], rdnf_pred['Predictions'])\n",
    "\n",
    "print(f'Model: Random Forest \\n Mean absolute error: {mae}\\n Mean absolute percentage error: {mape} \\n Mean squared error: {mse} \\n r2_score: {r2} \\n Root mean squared error: {rmse}')"
   ],
   "outputs": [],
   "execution_count": null
  },
  {
   "cell_type": "code",
   "id": "eaA_wuUFvDiX",
   "metadata": {
    "id": "eaA_wuUFvDiX"
   },
   "source": [
    "# Metrics comparison random forest default settings v.s. optimized hyperparameters\n",
    "rdn_forest_default = [0.85, 2.54, 0.83, 1.59]\n",
    "rdn_forest_optimized = [mae, mse, r2, rmse]\n",
    "index = ['mae', 'mse',\n",
    "         'r2', 'rmse']\n",
    "df = pd.DataFrame({'Rdn Forest': rdn_forest_default,\n",
    "                   'Rdn Forest optimized': rdn_forest_optimized}, index=index)\n",
    "ax = df.plot.bar(rot=0)"
   ],
   "outputs": [],
   "execution_count": null
  },
  {
   "cell_type": "code",
   "id": "K3DruzyBvG08",
   "metadata": {
    "id": "K3DruzyBvG08"
   },
   "source": [
    "# CatBoost"
   ],
   "outputs": [],
   "execution_count": null
  },
  {
   "cell_type": "code",
   "id": "Ac-9Bku1vLrE",
   "metadata": {
    "id": "Ac-9Bku1vLrE"
   },
   "source": [
    "from catboost import CatBoostRegressor\n",
    "\n",
    "# Initializing CatBoost regressor as instance of TimeSeriesPredictionModel\n",
    "cboost = TimeSeriesPredictionModel(CatBoostRegressor, {'iterations': 20, 'learning_rate': 0.25, 'depth': 16})"
   ],
   "outputs": [],
   "execution_count": null
  },
  {
   "cell_type": "code",
   "id": "MVhAXViovOUA",
   "metadata": {
    "id": "MVhAXViovOUA"
   },
   "source": [
    "\n",
    "cboost_pred = backtesting(X_train, y_train, X_test, y_test, cboost)\n",
    "cboost_pred = cboost_pred.dropna()"
   ],
   "outputs": [],
   "execution_count": null
  },
  {
   "cell_type": "markdown",
   "id": "GGF7XQpOu_Gy",
   "metadata": {
    "id": "GGF7XQpOu_Gy"
   },
   "source": []
  },
  {
   "cell_type": "code",
   "id": "nFBg_fSivKXX",
   "metadata": {
    "id": "nFBg_fSivKXX"
   },
   "source": [
    "test_date_start = '2024-01-01 00:00+00:00'\n",
    "test_ts = ts[test_date_start:]\n",
    "\n",
    "plt.figure(figsize=(12, 6))\n",
    "plt.plot(test_ts.index, test_ts, label='Original')\n",
    "plt.plot(cboost_pred.index, rdnf_pred['Predictions'], label='CatBoost', linestyle='--')\n",
    "plt.legend()\n",
    "plt.title('CatBoost')\n",
    "plt.xlabel('Date')\n",
    "plt.ylabel('Time Series')\n",
    "plt.show()"
   ],
   "outputs": [],
   "execution_count": null
  },
  {
   "cell_type": "code",
   "id": "ouKyKcbCvR1o",
   "metadata": {
    "id": "ouKyKcbCvR1o"
   },
   "source": [
    "test_date_start = '2024-04-27 00:00+00:00'\n",
    "test_date_end = '2024-05-03 23:00:00+00:00'\n",
    "\n",
    "plt.figure(figsize=(12, 6))\n",
    "plt.plot(test_ts[test_date_start:test_date_end].index, test_ts[test_date_start:test_date_end], label='Original')\n",
    "plt.plot(cboost_pred[test_date_start:test_date_end].index, cboost_pred[test_date_start:test_date_end]['Predictions'], label='CatBoost', linestyle='--')\n",
    "plt.legend()\n",
    "plt.title('CatBoost')\n",
    "plt.xlabel('Date')\n",
    "plt.ylabel('Time Series')\n",
    "plt.show()"
   ],
   "outputs": [],
   "execution_count": null
  },
  {
   "cell_type": "code",
   "id": "PTDYmzeJvU6c",
   "metadata": {
    "id": "PTDYmzeJvU6c"
   },
   "source": [
    "mae, mape, mse, r2, rmse = evaluation(cboost_pred['Original'], cboost_pred['Predictions'])\n",
    "\n",
    "print(f'Model: CatBoost \\n Mean absolute error: {mae}\\n Mean absolute percentage error: {mape} \\n Mean squared error: {mse} \\n r2_score: {r2} \\n Root mean squared error: {rmse}')"
   ],
   "outputs": [],
   "execution_count": null
  },
  {
   "cell_type": "markdown",
   "id": "lsI0gi8EK_TB",
   "metadata": {
    "id": "lsI0gi8EK_TB"
   },
   "source": [
    "## FFT model with backtesting (currently defunct)"
   ]
  },
  {
   "cell_type": "code",
   "id": "CZQqsfwyE4c9",
   "metadata": {
    "id": "CZQqsfwyE4c9"
   },
   "source": [
    "model = FFT(nr_freqs_to_keep=None)\n"
   ],
   "outputs": [],
   "execution_count": null
  },
  {
   "cell_type": "code",
   "id": "7U1iu97eFSp2",
   "metadata": {
    "id": "7U1iu97eFSp2"
   },
   "source": [
    "# Initializing CatBoost regressor as instance of TimeSeriesPredictionModel\n",
    "fft_model = TimeSeriesPredictionModel(FFT, {\"required_matches\":{\"day\", \"month\"}, \"nr_freqs_to_keep\":None})"
   ],
   "outputs": [],
   "execution_count": null
  },
  {
   "cell_type": "code",
   "id": "PWZrwO1LJZEU",
   "metadata": {
    "colab": {
     "base_uri": "https://localhost:8080/"
    },
    "id": "PWZrwO1LJZEU",
    "outputId": "f94cbc85-986b-495f-f4de-03f3ddc0748d"
   },
   "source": [
    "ts_train_orig = solar_ts_series[:train_size]\n",
    "ts_test_orig = solar_ts_series[train_size:]\n",
    "\n",
    "darts_ts_train_orig = TimeSeries.from_series(ts_train_orig)\n",
    "darts_ts_test_orig = TimeSeries.from_series(ts_test_orig)"
   ],
   "outputs": [],
   "execution_count": null
  },
  {
   "cell_type": "code",
   "id": "9-J9e2VLLQ11",
   "metadata": {
    "colab": {
     "base_uri": "https://localhost:8080/"
    },
    "id": "9-J9e2VLLQ11",
    "outputId": "b2cbe86c-2609-4fc8-d79e-286bb38b28c1"
   },
   "source": [
    "isinstance(fft_model.model, FFT)"
   ],
   "outputs": [],
   "execution_count": null
  },
  {
   "cell_type": "code",
   "id": "BVAa8YkXFSp5",
   "metadata": {
    "colab": {
     "base_uri": "https://localhost:8080/",
     "height": 1000
    },
    "id": "BVAa8YkXFSp5",
    "outputId": "24191156-c42a-4cb2-baf4-710e30f8c327"
   },
   "source": [
    "fft_model_pred = backtesting(X_train, y_test, X_test, y_test, fft_model)\n",
    "fft_model_pred = fft_model_pred.dropna()"
   ],
   "outputs": [],
   "execution_count": null
  },
  {
   "cell_type": "markdown",
   "id": "Y0f6sv7uvXhB",
   "metadata": {
    "id": "Y0f6sv7uvXhB"
   },
   "source": [
    "# Optimizer univariate models"
   ]
  },
  {
   "cell_type": "code",
   "id": "BUFG3IImva1G",
   "metadata": {
    "id": "BUFG3IImva1G"
   },
   "source": [
    "import random\n",
    "from sklearn.model_selection import train_test_split\n",
    "\n",
    "def random_search_optimization(model_class, param_grid, train_series=None, X_train=None, y_train=None,\n",
    "                               X_val=None, y_val=None, n_iter=10, scoring_function=None):\n",
    "    \"\"\"\n",
    "    Perform random search optimization on model parameters.\n",
    "\n",
    "    Parameters\n",
    "    ----------\n",
    "    model_class : class\n",
    "        Choice of model class (e.g., ARIMA, LinearRegression)\n",
    "    param_grid : dict\n",
    "        Dictionary with parameter names as keys and lists of parameter settings to try as values\n",
    "    train_series : pd.Series, optional\n",
    "        Training data for univariate models\n",
    "    X_train : pd.DataFrame, optional\n",
    "        Training features for multivariate models\n",
    "    y_train : pd.Series, optional\n",
    "        Training target for multivariate models\n",
    "    X_val : pd.DataFrame, optional\n",
    "        Validation features for multivariate models\n",
    "    y_val : pd.Series, optional\n",
    "        Validation target for multivariate models\n",
    "    n_iter : int\n",
    "        Number of parameter settings that are sampled\n",
    "    scoring_function : function\n",
    "        Function to evaluate model performance, should return a single score\n",
    "\n",
    "    Returns\n",
    "    -------\n",
    "    best_params : dict\n",
    "        Best parameter combination found\n",
    "    best_score : float\n",
    "        Best score obtained\n",
    "    \"\"\"\n",
    "\n",
    "    def sample_params(param_grid):\n",
    "        return {key: random.choice(values) for key, values in param_grid.items()}\n",
    "\n",
    "    best_score = float('-inf')\n",
    "    best_params = None\n",
    "\n",
    "    for i in range(n_iter):\n",
    "        print(i)\n",
    "        params = sample_params(param_grid)\n",
    "        model = TimeSeriesPredictionModel(model_class, params)\n",
    "\n",
    "        if train_series is not None:\n",
    "            model.train(train_series=train_series)\n",
    "            forecast = model.forecast(steps=len(train_series))\n",
    "            score = scoring_function(train_series[-len(forecast):], forecast)\n",
    "        else:\n",
    "            model.train(X_train=X_train, y_train=y_train)\n",
    "            forecast = model.forecast(X_test=X_val)\n",
    "            score = scoring_function(y_val, forecast)\n",
    "\n",
    "        if score > best_score:\n",
    "            best_score = score\n",
    "            best_params = params\n",
    "\n",
    "    return best_params, best_score"
   ],
   "outputs": [],
   "execution_count": null
  },
  {
   "cell_type": "code",
   "id": "iN31W8Vfvdn9",
   "metadata": {
    "id": "iN31W8Vfvdn9"
   },
   "source": [
    "# Model Optimization - Example usage\n",
    "from sklearn.metrics import mean_squared_error\n",
    "\n",
    "# Define parameter grid\n",
    "param_grid = {\n",
    "    'n_estimators': [50, 100, 150],\n",
    "    'criterion': ['squared_error'],\n",
    "    'max_depth': [5, 10, 20]}\n",
    "    # 'iterations': [20, 25, 30],\n",
    "    # 'learning_rate': [0.25, 0.5, 0.75],\n",
    "    # 'depth': [5, 10, 16]}\n",
    "\n",
    "# Example scoring function\n",
    "def my_scoring_function(true, pred):\n",
    "    return -mean_squared_error(true, pred)\n",
    "\n",
    "# Perform random search optimization\n",
    "best_params, best_score = random_search_optimization(\n",
    "    RandomForestRegressor,\n",
    "    param_grid,\n",
    "    X_train= X_train,\n",
    "    y_train= y_train,\n",
    "    X_val = X_valuation,\n",
    "    y_val= y_valuation,\n",
    "    n_iter=10,\n",
    "    scoring_function=my_scoring_function\n",
    ")\n",
    "\n",
    "print(\"Best Parameters:\", best_params)\n",
    "print(\"Best Score:\", best_score)"
   ],
   "outputs": [],
   "execution_count": null
  },
  {
   "cell_type": "markdown",
   "metadata": {
    "id": "4df253d9-7fdc-4f11-8fc5-0ba00695a399"
   },
   "source": [
    "# appendix: Extreme Values"
   ],
   "id": "4df253d9-7fdc-4f11-8fc5-0ba00695a399"
  },
  {
   "cell_type": "code",
   "metadata": {
    "id": "fe39546a-e158-459c-b3c3-64cb2ec9631e",
    "colab": {
     "base_uri": "https://localhost:8080/"
    },
    "outputId": "84d8798b-cc24-4016-949a-18d5d35706a0"
   },
   "source": [
    "!pip install pyextremes"
   ],
   "id": "fe39546a-e158-459c-b3c3-64cb2ec9631e",
   "outputs": [],
   "execution_count": null
  },
  {
   "cell_type": "code",
   "metadata": {
    "id": "1084672e-2558-4252-8beb-49fd3a23e5bf",
    "colab": {
     "base_uri": "https://localhost:8080/"
    },
    "outputId": "76acab53-088c-4885-b963-b924834c716c"
   },
   "source": [
    "from pyextremes import __version__, get_extremes\n",
    "from pyextremes.plotting import plot_extremes\n",
    "from pyextremes import EVA\n",
    "print(\"pyextremes\", __version__)"
   ],
   "id": "1084672e-2558-4252-8beb-49fd3a23e5bf",
   "outputs": [],
   "execution_count": null
  },
  {
   "cell_type": "code",
   "metadata": {
    "id": "e9a841ad-fcef-4a92-85cb-335410cc0945",
    "colab": {
     "base_uri": "https://localhost:8080/"
    },
    "outputId": "d7e83978-3981-4dbb-a6d8-c9273aa52780"
   },
   "source": [
    "# \"In order for the analysis results to be meaningful, data needs to be pre-processed by the user.\n",
    "# This may include removal of data gaps, detrending, interpolation, removal of outliers, etc.\"\n",
    "# ==> !! Data needs to be detrended! TODO: Does this also imply constant variance?\n",
    "# I assume yes and take solar_ts_series_corrected_variance as in input\n",
    "# TODO: So what exactly does pyextremes expect from the time series?\n",
    "from pyextremes import EVA\n",
    "\n",
    "model = EVA(ts)\n",
    "model"
   ],
   "id": "e9a841ad-fcef-4a92-85cb-335410cc0945",
   "outputs": [],
   "execution_count": null
  },
  {
   "cell_type": "code",
   "metadata": {
    "id": "6a1554d6-43ca-41d7-8bf1-63694958fdbb"
   },
   "source": [
    "model.get_extremes(method=\"BM\", block_size=\"365.2425D\")"
   ],
   "id": "6a1554d6-43ca-41d7-8bf1-63694958fdbb",
   "outputs": [],
   "execution_count": null
  },
  {
   "cell_type": "code",
   "metadata": {
    "id": "c96daa35-5785-4a9e-ad45-f2d62b1ab872"
   },
   "source": [
    "model.fit_model()"
   ],
   "id": "c96daa35-5785-4a9e-ad45-f2d62b1ab872",
   "outputs": [],
   "execution_count": null
  },
  {
   "cell_type": "code",
   "metadata": {
    "id": "414d473d-d9ef-4dea-94b2-5bf1217ef55a",
    "colab": {
     "base_uri": "https://localhost:8080/"
    },
    "outputId": "d3df1964-674c-435d-9e03-31ad3054a181"
   },
   "source": [
    "model"
   ],
   "id": "414d473d-d9ef-4dea-94b2-5bf1217ef55a",
   "outputs": [],
   "execution_count": null
  },
  {
   "cell_type": "code",
   "metadata": {
    "id": "21bd7c35-a112-4d7d-8704-26bb6c417452",
    "colab": {
     "base_uri": "https://localhost:8080/"
    },
    "outputId": "cc7d7140-7db6-4207-a250-75a5fe5f53ff"
   },
   "source": [
    "summary = model.get_summary(\n",
    "    return_period=[1, 2, 5, 10, 25, 50, 100, 250, 500, 1000],\n",
    "    alpha=0.95,\n",
    "    n_samples=1000,\n",
    ")\n",
    "print(summary)"
   ],
   "id": "21bd7c35-a112-4d7d-8704-26bb6c417452",
   "outputs": [],
   "execution_count": null
  },
  {
   "cell_type": "code",
   "metadata": {
    "id": "8262360c-8f72-446b-be03-cce5284b1c44",
    "colab": {
     "base_uri": "https://localhost:8080/",
     "height": 775
    },
    "outputId": "268acb27-c3e5-48df-97fc-600e6bbeecc3"
   },
   "source": [
    "model.plot_diagnostic(alpha=0.95)"
   ],
   "id": "8262360c-8f72-446b-be03-cce5284b1c44",
   "outputs": [],
   "execution_count": null
  },
  {
   "cell_type": "markdown",
   "source": [
    "The lib can be used to obtain extreme values - either as the extreme values of a period or as all values larger than a threshold - easily."
   ],
   "metadata": {
    "id": "dYV_0oCYHHMH"
   },
   "id": "dYV_0oCYHHMH"
  },
  {
   "cell_type": "code",
   "metadata": {
    "id": "30240b44-401b-46be-bec0-64293108636c",
    "colab": {
     "base_uri": "https://localhost:8080/",
     "height": 631
    },
    "outputId": "9b4e029d-8b11-4b4d-9c22-afd741bbfed3"
   },
   "source": [
    "extremes = get_extremes(\n",
    "    ts=solar_ts_series_corrected_variance,\n",
    "    method=\"BM\",\n",
    "    extremes_type=\"high\",\n",
    "    block_size=\"365.2425D\",\n",
    "    errors=\"raise\",\n",
    "    min_last_block=None,\n",
    ")\n",
    "\n",
    "plot_extremes(\n",
    "    ts=solar_ts_series_corrected_variance,\n",
    "    extremes=extremes,\n",
    "    extremes_method=\"BM\",\n",
    "    extremes_type=\"low\",\n",
    "    block_size=\"365.2425D\",\n",
    ")\n",
    "extremes"
   ],
   "id": "30240b44-401b-46be-bec0-64293108636c",
   "outputs": [],
   "execution_count": null
  },
  {
   "cell_type": "code",
   "metadata": {
    "id": "275c4bd2-47d0-4c83-b2ee-eb1cc52d7834"
   },
   "source": [
    "model.get_extremes(\"POT\", threshold=3, r=\"12H\")\n"
   ],
   "id": "275c4bd2-47d0-4c83-b2ee-eb1cc52d7834",
   "outputs": [],
   "execution_count": null
  },
  {
   "cell_type": "code",
   "metadata": {
    "id": "84348feb-73e0-4b31-8f50-8797a8cd68b3",
    "colab": {
     "base_uri": "https://localhost:8080/",
     "height": 448
    },
    "outputId": "9bebb697-f023-451b-b90a-3dc0ed445387"
   },
   "source": [
    "model.plot_extremes(show_clusters=True)"
   ],
   "id": "84348feb-73e0-4b31-8f50-8797a8cd68b3",
   "outputs": [],
   "execution_count": null
  },
  {
   "cell_type": "markdown",
   "metadata": {
    "id": "dg2DLDikzFgT"
   },
   "source": [
    "# discuss: AutoARIMA?"
   ],
   "id": "dg2DLDikzFgT"
  },
  {
   "cell_type": "code",
   "metadata": {
    "id": "4ztgWMis8Zeo",
    "colab": {
     "base_uri": "https://localhost:8080/"
    },
    "outputId": "e8ffff06-e05d-443d-a500-b392817423a9"
   },
   "source": [
    "# auto arima aic criterion\n",
    "from pmdarima.arima import auto_arima\n",
    "\n",
    "# get best ar ma\n",
    "model = auto_arima(solar_ts_series[1:10000],\n",
    "                   start_p=0, start_q=0,\n",
    "                   max_p=3, max_q=3, m=1,\n",
    "                   start_P=0, seasonal=True,\n",
    "                   d=1, D=1, trace=True,\n",
    "                   error_action='ignore',\n",
    "                   suppress_warnings=True,\n",
    "                   stepwise=True)"
   ],
   "id": "4ztgWMis8Zeo",
   "outputs": [],
   "execution_count": null
  },
  {
   "cell_type": "code",
   "metadata": {
    "id": "WVR65Hcs5x2w",
    "colab": {
     "base_uri": "https://localhost:8080/",
     "height": 1000
    },
    "outputId": "e83c8528-a3ab-4ec3-eb2a-ac80689565bc"
   },
   "source": [
    "# acf pacf plot with significNCE LINE\n",
    "from statsmodels.graphics.tsaplots import plot_acf, plot_pacf\n",
    "\n",
    "plot_acf(solar_ts_series[1:10000], lags=365, alpha=0.05)\n",
    "plot_pacf(solar_ts_series[1:10000], lags=365, alpha=0.05)\n"
   ],
   "id": "WVR65Hcs5x2w",
   "outputs": [],
   "execution_count": null
  },
  {
   "cell_type": "code",
   "metadata": {
    "id": "0rnXHxlEytPp"
   },
   "source": [
    "pred = model.predict(nsteps=4*24*4)\n",
    "mean_pred, var_pred = pred\n",
    "\n",
    "\n",
    "# Plot the actual data and the forecast for the last 100 observations\n",
    "plt.figure(figsize=(10, 6))\n",
    "\n",
    "# Plot the actual data for the last 100 observations\n",
    "plt.plot(solar_ts_series_corrected_variance[19900:(20000+4*24*4)], label='Actual Data')\n",
    "\n",
    "# Plot the forecasted mean, starting from the last actual value\n",
    "last_observation_index = solar_ts_series_corrected_variance.index[20000]# solar_ts_series_corrected_variance.index[-1]\n",
    "forecast_index = pd.date_range(start=last_observation_index, periods=len(mean_pred) + 1, freq=\"15min\")[1:]\n",
    "plt.plot(forecast_index[-100:], mean_pred[-100:], label='Forecasted Mean', color='red')\n",
    "plt.plot(forecast_index, mean_pred, label='Forecasted Mean', color='red')\n",
    "\n",
    "\n",
    "# Fill between upper and lower bounds of the forecasted variance\n",
    "plt.fill_between(forecast_index,\n",
    "                 mean_pred - np.sqrt(var_pred),\n",
    "                 mean_pred + np.sqrt(var_pred),\n",
    "                 color='red', alpha=0.2, label='Forecasted Variance')\n",
    "\n",
    "plt.title('ARMA-GARCH Forecast (Last 100 Observations)')\n",
    "plt.xlabel('Time')\n",
    "plt.ylabel('Returns')\n",
    "plt.legend()\n",
    "plt.show()"
   ],
   "id": "0rnXHxlEytPp",
   "outputs": [],
   "execution_count": null
  }
 ],
 "metadata": {
  "colab": {
   "provenance": [],
   "collapsed_sections": [
    "_fQm6m_Oii_V",
    "U8SsNwEvipI0",
    "dVeW-jvD6Vk4",
    "zr7ckL8uw3Ub",
    "3c81ebe2-0a6e-4515-82d4-70eefb852582",
    "Tz7prQAvEMDe",
    "aMGcWv1xwqWF",
    "kywfuwuJHkso",
    "Cgb9YbZ-P27V",
    "LvgKpdVV5YoL",
    "swCOpYEGtg9n",
    "XWbUaUSutSpA",
    "JAfsHUTOugjB",
    "lsI0gi8EK_TB",
    "Y0f6sv7uvXhB",
    "4df253d9-7fdc-4f11-8fc5-0ba00695a399",
    "dg2DLDikzFgT"
   ],
   "include_colab_link": true
  },
  "kernelspec": {
   "display_name": "Python 3",
   "name": "python3"
  },
  "language_info": {
   "codemirror_mode": {
    "name": "ipython",
    "version": 3
   },
   "file_extension": ".py",
   "mimetype": "text/x-python",
   "name": "python",
   "nbconvert_exporter": "python",
   "pygments_lexer": "ipython3",
   "version": "3.12.4"
  },
  "widgets": {
   "application/vnd.jupyter.widget-state+json": {
    "2c33341b927b494fbe70a87978347f24": {
     "model_module": "@jupyter-widgets/controls",
     "model_name": "HBoxModel",
     "model_module_version": "1.5.0",
     "state": {
      "_dom_classes": [],
      "_model_module": "@jupyter-widgets/controls",
      "_model_module_version": "1.5.0",
      "_model_name": "HBoxModel",
      "_view_count": null,
      "_view_module": "@jupyter-widgets/controls",
      "_view_module_version": "1.5.0",
      "_view_name": "HBoxView",
      "box_style": "",
      "children": [
       "IPY_MODEL_6771761a036f4a929d0834a69d5c66a3",
       "IPY_MODEL_141775ad59fb40f493a182df8f1c6c05",
       "IPY_MODEL_d08f9da48bd249dbb25656f5dfe5c1d3"
      ],
      "layout": "IPY_MODEL_7e88af0021674d12875a8ab8a7058342"
     }
    },
    "6771761a036f4a929d0834a69d5c66a3": {
     "model_module": "@jupyter-widgets/controls",
     "model_name": "HTMLModel",
     "model_module_version": "1.5.0",
     "state": {
      "_dom_classes": [],
      "_model_module": "@jupyter-widgets/controls",
      "_model_module_version": "1.5.0",
      "_model_name": "HTMLModel",
      "_view_count": null,
      "_view_module": "@jupyter-widgets/controls",
      "_view_module_version": "1.5.0",
      "_view_name": "HTMLView",
      "description": "",
      "description_tooltip": null,
      "layout": "IPY_MODEL_559de5b2d4c04ce9aacfa3096edc3fd6",
      "placeholder": "​",
      "style": "IPY_MODEL_be3b3ee23e51426eb10ee97396a6d211",
      "value": "Epoch 4:  22%"
     }
    },
    "141775ad59fb40f493a182df8f1c6c05": {
     "model_module": "@jupyter-widgets/controls",
     "model_name": "FloatProgressModel",
     "model_module_version": "1.5.0",
     "state": {
      "_dom_classes": [],
      "_model_module": "@jupyter-widgets/controls",
      "_model_module_version": "1.5.0",
      "_model_name": "FloatProgressModel",
      "_view_count": null,
      "_view_module": "@jupyter-widgets/controls",
      "_view_module_version": "1.5.0",
      "_view_name": "ProgressView",
      "bar_style": "",
      "description": "",
      "description_tooltip": null,
      "layout": "IPY_MODEL_acf60c81238f49a6b3034db46f2f3266",
      "max": 49,
      "min": 0,
      "orientation": "horizontal",
      "style": "IPY_MODEL_6e31923b309f46ca866fa11b18df6782",
      "value": 11
     }
    },
    "d08f9da48bd249dbb25656f5dfe5c1d3": {
     "model_module": "@jupyter-widgets/controls",
     "model_name": "HTMLModel",
     "model_module_version": "1.5.0",
     "state": {
      "_dom_classes": [],
      "_model_module": "@jupyter-widgets/controls",
      "_model_module_version": "1.5.0",
      "_model_name": "HTMLModel",
      "_view_count": null,
      "_view_module": "@jupyter-widgets/controls",
      "_view_module_version": "1.5.0",
      "_view_name": "HTMLView",
      "description": "",
      "description_tooltip": null,
      "layout": "IPY_MODEL_5a9f204081db42268108d367c7387343",
      "placeholder": "​",
      "style": "IPY_MODEL_da75eb2ab84d4178a413007f01d40c0e",
      "value": " 11/49 [00:17&lt;01:01,  1.63s/it, train_loss=0.0509, val_loss=0.0502]"
     }
    },
    "7e88af0021674d12875a8ab8a7058342": {
     "model_module": "@jupyter-widgets/base",
     "model_name": "LayoutModel",
     "model_module_version": "1.2.0",
     "state": {
      "_model_module": "@jupyter-widgets/base",
      "_model_module_version": "1.2.0",
      "_model_name": "LayoutModel",
      "_view_count": null,
      "_view_module": "@jupyter-widgets/base",
      "_view_module_version": "1.2.0",
      "_view_name": "LayoutView",
      "align_content": null,
      "align_items": null,
      "align_self": null,
      "border": null,
      "bottom": null,
      "display": "inline-flex",
      "flex": null,
      "flex_flow": "row wrap",
      "grid_area": null,
      "grid_auto_columns": null,
      "grid_auto_flow": null,
      "grid_auto_rows": null,
      "grid_column": null,
      "grid_gap": null,
      "grid_row": null,
      "grid_template_areas": null,
      "grid_template_columns": null,
      "grid_template_rows": null,
      "height": null,
      "justify_content": null,
      "justify_items": null,
      "left": null,
      "margin": null,
      "max_height": null,
      "max_width": null,
      "min_height": null,
      "min_width": null,
      "object_fit": null,
      "object_position": null,
      "order": null,
      "overflow": null,
      "overflow_x": null,
      "overflow_y": null,
      "padding": null,
      "right": null,
      "top": null,
      "visibility": null,
      "width": "100%"
     }
    },
    "559de5b2d4c04ce9aacfa3096edc3fd6": {
     "model_module": "@jupyter-widgets/base",
     "model_name": "LayoutModel",
     "model_module_version": "1.2.0",
     "state": {
      "_model_module": "@jupyter-widgets/base",
      "_model_module_version": "1.2.0",
      "_model_name": "LayoutModel",
      "_view_count": null,
      "_view_module": "@jupyter-widgets/base",
      "_view_module_version": "1.2.0",
      "_view_name": "LayoutView",
      "align_content": null,
      "align_items": null,
      "align_self": null,
      "border": null,
      "bottom": null,
      "display": null,
      "flex": null,
      "flex_flow": null,
      "grid_area": null,
      "grid_auto_columns": null,
      "grid_auto_flow": null,
      "grid_auto_rows": null,
      "grid_column": null,
      "grid_gap": null,
      "grid_row": null,
      "grid_template_areas": null,
      "grid_template_columns": null,
      "grid_template_rows": null,
      "height": null,
      "justify_content": null,
      "justify_items": null,
      "left": null,
      "margin": null,
      "max_height": null,
      "max_width": null,
      "min_height": null,
      "min_width": null,
      "object_fit": null,
      "object_position": null,
      "order": null,
      "overflow": null,
      "overflow_x": null,
      "overflow_y": null,
      "padding": null,
      "right": null,
      "top": null,
      "visibility": null,
      "width": null
     }
    },
    "be3b3ee23e51426eb10ee97396a6d211": {
     "model_module": "@jupyter-widgets/controls",
     "model_name": "DescriptionStyleModel",
     "model_module_version": "1.5.0",
     "state": {
      "_model_module": "@jupyter-widgets/controls",
      "_model_module_version": "1.5.0",
      "_model_name": "DescriptionStyleModel",
      "_view_count": null,
      "_view_module": "@jupyter-widgets/base",
      "_view_module_version": "1.2.0",
      "_view_name": "StyleView",
      "description_width": ""
     }
    },
    "acf60c81238f49a6b3034db46f2f3266": {
     "model_module": "@jupyter-widgets/base",
     "model_name": "LayoutModel",
     "model_module_version": "1.2.0",
     "state": {
      "_model_module": "@jupyter-widgets/base",
      "_model_module_version": "1.2.0",
      "_model_name": "LayoutModel",
      "_view_count": null,
      "_view_module": "@jupyter-widgets/base",
      "_view_module_version": "1.2.0",
      "_view_name": "LayoutView",
      "align_content": null,
      "align_items": null,
      "align_self": null,
      "border": null,
      "bottom": null,
      "display": null,
      "flex": "2",
      "flex_flow": null,
      "grid_area": null,
      "grid_auto_columns": null,
      "grid_auto_flow": null,
      "grid_auto_rows": null,
      "grid_column": null,
      "grid_gap": null,
      "grid_row": null,
      "grid_template_areas": null,
      "grid_template_columns": null,
      "grid_template_rows": null,
      "height": null,
      "justify_content": null,
      "justify_items": null,
      "left": null,
      "margin": null,
      "max_height": null,
      "max_width": null,
      "min_height": null,
      "min_width": null,
      "object_fit": null,
      "object_position": null,
      "order": null,
      "overflow": null,
      "overflow_x": null,
      "overflow_y": null,
      "padding": null,
      "right": null,
      "top": null,
      "visibility": null,
      "width": null
     }
    },
    "6e31923b309f46ca866fa11b18df6782": {
     "model_module": "@jupyter-widgets/controls",
     "model_name": "ProgressStyleModel",
     "model_module_version": "1.5.0",
     "state": {
      "_model_module": "@jupyter-widgets/controls",
      "_model_module_version": "1.5.0",
      "_model_name": "ProgressStyleModel",
      "_view_count": null,
      "_view_module": "@jupyter-widgets/base",
      "_view_module_version": "1.2.0",
      "_view_name": "StyleView",
      "bar_color": null,
      "description_width": ""
     }
    },
    "5a9f204081db42268108d367c7387343": {
     "model_module": "@jupyter-widgets/base",
     "model_name": "LayoutModel",
     "model_module_version": "1.2.0",
     "state": {
      "_model_module": "@jupyter-widgets/base",
      "_model_module_version": "1.2.0",
      "_model_name": "LayoutModel",
      "_view_count": null,
      "_view_module": "@jupyter-widgets/base",
      "_view_module_version": "1.2.0",
      "_view_name": "LayoutView",
      "align_content": null,
      "align_items": null,
      "align_self": null,
      "border": null,
      "bottom": null,
      "display": null,
      "flex": null,
      "flex_flow": null,
      "grid_area": null,
      "grid_auto_columns": null,
      "grid_auto_flow": null,
      "grid_auto_rows": null,
      "grid_column": null,
      "grid_gap": null,
      "grid_row": null,
      "grid_template_areas": null,
      "grid_template_columns": null,
      "grid_template_rows": null,
      "height": null,
      "justify_content": null,
      "justify_items": null,
      "left": null,
      "margin": null,
      "max_height": null,
      "max_width": null,
      "min_height": null,
      "min_width": null,
      "object_fit": null,
      "object_position": null,
      "order": null,
      "overflow": null,
      "overflow_x": null,
      "overflow_y": null,
      "padding": null,
      "right": null,
      "top": null,
      "visibility": null,
      "width": null
     }
    },
    "da75eb2ab84d4178a413007f01d40c0e": {
     "model_module": "@jupyter-widgets/controls",
     "model_name": "DescriptionStyleModel",
     "model_module_version": "1.5.0",
     "state": {
      "_model_module": "@jupyter-widgets/controls",
      "_model_module_version": "1.5.0",
      "_model_name": "DescriptionStyleModel",
      "_view_count": null,
      "_view_module": "@jupyter-widgets/base",
      "_view_module_version": "1.2.0",
      "_view_name": "StyleView",
      "description_width": ""
     }
    },
    "f593ebc95f80426bbce8d41aee287399": {
     "model_module": "@jupyter-widgets/controls",
     "model_name": "HBoxModel",
     "model_module_version": "1.5.0",
     "state": {
      "_dom_classes": [],
      "_model_module": "@jupyter-widgets/controls",
      "_model_module_version": "1.5.0",
      "_model_name": "HBoxModel",
      "_view_count": null,
      "_view_module": "@jupyter-widgets/controls",
      "_view_module_version": "1.5.0",
      "_view_name": "HBoxView",
      "box_style": "",
      "children": [
       "IPY_MODEL_17eae07737df4957ac5e433081121fea",
       "IPY_MODEL_22160fa58b1748df824057ba4a74dd14",
       "IPY_MODEL_62fac5bb7f854fd1a2166cc527f39432"
      ],
      "layout": "IPY_MODEL_61776c064e1f4ac2acc54e320052b4e3"
     }
    },
    "17eae07737df4957ac5e433081121fea": {
     "model_module": "@jupyter-widgets/controls",
     "model_name": "HTMLModel",
     "model_module_version": "1.5.0",
     "state": {
      "_dom_classes": [],
      "_model_module": "@jupyter-widgets/controls",
      "_model_module_version": "1.5.0",
      "_model_name": "HTMLModel",
      "_view_count": null,
      "_view_module": "@jupyter-widgets/controls",
      "_view_module_version": "1.5.0",
      "_view_name": "HTMLView",
      "description": "",
      "description_tooltip": null,
      "layout": "IPY_MODEL_bea1de3654d148c9808a2a37ba57de5d",
      "placeholder": "​",
      "style": "IPY_MODEL_f5ea7e19d53e4ef48c87a357801c0dda",
      "value": "Sanity Checking DataLoader 0: 100%"
     }
    },
    "22160fa58b1748df824057ba4a74dd14": {
     "model_module": "@jupyter-widgets/controls",
     "model_name": "FloatProgressModel",
     "model_module_version": "1.5.0",
     "state": {
      "_dom_classes": [],
      "_model_module": "@jupyter-widgets/controls",
      "_model_module_version": "1.5.0",
      "_model_name": "FloatProgressModel",
      "_view_count": null,
      "_view_module": "@jupyter-widgets/controls",
      "_view_module_version": "1.5.0",
      "_view_name": "ProgressView",
      "bar_style": "",
      "description": "",
      "description_tooltip": null,
      "layout": "IPY_MODEL_25c843d763024c39a86d1c2e430bdf4f",
      "max": 1,
      "min": 0,
      "orientation": "horizontal",
      "style": "IPY_MODEL_f669022a9eb8437697393d8777cf09aa",
      "value": 1
     }
    },
    "62fac5bb7f854fd1a2166cc527f39432": {
     "model_module": "@jupyter-widgets/controls",
     "model_name": "HTMLModel",
     "model_module_version": "1.5.0",
     "state": {
      "_dom_classes": [],
      "_model_module": "@jupyter-widgets/controls",
      "_model_module_version": "1.5.0",
      "_model_name": "HTMLModel",
      "_view_count": null,
      "_view_module": "@jupyter-widgets/controls",
      "_view_module_version": "1.5.0",
      "_view_name": "HTMLView",
      "description": "",
      "description_tooltip": null,
      "layout": "IPY_MODEL_06743a01984f43d796a423ebc9e2695c",
      "placeholder": "​",
      "style": "IPY_MODEL_c710a54522d648938212cd132b31d59d",
      "value": " 1/1 [00:00&lt;00:00, 255.92it/s]"
     }
    },
    "61776c064e1f4ac2acc54e320052b4e3": {
     "model_module": "@jupyter-widgets/base",
     "model_name": "LayoutModel",
     "model_module_version": "1.2.0",
     "state": {
      "_model_module": "@jupyter-widgets/base",
      "_model_module_version": "1.2.0",
      "_model_name": "LayoutModel",
      "_view_count": null,
      "_view_module": "@jupyter-widgets/base",
      "_view_module_version": "1.2.0",
      "_view_name": "LayoutView",
      "align_content": null,
      "align_items": null,
      "align_self": null,
      "border": null,
      "bottom": null,
      "display": "inline-flex",
      "flex": null,
      "flex_flow": "row wrap",
      "grid_area": null,
      "grid_auto_columns": null,
      "grid_auto_flow": null,
      "grid_auto_rows": null,
      "grid_column": null,
      "grid_gap": null,
      "grid_row": null,
      "grid_template_areas": null,
      "grid_template_columns": null,
      "grid_template_rows": null,
      "height": null,
      "justify_content": null,
      "justify_items": null,
      "left": null,
      "margin": null,
      "max_height": null,
      "max_width": null,
      "min_height": null,
      "min_width": null,
      "object_fit": null,
      "object_position": null,
      "order": null,
      "overflow": null,
      "overflow_x": null,
      "overflow_y": null,
      "padding": null,
      "right": null,
      "top": null,
      "visibility": "hidden",
      "width": "100%"
     }
    },
    "bea1de3654d148c9808a2a37ba57de5d": {
     "model_module": "@jupyter-widgets/base",
     "model_name": "LayoutModel",
     "model_module_version": "1.2.0",
     "state": {
      "_model_module": "@jupyter-widgets/base",
      "_model_module_version": "1.2.0",
      "_model_name": "LayoutModel",
      "_view_count": null,
      "_view_module": "@jupyter-widgets/base",
      "_view_module_version": "1.2.0",
      "_view_name": "LayoutView",
      "align_content": null,
      "align_items": null,
      "align_self": null,
      "border": null,
      "bottom": null,
      "display": null,
      "flex": null,
      "flex_flow": null,
      "grid_area": null,
      "grid_auto_columns": null,
      "grid_auto_flow": null,
      "grid_auto_rows": null,
      "grid_column": null,
      "grid_gap": null,
      "grid_row": null,
      "grid_template_areas": null,
      "grid_template_columns": null,
      "grid_template_rows": null,
      "height": null,
      "justify_content": null,
      "justify_items": null,
      "left": null,
      "margin": null,
      "max_height": null,
      "max_width": null,
      "min_height": null,
      "min_width": null,
      "object_fit": null,
      "object_position": null,
      "order": null,
      "overflow": null,
      "overflow_x": null,
      "overflow_y": null,
      "padding": null,
      "right": null,
      "top": null,
      "visibility": null,
      "width": null
     }
    },
    "f5ea7e19d53e4ef48c87a357801c0dda": {
     "model_module": "@jupyter-widgets/controls",
     "model_name": "DescriptionStyleModel",
     "model_module_version": "1.5.0",
     "state": {
      "_model_module": "@jupyter-widgets/controls",
      "_model_module_version": "1.5.0",
      "_model_name": "DescriptionStyleModel",
      "_view_count": null,
      "_view_module": "@jupyter-widgets/base",
      "_view_module_version": "1.2.0",
      "_view_name": "StyleView",
      "description_width": ""
     }
    },
    "25c843d763024c39a86d1c2e430bdf4f": {
     "model_module": "@jupyter-widgets/base",
     "model_name": "LayoutModel",
     "model_module_version": "1.2.0",
     "state": {
      "_model_module": "@jupyter-widgets/base",
      "_model_module_version": "1.2.0",
      "_model_name": "LayoutModel",
      "_view_count": null,
      "_view_module": "@jupyter-widgets/base",
      "_view_module_version": "1.2.0",
      "_view_name": "LayoutView",
      "align_content": null,
      "align_items": null,
      "align_self": null,
      "border": null,
      "bottom": null,
      "display": null,
      "flex": "2",
      "flex_flow": null,
      "grid_area": null,
      "grid_auto_columns": null,
      "grid_auto_flow": null,
      "grid_auto_rows": null,
      "grid_column": null,
      "grid_gap": null,
      "grid_row": null,
      "grid_template_areas": null,
      "grid_template_columns": null,
      "grid_template_rows": null,
      "height": null,
      "justify_content": null,
      "justify_items": null,
      "left": null,
      "margin": null,
      "max_height": null,
      "max_width": null,
      "min_height": null,
      "min_width": null,
      "object_fit": null,
      "object_position": null,
      "order": null,
      "overflow": null,
      "overflow_x": null,
      "overflow_y": null,
      "padding": null,
      "right": null,
      "top": null,
      "visibility": null,
      "width": null
     }
    },
    "f669022a9eb8437697393d8777cf09aa": {
     "model_module": "@jupyter-widgets/controls",
     "model_name": "ProgressStyleModel",
     "model_module_version": "1.5.0",
     "state": {
      "_model_module": "@jupyter-widgets/controls",
      "_model_module_version": "1.5.0",
      "_model_name": "ProgressStyleModel",
      "_view_count": null,
      "_view_module": "@jupyter-widgets/base",
      "_view_module_version": "1.2.0",
      "_view_name": "StyleView",
      "bar_color": null,
      "description_width": ""
     }
    },
    "06743a01984f43d796a423ebc9e2695c": {
     "model_module": "@jupyter-widgets/base",
     "model_name": "LayoutModel",
     "model_module_version": "1.2.0",
     "state": {
      "_model_module": "@jupyter-widgets/base",
      "_model_module_version": "1.2.0",
      "_model_name": "LayoutModel",
      "_view_count": null,
      "_view_module": "@jupyter-widgets/base",
      "_view_module_version": "1.2.0",
      "_view_name": "LayoutView",
      "align_content": null,
      "align_items": null,
      "align_self": null,
      "border": null,
      "bottom": null,
      "display": null,
      "flex": null,
      "flex_flow": null,
      "grid_area": null,
      "grid_auto_columns": null,
      "grid_auto_flow": null,
      "grid_auto_rows": null,
      "grid_column": null,
      "grid_gap": null,
      "grid_row": null,
      "grid_template_areas": null,
      "grid_template_columns": null,
      "grid_template_rows": null,
      "height": null,
      "justify_content": null,
      "justify_items": null,
      "left": null,
      "margin": null,
      "max_height": null,
      "max_width": null,
      "min_height": null,
      "min_width": null,
      "object_fit": null,
      "object_position": null,
      "order": null,
      "overflow": null,
      "overflow_x": null,
      "overflow_y": null,
      "padding": null,
      "right": null,
      "top": null,
      "visibility": null,
      "width": null
     }
    },
    "c710a54522d648938212cd132b31d59d": {
     "model_module": "@jupyter-widgets/controls",
     "model_name": "DescriptionStyleModel",
     "model_module_version": "1.5.0",
     "state": {
      "_model_module": "@jupyter-widgets/controls",
      "_model_module_version": "1.5.0",
      "_model_name": "DescriptionStyleModel",
      "_view_count": null,
      "_view_module": "@jupyter-widgets/base",
      "_view_module_version": "1.2.0",
      "_view_name": "StyleView",
      "description_width": ""
     }
    },
    "8d88c38cbc3c41809c4eb140feab2150": {
     "model_module": "@jupyter-widgets/controls",
     "model_name": "HBoxModel",
     "model_module_version": "1.5.0",
     "state": {
      "_dom_classes": [],
      "_model_module": "@jupyter-widgets/controls",
      "_model_module_version": "1.5.0",
      "_model_name": "HBoxModel",
      "_view_count": null,
      "_view_module": "@jupyter-widgets/controls",
      "_view_module_version": "1.5.0",
      "_view_name": "HBoxView",
      "box_style": "",
      "children": [
       "IPY_MODEL_63fbeed07a8b413ca01cf95fb55b7a86",
       "IPY_MODEL_1569a67429aa4bed9affb3a13bedd595",
       "IPY_MODEL_1849be4220234a76b6fbf974c2543154"
      ],
      "layout": "IPY_MODEL_b71e2c424d6f49bb801f7389b84aa7ac"
     }
    },
    "63fbeed07a8b413ca01cf95fb55b7a86": {
     "model_module": "@jupyter-widgets/controls",
     "model_name": "HTMLModel",
     "model_module_version": "1.5.0",
     "state": {
      "_dom_classes": [],
      "_model_module": "@jupyter-widgets/controls",
      "_model_module_version": "1.5.0",
      "_model_name": "HTMLModel",
      "_view_count": null,
      "_view_module": "@jupyter-widgets/controls",
      "_view_module_version": "1.5.0",
      "_view_name": "HTMLView",
      "description": "",
      "description_tooltip": null,
      "layout": "IPY_MODEL_8f5b326c12a2487c8da28529f444b41d",
      "placeholder": "​",
      "style": "IPY_MODEL_bd5adffc07f140e5b3846d1416672dd9",
      "value": "Epoch 49: 100%"
     }
    },
    "1569a67429aa4bed9affb3a13bedd595": {
     "model_module": "@jupyter-widgets/controls",
     "model_name": "FloatProgressModel",
     "model_module_version": "1.5.0",
     "state": {
      "_dom_classes": [],
      "_model_module": "@jupyter-widgets/controls",
      "_model_module_version": "1.5.0",
      "_model_name": "FloatProgressModel",
      "_view_count": null,
      "_view_module": "@jupyter-widgets/controls",
      "_view_module_version": "1.5.0",
      "_view_name": "ProgressView",
      "bar_style": "success",
      "description": "",
      "description_tooltip": null,
      "layout": "IPY_MODEL_592fdd90bdb04dad9ee8dc11bf2a8311",
      "max": 1,
      "min": 0,
      "orientation": "horizontal",
      "style": "IPY_MODEL_5ba330f186bb44e6870d06590f73524e",
      "value": 1
     }
    },
    "1849be4220234a76b6fbf974c2543154": {
     "model_module": "@jupyter-widgets/controls",
     "model_name": "HTMLModel",
     "model_module_version": "1.5.0",
     "state": {
      "_dom_classes": [],
      "_model_module": "@jupyter-widgets/controls",
      "_model_module_version": "1.5.0",
      "_model_name": "HTMLModel",
      "_view_count": null,
      "_view_module": "@jupyter-widgets/controls",
      "_view_module_version": "1.5.0",
      "_view_name": "HTMLView",
      "description": "",
      "description_tooltip": null,
      "layout": "IPY_MODEL_42bb6e208e6e40808e00b272a351c576",
      "placeholder": "​",
      "style": "IPY_MODEL_b326fbc6108e4ab48d22d1191cf2aa01",
      "value": " 1/1 [00:00&lt;00:00,  3.04it/s, v_num=0, train_loss_step=2.390, train_loss_epoch=2.390]"
     }
    },
    "b71e2c424d6f49bb801f7389b84aa7ac": {
     "model_module": "@jupyter-widgets/base",
     "model_name": "LayoutModel",
     "model_module_version": "1.2.0",
     "state": {
      "_model_module": "@jupyter-widgets/base",
      "_model_module_version": "1.2.0",
      "_model_name": "LayoutModel",
      "_view_count": null,
      "_view_module": "@jupyter-widgets/base",
      "_view_module_version": "1.2.0",
      "_view_name": "LayoutView",
      "align_content": null,
      "align_items": null,
      "align_self": null,
      "border": null,
      "bottom": null,
      "display": "inline-flex",
      "flex": null,
      "flex_flow": "row wrap",
      "grid_area": null,
      "grid_auto_columns": null,
      "grid_auto_flow": null,
      "grid_auto_rows": null,
      "grid_column": null,
      "grid_gap": null,
      "grid_row": null,
      "grid_template_areas": null,
      "grid_template_columns": null,
      "grid_template_rows": null,
      "height": null,
      "justify_content": null,
      "justify_items": null,
      "left": null,
      "margin": null,
      "max_height": null,
      "max_width": null,
      "min_height": null,
      "min_width": null,
      "object_fit": null,
      "object_position": null,
      "order": null,
      "overflow": null,
      "overflow_x": null,
      "overflow_y": null,
      "padding": null,
      "right": null,
      "top": null,
      "visibility": null,
      "width": "100%"
     }
    },
    "8f5b326c12a2487c8da28529f444b41d": {
     "model_module": "@jupyter-widgets/base",
     "model_name": "LayoutModel",
     "model_module_version": "1.2.0",
     "state": {
      "_model_module": "@jupyter-widgets/base",
      "_model_module_version": "1.2.0",
      "_model_name": "LayoutModel",
      "_view_count": null,
      "_view_module": "@jupyter-widgets/base",
      "_view_module_version": "1.2.0",
      "_view_name": "LayoutView",
      "align_content": null,
      "align_items": null,
      "align_self": null,
      "border": null,
      "bottom": null,
      "display": null,
      "flex": null,
      "flex_flow": null,
      "grid_area": null,
      "grid_auto_columns": null,
      "grid_auto_flow": null,
      "grid_auto_rows": null,
      "grid_column": null,
      "grid_gap": null,
      "grid_row": null,
      "grid_template_areas": null,
      "grid_template_columns": null,
      "grid_template_rows": null,
      "height": null,
      "justify_content": null,
      "justify_items": null,
      "left": null,
      "margin": null,
      "max_height": null,
      "max_width": null,
      "min_height": null,
      "min_width": null,
      "object_fit": null,
      "object_position": null,
      "order": null,
      "overflow": null,
      "overflow_x": null,
      "overflow_y": null,
      "padding": null,
      "right": null,
      "top": null,
      "visibility": null,
      "width": null
     }
    },
    "bd5adffc07f140e5b3846d1416672dd9": {
     "model_module": "@jupyter-widgets/controls",
     "model_name": "DescriptionStyleModel",
     "model_module_version": "1.5.0",
     "state": {
      "_model_module": "@jupyter-widgets/controls",
      "_model_module_version": "1.5.0",
      "_model_name": "DescriptionStyleModel",
      "_view_count": null,
      "_view_module": "@jupyter-widgets/base",
      "_view_module_version": "1.2.0",
      "_view_name": "StyleView",
      "description_width": ""
     }
    },
    "592fdd90bdb04dad9ee8dc11bf2a8311": {
     "model_module": "@jupyter-widgets/base",
     "model_name": "LayoutModel",
     "model_module_version": "1.2.0",
     "state": {
      "_model_module": "@jupyter-widgets/base",
      "_model_module_version": "1.2.0",
      "_model_name": "LayoutModel",
      "_view_count": null,
      "_view_module": "@jupyter-widgets/base",
      "_view_module_version": "1.2.0",
      "_view_name": "LayoutView",
      "align_content": null,
      "align_items": null,
      "align_self": null,
      "border": null,
      "bottom": null,
      "display": null,
      "flex": "2",
      "flex_flow": null,
      "grid_area": null,
      "grid_auto_columns": null,
      "grid_auto_flow": null,
      "grid_auto_rows": null,
      "grid_column": null,
      "grid_gap": null,
      "grid_row": null,
      "grid_template_areas": null,
      "grid_template_columns": null,
      "grid_template_rows": null,
      "height": null,
      "justify_content": null,
      "justify_items": null,
      "left": null,
      "margin": null,
      "max_height": null,
      "max_width": null,
      "min_height": null,
      "min_width": null,
      "object_fit": null,
      "object_position": null,
      "order": null,
      "overflow": null,
      "overflow_x": null,
      "overflow_y": null,
      "padding": null,
      "right": null,
      "top": null,
      "visibility": null,
      "width": null
     }
    },
    "5ba330f186bb44e6870d06590f73524e": {
     "model_module": "@jupyter-widgets/controls",
     "model_name": "ProgressStyleModel",
     "model_module_version": "1.5.0",
     "state": {
      "_model_module": "@jupyter-widgets/controls",
      "_model_module_version": "1.5.0",
      "_model_name": "ProgressStyleModel",
      "_view_count": null,
      "_view_module": "@jupyter-widgets/base",
      "_view_module_version": "1.2.0",
      "_view_name": "StyleView",
      "bar_color": null,
      "description_width": ""
     }
    },
    "42bb6e208e6e40808e00b272a351c576": {
     "model_module": "@jupyter-widgets/base",
     "model_name": "LayoutModel",
     "model_module_version": "1.2.0",
     "state": {
      "_model_module": "@jupyter-widgets/base",
      "_model_module_version": "1.2.0",
      "_model_name": "LayoutModel",
      "_view_count": null,
      "_view_module": "@jupyter-widgets/base",
      "_view_module_version": "1.2.0",
      "_view_name": "LayoutView",
      "align_content": null,
      "align_items": null,
      "align_self": null,
      "border": null,
      "bottom": null,
      "display": null,
      "flex": null,
      "flex_flow": null,
      "grid_area": null,
      "grid_auto_columns": null,
      "grid_auto_flow": null,
      "grid_auto_rows": null,
      "grid_column": null,
      "grid_gap": null,
      "grid_row": null,
      "grid_template_areas": null,
      "grid_template_columns": null,
      "grid_template_rows": null,
      "height": null,
      "justify_content": null,
      "justify_items": null,
      "left": null,
      "margin": null,
      "max_height": null,
      "max_width": null,
      "min_height": null,
      "min_width": null,
      "object_fit": null,
      "object_position": null,
      "order": null,
      "overflow": null,
      "overflow_x": null,
      "overflow_y": null,
      "padding": null,
      "right": null,
      "top": null,
      "visibility": null,
      "width": null
     }
    },
    "b326fbc6108e4ab48d22d1191cf2aa01": {
     "model_module": "@jupyter-widgets/controls",
     "model_name": "DescriptionStyleModel",
     "model_module_version": "1.5.0",
     "state": {
      "_model_module": "@jupyter-widgets/controls",
      "_model_module_version": "1.5.0",
      "_model_name": "DescriptionStyleModel",
      "_view_count": null,
      "_view_module": "@jupyter-widgets/base",
      "_view_module_version": "1.2.0",
      "_view_name": "StyleView",
      "description_width": ""
     }
    },
    "a5ddb66e86964b5dace2d6dd123e0953": {
     "model_module": "@jupyter-widgets/controls",
     "model_name": "HBoxModel",
     "model_module_version": "1.5.0",
     "state": {
      "_dom_classes": [],
      "_model_module": "@jupyter-widgets/controls",
      "_model_module_version": "1.5.0",
      "_model_name": "HBoxModel",
      "_view_count": null,
      "_view_module": "@jupyter-widgets/controls",
      "_view_module_version": "1.5.0",
      "_view_name": "HBoxView",
      "box_style": "",
      "children": [
       "IPY_MODEL_d98b2c1ec0eb4f5b85f6ee30554426a7",
       "IPY_MODEL_668a6b4c0b3b47b788a1558669db20b6",
       "IPY_MODEL_36b104a962f341cf9d79679db594019b"
      ],
      "layout": "IPY_MODEL_5ba8dea492e948e9bb6c07de61feec2f"
     }
    },
    "d98b2c1ec0eb4f5b85f6ee30554426a7": {
     "model_module": "@jupyter-widgets/controls",
     "model_name": "HTMLModel",
     "model_module_version": "1.5.0",
     "state": {
      "_dom_classes": [],
      "_model_module": "@jupyter-widgets/controls",
      "_model_module_version": "1.5.0",
      "_model_name": "HTMLModel",
      "_view_count": null,
      "_view_module": "@jupyter-widgets/controls",
      "_view_module_version": "1.5.0",
      "_view_name": "HTMLView",
      "description": "",
      "description_tooltip": null,
      "layout": "IPY_MODEL_e972264d3197408392f65feb25e47cea",
      "placeholder": "​",
      "style": "IPY_MODEL_e5ab2d7dc7ab4129b9ca03d4fde69a61",
      "value": "Validation DataLoader 0: 100%"
     }
    },
    "668a6b4c0b3b47b788a1558669db20b6": {
     "model_module": "@jupyter-widgets/controls",
     "model_name": "FloatProgressModel",
     "model_module_version": "1.5.0",
     "state": {
      "_dom_classes": [],
      "_model_module": "@jupyter-widgets/controls",
      "_model_module_version": "1.5.0",
      "_model_name": "FloatProgressModel",
      "_view_count": null,
      "_view_module": "@jupyter-widgets/controls",
      "_view_module_version": "1.5.0",
      "_view_name": "ProgressView",
      "bar_style": "",
      "description": "",
      "description_tooltip": null,
      "layout": "IPY_MODEL_e1a1f56340254819a94296f60eb2d379",
      "max": 1,
      "min": 0,
      "orientation": "horizontal",
      "style": "IPY_MODEL_89931a7b7e934ca5ae6da1e0b8739a21",
      "value": 1
     }
    },
    "36b104a962f341cf9d79679db594019b": {
     "model_module": "@jupyter-widgets/controls",
     "model_name": "HTMLModel",
     "model_module_version": "1.5.0",
     "state": {
      "_dom_classes": [],
      "_model_module": "@jupyter-widgets/controls",
      "_model_module_version": "1.5.0",
      "_model_name": "HTMLModel",
      "_view_count": null,
      "_view_module": "@jupyter-widgets/controls",
      "_view_module_version": "1.5.0",
      "_view_name": "HTMLView",
      "description": "",
      "description_tooltip": null,
      "layout": "IPY_MODEL_81313e8656fb4101ae39c09152a10f11",
      "placeholder": "​",
      "style": "IPY_MODEL_2194d658f3c54286b58b10a288dafb82",
      "value": " 1/1 [00:00&lt;00:00, 654.54it/s]"
     }
    },
    "5ba8dea492e948e9bb6c07de61feec2f": {
     "model_module": "@jupyter-widgets/base",
     "model_name": "LayoutModel",
     "model_module_version": "1.2.0",
     "state": {
      "_model_module": "@jupyter-widgets/base",
      "_model_module_version": "1.2.0",
      "_model_name": "LayoutModel",
      "_view_count": null,
      "_view_module": "@jupyter-widgets/base",
      "_view_module_version": "1.2.0",
      "_view_name": "LayoutView",
      "align_content": null,
      "align_items": null,
      "align_self": null,
      "border": null,
      "bottom": null,
      "display": "inline-flex",
      "flex": null,
      "flex_flow": "row wrap",
      "grid_area": null,
      "grid_auto_columns": null,
      "grid_auto_flow": null,
      "grid_auto_rows": null,
      "grid_column": null,
      "grid_gap": null,
      "grid_row": null,
      "grid_template_areas": null,
      "grid_template_columns": null,
      "grid_template_rows": null,
      "height": null,
      "justify_content": null,
      "justify_items": null,
      "left": null,
      "margin": null,
      "max_height": null,
      "max_width": null,
      "min_height": null,
      "min_width": null,
      "object_fit": null,
      "object_position": null,
      "order": null,
      "overflow": null,
      "overflow_x": null,
      "overflow_y": null,
      "padding": null,
      "right": null,
      "top": null,
      "visibility": "hidden",
      "width": "100%"
     }
    },
    "e972264d3197408392f65feb25e47cea": {
     "model_module": "@jupyter-widgets/base",
     "model_name": "LayoutModel",
     "model_module_version": "1.2.0",
     "state": {
      "_model_module": "@jupyter-widgets/base",
      "_model_module_version": "1.2.0",
      "_model_name": "LayoutModel",
      "_view_count": null,
      "_view_module": "@jupyter-widgets/base",
      "_view_module_version": "1.2.0",
      "_view_name": "LayoutView",
      "align_content": null,
      "align_items": null,
      "align_self": null,
      "border": null,
      "bottom": null,
      "display": null,
      "flex": null,
      "flex_flow": null,
      "grid_area": null,
      "grid_auto_columns": null,
      "grid_auto_flow": null,
      "grid_auto_rows": null,
      "grid_column": null,
      "grid_gap": null,
      "grid_row": null,
      "grid_template_areas": null,
      "grid_template_columns": null,
      "grid_template_rows": null,
      "height": null,
      "justify_content": null,
      "justify_items": null,
      "left": null,
      "margin": null,
      "max_height": null,
      "max_width": null,
      "min_height": null,
      "min_width": null,
      "object_fit": null,
      "object_position": null,
      "order": null,
      "overflow": null,
      "overflow_x": null,
      "overflow_y": null,
      "padding": null,
      "right": null,
      "top": null,
      "visibility": null,
      "width": null
     }
    },
    "e5ab2d7dc7ab4129b9ca03d4fde69a61": {
     "model_module": "@jupyter-widgets/controls",
     "model_name": "DescriptionStyleModel",
     "model_module_version": "1.5.0",
     "state": {
      "_model_module": "@jupyter-widgets/controls",
      "_model_module_version": "1.5.0",
      "_model_name": "DescriptionStyleModel",
      "_view_count": null,
      "_view_module": "@jupyter-widgets/base",
      "_view_module_version": "1.2.0",
      "_view_name": "StyleView",
      "description_width": ""
     }
    },
    "e1a1f56340254819a94296f60eb2d379": {
     "model_module": "@jupyter-widgets/base",
     "model_name": "LayoutModel",
     "model_module_version": "1.2.0",
     "state": {
      "_model_module": "@jupyter-widgets/base",
      "_model_module_version": "1.2.0",
      "_model_name": "LayoutModel",
      "_view_count": null,
      "_view_module": "@jupyter-widgets/base",
      "_view_module_version": "1.2.0",
      "_view_name": "LayoutView",
      "align_content": null,
      "align_items": null,
      "align_self": null,
      "border": null,
      "bottom": null,
      "display": null,
      "flex": "2",
      "flex_flow": null,
      "grid_area": null,
      "grid_auto_columns": null,
      "grid_auto_flow": null,
      "grid_auto_rows": null,
      "grid_column": null,
      "grid_gap": null,
      "grid_row": null,
      "grid_template_areas": null,
      "grid_template_columns": null,
      "grid_template_rows": null,
      "height": null,
      "justify_content": null,
      "justify_items": null,
      "left": null,
      "margin": null,
      "max_height": null,
      "max_width": null,
      "min_height": null,
      "min_width": null,
      "object_fit": null,
      "object_position": null,
      "order": null,
      "overflow": null,
      "overflow_x": null,
      "overflow_y": null,
      "padding": null,
      "right": null,
      "top": null,
      "visibility": null,
      "width": null
     }
    },
    "89931a7b7e934ca5ae6da1e0b8739a21": {
     "model_module": "@jupyter-widgets/controls",
     "model_name": "ProgressStyleModel",
     "model_module_version": "1.5.0",
     "state": {
      "_model_module": "@jupyter-widgets/controls",
      "_model_module_version": "1.5.0",
      "_model_name": "ProgressStyleModel",
      "_view_count": null,
      "_view_module": "@jupyter-widgets/base",
      "_view_module_version": "1.2.0",
      "_view_name": "StyleView",
      "bar_color": null,
      "description_width": ""
     }
    },
    "81313e8656fb4101ae39c09152a10f11": {
     "model_module": "@jupyter-widgets/base",
     "model_name": "LayoutModel",
     "model_module_version": "1.2.0",
     "state": {
      "_model_module": "@jupyter-widgets/base",
      "_model_module_version": "1.2.0",
      "_model_name": "LayoutModel",
      "_view_count": null,
      "_view_module": "@jupyter-widgets/base",
      "_view_module_version": "1.2.0",
      "_view_name": "LayoutView",
      "align_content": null,
      "align_items": null,
      "align_self": null,
      "border": null,
      "bottom": null,
      "display": null,
      "flex": null,
      "flex_flow": null,
      "grid_area": null,
      "grid_auto_columns": null,
      "grid_auto_flow": null,
      "grid_auto_rows": null,
      "grid_column": null,
      "grid_gap": null,
      "grid_row": null,
      "grid_template_areas": null,
      "grid_template_columns": null,
      "grid_template_rows": null,
      "height": null,
      "justify_content": null,
      "justify_items": null,
      "left": null,
      "margin": null,
      "max_height": null,
      "max_width": null,
      "min_height": null,
      "min_width": null,
      "object_fit": null,
      "object_position": null,
      "order": null,
      "overflow": null,
      "overflow_x": null,
      "overflow_y": null,
      "padding": null,
      "right": null,
      "top": null,
      "visibility": null,
      "width": null
     }
    },
    "2194d658f3c54286b58b10a288dafb82": {
     "model_module": "@jupyter-widgets/controls",
     "model_name": "DescriptionStyleModel",
     "model_module_version": "1.5.0",
     "state": {
      "_model_module": "@jupyter-widgets/controls",
      "_model_module_version": "1.5.0",
      "_model_name": "DescriptionStyleModel",
      "_view_count": null,
      "_view_module": "@jupyter-widgets/base",
      "_view_module_version": "1.2.0",
      "_view_name": "StyleView",
      "description_width": ""
     }
    },
    "45d2d26a204748489e9724bef639782b": {
     "model_module": "@jupyter-widgets/controls",
     "model_name": "HBoxModel",
     "model_module_version": "1.5.0",
     "state": {
      "_dom_classes": [],
      "_model_module": "@jupyter-widgets/controls",
      "_model_module_version": "1.5.0",
      "_model_name": "HBoxModel",
      "_view_count": null,
      "_view_module": "@jupyter-widgets/controls",
      "_view_module_version": "1.5.0",
      "_view_name": "HBoxView",
      "box_style": "",
      "children": [
       "IPY_MODEL_94a4261dae4d479583e2ad9aa96957ef",
       "IPY_MODEL_c89b7b44b6db4426b4a2e6f75789b92d",
       "IPY_MODEL_6cbbbe41c3554d20b59190f170cb098f"
      ],
      "layout": "IPY_MODEL_5de0fa7183964086b49c138adfbbd82e"
     }
    },
    "94a4261dae4d479583e2ad9aa96957ef": {
     "model_module": "@jupyter-widgets/controls",
     "model_name": "HTMLModel",
     "model_module_version": "1.5.0",
     "state": {
      "_dom_classes": [],
      "_model_module": "@jupyter-widgets/controls",
      "_model_module_version": "1.5.0",
      "_model_name": "HTMLModel",
      "_view_count": null,
      "_view_module": "@jupyter-widgets/controls",
      "_view_module_version": "1.5.0",
      "_view_name": "HTMLView",
      "description": "",
      "description_tooltip": null,
      "layout": "IPY_MODEL_68aa8cc699fc4d9396c960a8bccb725f",
      "placeholder": "​",
      "style": "IPY_MODEL_f2a17474a4f749b09458cf736cfe335d",
      "value": "Predicting DataLoader 0: 100%"
     }
    },
    "c89b7b44b6db4426b4a2e6f75789b92d": {
     "model_module": "@jupyter-widgets/controls",
     "model_name": "FloatProgressModel",
     "model_module_version": "1.5.0",
     "state": {
      "_dom_classes": [],
      "_model_module": "@jupyter-widgets/controls",
      "_model_module_version": "1.5.0",
      "_model_name": "FloatProgressModel",
      "_view_count": null,
      "_view_module": "@jupyter-widgets/controls",
      "_view_module_version": "1.5.0",
      "_view_name": "ProgressView",
      "bar_style": "success",
      "description": "",
      "description_tooltip": null,
      "layout": "IPY_MODEL_c67cea59930b46e791ec36428e0efc3b",
      "max": 1,
      "min": 0,
      "orientation": "horizontal",
      "style": "IPY_MODEL_d0c4d99c3d5a4c39899e77b717a9589d",
      "value": 1
     }
    },
    "6cbbbe41c3554d20b59190f170cb098f": {
     "model_module": "@jupyter-widgets/controls",
     "model_name": "HTMLModel",
     "model_module_version": "1.5.0",
     "state": {
      "_dom_classes": [],
      "_model_module": "@jupyter-widgets/controls",
      "_model_module_version": "1.5.0",
      "_model_name": "HTMLModel",
      "_view_count": null,
      "_view_module": "@jupyter-widgets/controls",
      "_view_module_version": "1.5.0",
      "_view_name": "HTMLView",
      "description": "",
      "description_tooltip": null,
      "layout": "IPY_MODEL_dff83c44b4a34b3a8cd8602153985c3f",
      "placeholder": "​",
      "style": "IPY_MODEL_826c78fb1e6c44558186e8fd86dcf703",
      "value": " 1/1 [00:00&lt;00:00,  6.39it/s]"
     }
    },
    "5de0fa7183964086b49c138adfbbd82e": {
     "model_module": "@jupyter-widgets/base",
     "model_name": "LayoutModel",
     "model_module_version": "1.2.0",
     "state": {
      "_model_module": "@jupyter-widgets/base",
      "_model_module_version": "1.2.0",
      "_model_name": "LayoutModel",
      "_view_count": null,
      "_view_module": "@jupyter-widgets/base",
      "_view_module_version": "1.2.0",
      "_view_name": "LayoutView",
      "align_content": null,
      "align_items": null,
      "align_self": null,
      "border": null,
      "bottom": null,
      "display": "inline-flex",
      "flex": null,
      "flex_flow": "row wrap",
      "grid_area": null,
      "grid_auto_columns": null,
      "grid_auto_flow": null,
      "grid_auto_rows": null,
      "grid_column": null,
      "grid_gap": null,
      "grid_row": null,
      "grid_template_areas": null,
      "grid_template_columns": null,
      "grid_template_rows": null,
      "height": null,
      "justify_content": null,
      "justify_items": null,
      "left": null,
      "margin": null,
      "max_height": null,
      "max_width": null,
      "min_height": null,
      "min_width": null,
      "object_fit": null,
      "object_position": null,
      "order": null,
      "overflow": null,
      "overflow_x": null,
      "overflow_y": null,
      "padding": null,
      "right": null,
      "top": null,
      "visibility": null,
      "width": "100%"
     }
    },
    "68aa8cc699fc4d9396c960a8bccb725f": {
     "model_module": "@jupyter-widgets/base",
     "model_name": "LayoutModel",
     "model_module_version": "1.2.0",
     "state": {
      "_model_module": "@jupyter-widgets/base",
      "_model_module_version": "1.2.0",
      "_model_name": "LayoutModel",
      "_view_count": null,
      "_view_module": "@jupyter-widgets/base",
      "_view_module_version": "1.2.0",
      "_view_name": "LayoutView",
      "align_content": null,
      "align_items": null,
      "align_self": null,
      "border": null,
      "bottom": null,
      "display": null,
      "flex": null,
      "flex_flow": null,
      "grid_area": null,
      "grid_auto_columns": null,
      "grid_auto_flow": null,
      "grid_auto_rows": null,
      "grid_column": null,
      "grid_gap": null,
      "grid_row": null,
      "grid_template_areas": null,
      "grid_template_columns": null,
      "grid_template_rows": null,
      "height": null,
      "justify_content": null,
      "justify_items": null,
      "left": null,
      "margin": null,
      "max_height": null,
      "max_width": null,
      "min_height": null,
      "min_width": null,
      "object_fit": null,
      "object_position": null,
      "order": null,
      "overflow": null,
      "overflow_x": null,
      "overflow_y": null,
      "padding": null,
      "right": null,
      "top": null,
      "visibility": null,
      "width": null
     }
    },
    "f2a17474a4f749b09458cf736cfe335d": {
     "model_module": "@jupyter-widgets/controls",
     "model_name": "DescriptionStyleModel",
     "model_module_version": "1.5.0",
     "state": {
      "_model_module": "@jupyter-widgets/controls",
      "_model_module_version": "1.5.0",
      "_model_name": "DescriptionStyleModel",
      "_view_count": null,
      "_view_module": "@jupyter-widgets/base",
      "_view_module_version": "1.2.0",
      "_view_name": "StyleView",
      "description_width": ""
     }
    },
    "c67cea59930b46e791ec36428e0efc3b": {
     "model_module": "@jupyter-widgets/base",
     "model_name": "LayoutModel",
     "model_module_version": "1.2.0",
     "state": {
      "_model_module": "@jupyter-widgets/base",
      "_model_module_version": "1.2.0",
      "_model_name": "LayoutModel",
      "_view_count": null,
      "_view_module": "@jupyter-widgets/base",
      "_view_module_version": "1.2.0",
      "_view_name": "LayoutView",
      "align_content": null,
      "align_items": null,
      "align_self": null,
      "border": null,
      "bottom": null,
      "display": null,
      "flex": "2",
      "flex_flow": null,
      "grid_area": null,
      "grid_auto_columns": null,
      "grid_auto_flow": null,
      "grid_auto_rows": null,
      "grid_column": null,
      "grid_gap": null,
      "grid_row": null,
      "grid_template_areas": null,
      "grid_template_columns": null,
      "grid_template_rows": null,
      "height": null,
      "justify_content": null,
      "justify_items": null,
      "left": null,
      "margin": null,
      "max_height": null,
      "max_width": null,
      "min_height": null,
      "min_width": null,
      "object_fit": null,
      "object_position": null,
      "order": null,
      "overflow": null,
      "overflow_x": null,
      "overflow_y": null,
      "padding": null,
      "right": null,
      "top": null,
      "visibility": null,
      "width": null
     }
    },
    "d0c4d99c3d5a4c39899e77b717a9589d": {
     "model_module": "@jupyter-widgets/controls",
     "model_name": "ProgressStyleModel",
     "model_module_version": "1.5.0",
     "state": {
      "_model_module": "@jupyter-widgets/controls",
      "_model_module_version": "1.5.0",
      "_model_name": "ProgressStyleModel",
      "_view_count": null,
      "_view_module": "@jupyter-widgets/base",
      "_view_module_version": "1.2.0",
      "_view_name": "StyleView",
      "bar_color": null,
      "description_width": ""
     }
    },
    "dff83c44b4a34b3a8cd8602153985c3f": {
     "model_module": "@jupyter-widgets/base",
     "model_name": "LayoutModel",
     "model_module_version": "1.2.0",
     "state": {
      "_model_module": "@jupyter-widgets/base",
      "_model_module_version": "1.2.0",
      "_model_name": "LayoutModel",
      "_view_count": null,
      "_view_module": "@jupyter-widgets/base",
      "_view_module_version": "1.2.0",
      "_view_name": "LayoutView",
      "align_content": null,
      "align_items": null,
      "align_self": null,
      "border": null,
      "bottom": null,
      "display": null,
      "flex": null,
      "flex_flow": null,
      "grid_area": null,
      "grid_auto_columns": null,
      "grid_auto_flow": null,
      "grid_auto_rows": null,
      "grid_column": null,
      "grid_gap": null,
      "grid_row": null,
      "grid_template_areas": null,
      "grid_template_columns": null,
      "grid_template_rows": null,
      "height": null,
      "justify_content": null,
      "justify_items": null,
      "left": null,
      "margin": null,
      "max_height": null,
      "max_width": null,
      "min_height": null,
      "min_width": null,
      "object_fit": null,
      "object_position": null,
      "order": null,
      "overflow": null,
      "overflow_x": null,
      "overflow_y": null,
      "padding": null,
      "right": null,
      "top": null,
      "visibility": null,
      "width": null
     }
    },
    "826c78fb1e6c44558186e8fd86dcf703": {
     "model_module": "@jupyter-widgets/controls",
     "model_name": "DescriptionStyleModel",
     "model_module_version": "1.5.0",
     "state": {
      "_model_module": "@jupyter-widgets/controls",
      "_model_module_version": "1.5.0",
      "_model_name": "DescriptionStyleModel",
      "_view_count": null,
      "_view_module": "@jupyter-widgets/base",
      "_view_module_version": "1.2.0",
      "_view_name": "StyleView",
      "description_width": ""
     }
    },
    "740b467c30a44f4489e2fdf0ab2e6843": {
     "model_module": "@jupyter-widgets/controls",
     "model_name": "HBoxModel",
     "model_module_version": "1.5.0",
     "state": {
      "_dom_classes": [],
      "_model_module": "@jupyter-widgets/controls",
      "_model_module_version": "1.5.0",
      "_model_name": "HBoxModel",
      "_view_count": null,
      "_view_module": "@jupyter-widgets/controls",
      "_view_module_version": "1.5.0",
      "_view_name": "HBoxView",
      "box_style": "",
      "children": [
       "IPY_MODEL_dd34fb7396ac4b3287072fbcff7c9992",
       "IPY_MODEL_214f89b9c1f347b791291c2ed695d419",
       "IPY_MODEL_0a0fa7c6a30742eb99548b51a1e46c5d"
      ],
      "layout": "IPY_MODEL_fdd08bb333a54d1185f665332846471a"
     }
    },
    "dd34fb7396ac4b3287072fbcff7c9992": {
     "model_module": "@jupyter-widgets/controls",
     "model_name": "HTMLModel",
     "model_module_version": "1.5.0",
     "state": {
      "_dom_classes": [],
      "_model_module": "@jupyter-widgets/controls",
      "_model_module_version": "1.5.0",
      "_model_name": "HTMLModel",
      "_view_count": null,
      "_view_module": "@jupyter-widgets/controls",
      "_view_module_version": "1.5.0",
      "_view_name": "HTMLView",
      "description": "",
      "description_tooltip": null,
      "layout": "IPY_MODEL_2d3be07ab881471b9d3f4acf9acd519c",
      "placeholder": "​",
      "style": "IPY_MODEL_530ca05bb4ab43d8b07d8afb792bb79f",
      "value": "Sanity Checking DataLoader 0: 100%"
     }
    },
    "214f89b9c1f347b791291c2ed695d419": {
     "model_module": "@jupyter-widgets/controls",
     "model_name": "FloatProgressModel",
     "model_module_version": "1.5.0",
     "state": {
      "_dom_classes": [],
      "_model_module": "@jupyter-widgets/controls",
      "_model_module_version": "1.5.0",
      "_model_name": "FloatProgressModel",
      "_view_count": null,
      "_view_module": "@jupyter-widgets/controls",
      "_view_module_version": "1.5.0",
      "_view_name": "ProgressView",
      "bar_style": "",
      "description": "",
      "description_tooltip": null,
      "layout": "IPY_MODEL_c483762a4b864afb9d27be098bc11f2d",
      "max": 1,
      "min": 0,
      "orientation": "horizontal",
      "style": "IPY_MODEL_d577874a8e4e457dbf6b790f60f069a7",
      "value": 1
     }
    },
    "0a0fa7c6a30742eb99548b51a1e46c5d": {
     "model_module": "@jupyter-widgets/controls",
     "model_name": "HTMLModel",
     "model_module_version": "1.5.0",
     "state": {
      "_dom_classes": [],
      "_model_module": "@jupyter-widgets/controls",
      "_model_module_version": "1.5.0",
      "_model_name": "HTMLModel",
      "_view_count": null,
      "_view_module": "@jupyter-widgets/controls",
      "_view_module_version": "1.5.0",
      "_view_name": "HTMLView",
      "description": "",
      "description_tooltip": null,
      "layout": "IPY_MODEL_a4552168b5aa49ec878e0261edcba7f2",
      "placeholder": "​",
      "style": "IPY_MODEL_d9309798dd794e90bdc3fc7c72707cff",
      "value": " 1/1 [00:00&lt;00:00, 214.98it/s]"
     }
    },
    "fdd08bb333a54d1185f665332846471a": {
     "model_module": "@jupyter-widgets/base",
     "model_name": "LayoutModel",
     "model_module_version": "1.2.0",
     "state": {
      "_model_module": "@jupyter-widgets/base",
      "_model_module_version": "1.2.0",
      "_model_name": "LayoutModel",
      "_view_count": null,
      "_view_module": "@jupyter-widgets/base",
      "_view_module_version": "1.2.0",
      "_view_name": "LayoutView",
      "align_content": null,
      "align_items": null,
      "align_self": null,
      "border": null,
      "bottom": null,
      "display": "inline-flex",
      "flex": null,
      "flex_flow": "row wrap",
      "grid_area": null,
      "grid_auto_columns": null,
      "grid_auto_flow": null,
      "grid_auto_rows": null,
      "grid_column": null,
      "grid_gap": null,
      "grid_row": null,
      "grid_template_areas": null,
      "grid_template_columns": null,
      "grid_template_rows": null,
      "height": null,
      "justify_content": null,
      "justify_items": null,
      "left": null,
      "margin": null,
      "max_height": null,
      "max_width": null,
      "min_height": null,
      "min_width": null,
      "object_fit": null,
      "object_position": null,
      "order": null,
      "overflow": null,
      "overflow_x": null,
      "overflow_y": null,
      "padding": null,
      "right": null,
      "top": null,
      "visibility": "hidden",
      "width": "100%"
     }
    },
    "2d3be07ab881471b9d3f4acf9acd519c": {
     "model_module": "@jupyter-widgets/base",
     "model_name": "LayoutModel",
     "model_module_version": "1.2.0",
     "state": {
      "_model_module": "@jupyter-widgets/base",
      "_model_module_version": "1.2.0",
      "_model_name": "LayoutModel",
      "_view_count": null,
      "_view_module": "@jupyter-widgets/base",
      "_view_module_version": "1.2.0",
      "_view_name": "LayoutView",
      "align_content": null,
      "align_items": null,
      "align_self": null,
      "border": null,
      "bottom": null,
      "display": null,
      "flex": null,
      "flex_flow": null,
      "grid_area": null,
      "grid_auto_columns": null,
      "grid_auto_flow": null,
      "grid_auto_rows": null,
      "grid_column": null,
      "grid_gap": null,
      "grid_row": null,
      "grid_template_areas": null,
      "grid_template_columns": null,
      "grid_template_rows": null,
      "height": null,
      "justify_content": null,
      "justify_items": null,
      "left": null,
      "margin": null,
      "max_height": null,
      "max_width": null,
      "min_height": null,
      "min_width": null,
      "object_fit": null,
      "object_position": null,
      "order": null,
      "overflow": null,
      "overflow_x": null,
      "overflow_y": null,
      "padding": null,
      "right": null,
      "top": null,
      "visibility": null,
      "width": null
     }
    },
    "530ca05bb4ab43d8b07d8afb792bb79f": {
     "model_module": "@jupyter-widgets/controls",
     "model_name": "DescriptionStyleModel",
     "model_module_version": "1.5.0",
     "state": {
      "_model_module": "@jupyter-widgets/controls",
      "_model_module_version": "1.5.0",
      "_model_name": "DescriptionStyleModel",
      "_view_count": null,
      "_view_module": "@jupyter-widgets/base",
      "_view_module_version": "1.2.0",
      "_view_name": "StyleView",
      "description_width": ""
     }
    },
    "c483762a4b864afb9d27be098bc11f2d": {
     "model_module": "@jupyter-widgets/base",
     "model_name": "LayoutModel",
     "model_module_version": "1.2.0",
     "state": {
      "_model_module": "@jupyter-widgets/base",
      "_model_module_version": "1.2.0",
      "_model_name": "LayoutModel",
      "_view_count": null,
      "_view_module": "@jupyter-widgets/base",
      "_view_module_version": "1.2.0",
      "_view_name": "LayoutView",
      "align_content": null,
      "align_items": null,
      "align_self": null,
      "border": null,
      "bottom": null,
      "display": null,
      "flex": "2",
      "flex_flow": null,
      "grid_area": null,
      "grid_auto_columns": null,
      "grid_auto_flow": null,
      "grid_auto_rows": null,
      "grid_column": null,
      "grid_gap": null,
      "grid_row": null,
      "grid_template_areas": null,
      "grid_template_columns": null,
      "grid_template_rows": null,
      "height": null,
      "justify_content": null,
      "justify_items": null,
      "left": null,
      "margin": null,
      "max_height": null,
      "max_width": null,
      "min_height": null,
      "min_width": null,
      "object_fit": null,
      "object_position": null,
      "order": null,
      "overflow": null,
      "overflow_x": null,
      "overflow_y": null,
      "padding": null,
      "right": null,
      "top": null,
      "visibility": null,
      "width": null
     }
    },
    "d577874a8e4e457dbf6b790f60f069a7": {
     "model_module": "@jupyter-widgets/controls",
     "model_name": "ProgressStyleModel",
     "model_module_version": "1.5.0",
     "state": {
      "_model_module": "@jupyter-widgets/controls",
      "_model_module_version": "1.5.0",
      "_model_name": "ProgressStyleModel",
      "_view_count": null,
      "_view_module": "@jupyter-widgets/base",
      "_view_module_version": "1.2.0",
      "_view_name": "StyleView",
      "bar_color": null,
      "description_width": ""
     }
    },
    "a4552168b5aa49ec878e0261edcba7f2": {
     "model_module": "@jupyter-widgets/base",
     "model_name": "LayoutModel",
     "model_module_version": "1.2.0",
     "state": {
      "_model_module": "@jupyter-widgets/base",
      "_model_module_version": "1.2.0",
      "_model_name": "LayoutModel",
      "_view_count": null,
      "_view_module": "@jupyter-widgets/base",
      "_view_module_version": "1.2.0",
      "_view_name": "LayoutView",
      "align_content": null,
      "align_items": null,
      "align_self": null,
      "border": null,
      "bottom": null,
      "display": null,
      "flex": null,
      "flex_flow": null,
      "grid_area": null,
      "grid_auto_columns": null,
      "grid_auto_flow": null,
      "grid_auto_rows": null,
      "grid_column": null,
      "grid_gap": null,
      "grid_row": null,
      "grid_template_areas": null,
      "grid_template_columns": null,
      "grid_template_rows": null,
      "height": null,
      "justify_content": null,
      "justify_items": null,
      "left": null,
      "margin": null,
      "max_height": null,
      "max_width": null,
      "min_height": null,
      "min_width": null,
      "object_fit": null,
      "object_position": null,
      "order": null,
      "overflow": null,
      "overflow_x": null,
      "overflow_y": null,
      "padding": null,
      "right": null,
      "top": null,
      "visibility": null,
      "width": null
     }
    },
    "d9309798dd794e90bdc3fc7c72707cff": {
     "model_module": "@jupyter-widgets/controls",
     "model_name": "DescriptionStyleModel",
     "model_module_version": "1.5.0",
     "state": {
      "_model_module": "@jupyter-widgets/controls",
      "_model_module_version": "1.5.0",
      "_model_name": "DescriptionStyleModel",
      "_view_count": null,
      "_view_module": "@jupyter-widgets/base",
      "_view_module_version": "1.2.0",
      "_view_name": "StyleView",
      "description_width": ""
     }
    },
    "852a6a4794264907b678f164e4beade3": {
     "model_module": "@jupyter-widgets/controls",
     "model_name": "HBoxModel",
     "model_module_version": "1.5.0",
     "state": {
      "_dom_classes": [],
      "_model_module": "@jupyter-widgets/controls",
      "_model_module_version": "1.5.0",
      "_model_name": "HBoxModel",
      "_view_count": null,
      "_view_module": "@jupyter-widgets/controls",
      "_view_module_version": "1.5.0",
      "_view_name": "HBoxView",
      "box_style": "",
      "children": [
       "IPY_MODEL_42af410b3df14785ac65f1cc3c2bc368",
       "IPY_MODEL_90205c9f7788459abaa7517456e24006",
       "IPY_MODEL_c0e3a2c8ad664af593a4e0358835e9e3"
      ],
      "layout": "IPY_MODEL_4eb2120131f34cf6a0c04e89c9098f9d"
     }
    },
    "42af410b3df14785ac65f1cc3c2bc368": {
     "model_module": "@jupyter-widgets/controls",
     "model_name": "HTMLModel",
     "model_module_version": "1.5.0",
     "state": {
      "_dom_classes": [],
      "_model_module": "@jupyter-widgets/controls",
      "_model_module_version": "1.5.0",
      "_model_name": "HTMLModel",
      "_view_count": null,
      "_view_module": "@jupyter-widgets/controls",
      "_view_module_version": "1.5.0",
      "_view_name": "HTMLView",
      "description": "",
      "description_tooltip": null,
      "layout": "IPY_MODEL_c960a960ab5d433f920d6c07e65f1555",
      "placeholder": "​",
      "style": "IPY_MODEL_7a2d9fb324de4319be0171aae69c26f1",
      "value": "Epoch 49: 100%"
     }
    },
    "90205c9f7788459abaa7517456e24006": {
     "model_module": "@jupyter-widgets/controls",
     "model_name": "FloatProgressModel",
     "model_module_version": "1.5.0",
     "state": {
      "_dom_classes": [],
      "_model_module": "@jupyter-widgets/controls",
      "_model_module_version": "1.5.0",
      "_model_name": "FloatProgressModel",
      "_view_count": null,
      "_view_module": "@jupyter-widgets/controls",
      "_view_module_version": "1.5.0",
      "_view_name": "ProgressView",
      "bar_style": "success",
      "description": "",
      "description_tooltip": null,
      "layout": "IPY_MODEL_a812964129fa4dd38291aee2ca2404b2",
      "max": 1,
      "min": 0,
      "orientation": "horizontal",
      "style": "IPY_MODEL_342c7dd79b63498b8d91dc91ac2f3c16",
      "value": 1
     }
    },
    "c0e3a2c8ad664af593a4e0358835e9e3": {
     "model_module": "@jupyter-widgets/controls",
     "model_name": "HTMLModel",
     "model_module_version": "1.5.0",
     "state": {
      "_dom_classes": [],
      "_model_module": "@jupyter-widgets/controls",
      "_model_module_version": "1.5.0",
      "_model_name": "HTMLModel",
      "_view_count": null,
      "_view_module": "@jupyter-widgets/controls",
      "_view_module_version": "1.5.0",
      "_view_name": "HTMLView",
      "description": "",
      "description_tooltip": null,
      "layout": "IPY_MODEL_94ac99290c5647669b4754473408b655",
      "placeholder": "​",
      "style": "IPY_MODEL_d975297cad6f45f1a15688c32b80d90d",
      "value": " 1/1 [00:01&lt;00:00,  0.74it/s, v_num=2, train_loss_step=3.160, train_loss_epoch=3.160]"
     }
    },
    "4eb2120131f34cf6a0c04e89c9098f9d": {
     "model_module": "@jupyter-widgets/base",
     "model_name": "LayoutModel",
     "model_module_version": "1.2.0",
     "state": {
      "_model_module": "@jupyter-widgets/base",
      "_model_module_version": "1.2.0",
      "_model_name": "LayoutModel",
      "_view_count": null,
      "_view_module": "@jupyter-widgets/base",
      "_view_module_version": "1.2.0",
      "_view_name": "LayoutView",
      "align_content": null,
      "align_items": null,
      "align_self": null,
      "border": null,
      "bottom": null,
      "display": "inline-flex",
      "flex": null,
      "flex_flow": "row wrap",
      "grid_area": null,
      "grid_auto_columns": null,
      "grid_auto_flow": null,
      "grid_auto_rows": null,
      "grid_column": null,
      "grid_gap": null,
      "grid_row": null,
      "grid_template_areas": null,
      "grid_template_columns": null,
      "grid_template_rows": null,
      "height": null,
      "justify_content": null,
      "justify_items": null,
      "left": null,
      "margin": null,
      "max_height": null,
      "max_width": null,
      "min_height": null,
      "min_width": null,
      "object_fit": null,
      "object_position": null,
      "order": null,
      "overflow": null,
      "overflow_x": null,
      "overflow_y": null,
      "padding": null,
      "right": null,
      "top": null,
      "visibility": null,
      "width": "100%"
     }
    },
    "c960a960ab5d433f920d6c07e65f1555": {
     "model_module": "@jupyter-widgets/base",
     "model_name": "LayoutModel",
     "model_module_version": "1.2.0",
     "state": {
      "_model_module": "@jupyter-widgets/base",
      "_model_module_version": "1.2.0",
      "_model_name": "LayoutModel",
      "_view_count": null,
      "_view_module": "@jupyter-widgets/base",
      "_view_module_version": "1.2.0",
      "_view_name": "LayoutView",
      "align_content": null,
      "align_items": null,
      "align_self": null,
      "border": null,
      "bottom": null,
      "display": null,
      "flex": null,
      "flex_flow": null,
      "grid_area": null,
      "grid_auto_columns": null,
      "grid_auto_flow": null,
      "grid_auto_rows": null,
      "grid_column": null,
      "grid_gap": null,
      "grid_row": null,
      "grid_template_areas": null,
      "grid_template_columns": null,
      "grid_template_rows": null,
      "height": null,
      "justify_content": null,
      "justify_items": null,
      "left": null,
      "margin": null,
      "max_height": null,
      "max_width": null,
      "min_height": null,
      "min_width": null,
      "object_fit": null,
      "object_position": null,
      "order": null,
      "overflow": null,
      "overflow_x": null,
      "overflow_y": null,
      "padding": null,
      "right": null,
      "top": null,
      "visibility": null,
      "width": null
     }
    },
    "7a2d9fb324de4319be0171aae69c26f1": {
     "model_module": "@jupyter-widgets/controls",
     "model_name": "DescriptionStyleModel",
     "model_module_version": "1.5.0",
     "state": {
      "_model_module": "@jupyter-widgets/controls",
      "_model_module_version": "1.5.0",
      "_model_name": "DescriptionStyleModel",
      "_view_count": null,
      "_view_module": "@jupyter-widgets/base",
      "_view_module_version": "1.2.0",
      "_view_name": "StyleView",
      "description_width": ""
     }
    },
    "a812964129fa4dd38291aee2ca2404b2": {
     "model_module": "@jupyter-widgets/base",
     "model_name": "LayoutModel",
     "model_module_version": "1.2.0",
     "state": {
      "_model_module": "@jupyter-widgets/base",
      "_model_module_version": "1.2.0",
      "_model_name": "LayoutModel",
      "_view_count": null,
      "_view_module": "@jupyter-widgets/base",
      "_view_module_version": "1.2.0",
      "_view_name": "LayoutView",
      "align_content": null,
      "align_items": null,
      "align_self": null,
      "border": null,
      "bottom": null,
      "display": null,
      "flex": "2",
      "flex_flow": null,
      "grid_area": null,
      "grid_auto_columns": null,
      "grid_auto_flow": null,
      "grid_auto_rows": null,
      "grid_column": null,
      "grid_gap": null,
      "grid_row": null,
      "grid_template_areas": null,
      "grid_template_columns": null,
      "grid_template_rows": null,
      "height": null,
      "justify_content": null,
      "justify_items": null,
      "left": null,
      "margin": null,
      "max_height": null,
      "max_width": null,
      "min_height": null,
      "min_width": null,
      "object_fit": null,
      "object_position": null,
      "order": null,
      "overflow": null,
      "overflow_x": null,
      "overflow_y": null,
      "padding": null,
      "right": null,
      "top": null,
      "visibility": null,
      "width": null
     }
    },
    "342c7dd79b63498b8d91dc91ac2f3c16": {
     "model_module": "@jupyter-widgets/controls",
     "model_name": "ProgressStyleModel",
     "model_module_version": "1.5.0",
     "state": {
      "_model_module": "@jupyter-widgets/controls",
      "_model_module_version": "1.5.0",
      "_model_name": "ProgressStyleModel",
      "_view_count": null,
      "_view_module": "@jupyter-widgets/base",
      "_view_module_version": "1.2.0",
      "_view_name": "StyleView",
      "bar_color": null,
      "description_width": ""
     }
    },
    "94ac99290c5647669b4754473408b655": {
     "model_module": "@jupyter-widgets/base",
     "model_name": "LayoutModel",
     "model_module_version": "1.2.0",
     "state": {
      "_model_module": "@jupyter-widgets/base",
      "_model_module_version": "1.2.0",
      "_model_name": "LayoutModel",
      "_view_count": null,
      "_view_module": "@jupyter-widgets/base",
      "_view_module_version": "1.2.0",
      "_view_name": "LayoutView",
      "align_content": null,
      "align_items": null,
      "align_self": null,
      "border": null,
      "bottom": null,
      "display": null,
      "flex": null,
      "flex_flow": null,
      "grid_area": null,
      "grid_auto_columns": null,
      "grid_auto_flow": null,
      "grid_auto_rows": null,
      "grid_column": null,
      "grid_gap": null,
      "grid_row": null,
      "grid_template_areas": null,
      "grid_template_columns": null,
      "grid_template_rows": null,
      "height": null,
      "justify_content": null,
      "justify_items": null,
      "left": null,
      "margin": null,
      "max_height": null,
      "max_width": null,
      "min_height": null,
      "min_width": null,
      "object_fit": null,
      "object_position": null,
      "order": null,
      "overflow": null,
      "overflow_x": null,
      "overflow_y": null,
      "padding": null,
      "right": null,
      "top": null,
      "visibility": null,
      "width": null
     }
    },
    "d975297cad6f45f1a15688c32b80d90d": {
     "model_module": "@jupyter-widgets/controls",
     "model_name": "DescriptionStyleModel",
     "model_module_version": "1.5.0",
     "state": {
      "_model_module": "@jupyter-widgets/controls",
      "_model_module_version": "1.5.0",
      "_model_name": "DescriptionStyleModel",
      "_view_count": null,
      "_view_module": "@jupyter-widgets/base",
      "_view_module_version": "1.2.0",
      "_view_name": "StyleView",
      "description_width": ""
     }
    }
   }
  }
 },
 "nbformat": 4,
 "nbformat_minor": 5
}
